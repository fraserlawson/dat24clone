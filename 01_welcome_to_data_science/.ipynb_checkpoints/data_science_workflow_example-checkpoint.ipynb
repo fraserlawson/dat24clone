{
 "cells": [
  {
   "cell_type": "markdown",
   "metadata": {},
   "source": [
    "# Application: Data Science Workflow Through Ames Data"
   ]
  },
  {
   "cell_type": "markdown",
   "metadata": {},
   "source": [
    "## Frame\n",
    "\n",
    "---\n",
    "\n",
    "- Identify the business/product objectives.\n",
    "- Identify and hypothesize goals and criteria for success.\n",
    "- Create a set of questions to help you identify the correct data set.\n",
    "\n",
    "We work for a real estate company interested in using data science to determine the best properties to buy and resell. Specifically, your company would like to identify the characteristics of residential houses that estimate their sale price and the cost-effectiveness of doing renovations.\n",
    "\n",
    "#### Identify the Business/Product Objectives\n",
    "The customer tells us their business goals are to accurately predict prices for houses (so that they can sell them for as large a profit as possible) and to identify which kinds of features in the housing market would be more likely to lead to foreclosure and other abnormal sales (which could represent more profitable sales for the company).\n",
    "\n",
    "#### Identify and Hypothesize Goals and Criteria for Success\n",
    "\n",
    "Ultimately, the customer wants us to:\n",
    "* Deliver a presentation to the real estate team.\n",
    "* Write a business report discussing results, procedures used, and rationales.\n",
    "* Build an API that provides estimated returns.\n",
    "\n",
    "#### Create a Set of Questions to Help You Identify the Correct Data Set\n",
    "\n",
    "* Can you think of questions that would help this customer deliver on their business goals? \n",
    "* What sort of features or columns would you want to see in the data?"
   ]
  },
  {
   "cell_type": "markdown",
   "metadata": {
    "slideshow": {
     "slide_type": "slide"
    }
   },
   "source": [
    "**Ideal Data vs. Available Data**  \n",
    "\n",
    "Oftentimes, we'll start by identifying the *ideal data* we would want for a project.\n",
    "\n",
    "Then, during the data acquisition phase, we'll learn about the limitations on the types of data actually available. We have to decide if these limitations will inhibit our ability to answer our question of interest or if we can work with what we have to find a reasonable and reliable answer.\n",
    "\n",
    "For example, we provide a set of housing data for Ames, Iowa, which [includes](./extra-materials/ames_data_documentation.txt):\n",
    "\n",
    "- 20 continuous variables indicating square footage.\n",
    "- 14 discrete variables indicating number of each room type.\n",
    "- 46 categorical variables containing 2–28 classes each, e.g., street type (gravel/paved) and neighborhood (city district name).\n",
    "\n",
    "---\n",
    "\n",
    "#### **Optional Check**\n",
    "\n",
    "Take a moment to look through the data description. How closely does the set match the ideal data that you envisioned? Would it be sufficient for our purposes? What limitations does it have?\n",
    "\n",
    "---\n",
    "\n",
    "This is possibly the hardest step in the data science workflow. At this stage, it's common to realize that the problem you're trying to solve may not be solvable with the information available. The data could be incomplete, non-existant, or unable to meet the criteria necessary to answer your question.  \n",
    "\n",
    "That said, you now have a better feel for the data that's available and the information they could contain. You can now identify a new, answerable question that ultimately helps you solve or better understand your problem."
   ]
  },
  {
   "cell_type": "markdown",
   "metadata": {
    "slideshow": {
     "slide_type": "slide"
    }
   },
   "source": [
    "### Data acquisition\n",
    "\n",
    "---\n",
    "\n",
    "- **What are some questions we should ask during the acquisition process?**\n",
    "\n",
    "- Our Ames data set contains the following information:\n",
    "    - [Ames Data Set Introduction PDF](./extra-materials/ames.pdf) (from the \"Journal of Statistics Education\")\n",
    "    - \"Data set contains information from the Ames Assessor’s Office used in computing assessed values for individual residential properties sold in Ames, IA from 2006 to 2010.\"\n",
    "\n",
    "### Data Quality\n",
    "\n",
    "---\n",
    "\n",
    "- **What are some questions we should ask when checking the data for quality?**\n",
    "  - [Ames Data Set Documentation](./extra-materials/ames_data_documentation.txt)"
   ]
  },
  {
   "cell_type": "markdown",
   "metadata": {},
   "source": [
    "##  Prepare\n",
    "\n",
    "---\n",
    "\n",
    "Often, we are given *secondary data*, or data that were collected previously. In these cases, we have to learn as much as possible about our data using tools like data dictionaries and source documentation to determine how the set was gathered.\n",
    "\n",
    "Here's an example of a data dictionary:\n",
    "\n",
    "Variable | Description | Type of Variable\n",
    "---| ---| ---\n",
    "Square Footage | Floating Point | Continuous\n",
    "Street Type | 1 - Gravel, 2 - Paved | Categorical\n",
    "Neighborhood | String, e.g., 'Tenderloin' | Categorical\n",
    "Number of Bedrooms | Integer | Discrete\n",
    "\n",
    "**Common considerations when preparing our data include:**  \n",
    "\n",
    "- **Ensuring data is clearly defined and structured**\n",
    "- **Check and clean data formatting as needed**\n",
    "\n",
    "**Common considerations for cleaning include**:\n",
    "\n",
    "- **Most data will **not** come perfectly clean and ready to use. Cleaning data is normally the most time-consuming task a data scientist faces.**\n",
    "\n",
    "---\n",
    "\n",
    "As you can see, the \"Prepare\" phase of the data science workflow encompasses several steps: the act of reviewing, indexing, and cleaning your data. This normally consumes a great deal of time!"
   ]
  },
  {
   "cell_type": "markdown",
   "metadata": {
    "slideshow": {
     "slide_type": "slide"
    }
   },
   "source": [
    "## Analyze\n",
    "\n",
    "---\n",
    "\n",
    "As an example of basic statistics, Data scientists often check the mean, standard deviation, or specific frequency counts of their data. Statistics that we might expect for the earlier housing variables include:\n",
    "\n",
    "Variable | Mean or Frequency (%)\n",
    "---| ---\n",
    "Square Footage | 2201.3\n",
    "Street Type - Gravel | 8%\n",
    "Street Type - Paved | 92%\n",
    "Number of Bedrooms | 1.8\n",
    "\n",
    "**What sort of questions do these types of statistics allow us to answer? Why would we do this?**\n",
    "\n",
    "### Creating a Predictive Model \n",
    "\n",
    "Typically, our interest is in predicting or guessing some sort of value we might be interested in (such as the housing price for a house given some set of fixed characteristics). \n",
    "\n",
    "**What are some other business goals we can support as data scientists for this realty company? What are some values we would like to guess?*\n",
    "\n",
    "**What do you think are the steps for model building?**\n",
    "\n",
    "_We'll be spending much of our time in this course on data analysis and predictive modeling._"
   ]
  },
  {
   "cell_type": "markdown",
   "metadata": {
    "slideshow": {
     "slide_type": "slide"
    }
   },
   "source": [
    "## Interpret\n",
    "\n",
    "---\n",
    "\n",
    "### Develop Recommendations and Decisions\n",
    "\n",
    "**Now that you have a model, what are some things you should check?**\n",
    "\n",
    "**Now that you have a model, can you convert your model's finding into a conclusion or next step for your employer?**"
   ]
  },
  {
   "cell_type": "markdown",
   "metadata": {
    "slideshow": {
     "slide_type": "slide"
    }
   },
   "source": [
    "## Communicate\n",
    "\n",
    "---\n",
    "\n",
    "#### Share the Results of Your Analysis  \n",
    "\n",
    "Presentations are a critical part of your analysis. It doesn't matter how brilliant your model is or how illuminating your findings are — without effective communication, your work will not be used.\n",
    "\n",
    "The most basic form of a data science presentation should include a simple sentence that describes your results:\n",
    "\n",
    "_\"Customers from large companies had twice (CI 1.9, 2.1) the odds for placing another order with Planet Express compared to customers from small companies.\"_\n",
    "\n",
    "Data science presentations can also be far more complex and exciting, like some of the [research presented by Nate Silver's FiveThirtyEight blog](http://fivethirtyeight.com/burrito/#brackets-view).\n",
    "\n",
    "When crafting a presentation, always consider your audience and make sure to practice your presentation beforehand. Consider the types of questions people might ask or — better yet — test your presentation on a few people and pay attention to their response. Clarify and refine your presentation accordingly.\n",
    "\n",
    "Make sure to consider your needs and goals, as well as those of your audience. A presentation created for your fellow data scientists will be vastly different than a presentation intended for executives trying to make a business decision."
   ]
  },
  {
   "cell_type": "markdown",
   "metadata": {
    "slideshow": {
     "slide_type": "slide"
    }
   },
   "source": [
    "**A Note About Iteration**\n",
    "\n",
    "Iteration is an important part of *every step* in the data science workflow. At any given point in the process, you may find yourself repeating or going back and redoing steps in order to better understand your data, clarify your model, and refine your presentation.\n",
    "\n",
    "**What are some things you may want to redo or iterate over after presenting your findings?**"
   ]
  },
  {
   "cell_type": "markdown",
   "metadata": {},
   "source": [
    "<a id=\"summary1\"></a>\n",
    "# Summary\n",
    "\n",
    "---\n",
    "\n",
    "1) **Crafting good questions is key.** <br>\n",
    "  - Without a thoughtful and targeted question, it can be difficult to create an effective model.\n",
    "  \n",
    "2) **Use the data science workflow to iteratively develop solutions.** <br>\n",
    "  - **Frame**: Develop a hypothesis-driven approach to your analysis.\n",
    "  - **Prepare**: Select, import, explore, and clean your data.\n",
    "  - **Analyze**: Structure, visualize, and complete your analysis.\n",
    "  - **Interpret**: Derive recommendations and business decisions from your data.\n",
    "  - **Communicate**: Present (edited) insights from your data to different audiences.\n",
    "\n",
    "3) **Informed by your past work, continue to refine your findings and models.** <br>\n",
    "  - While the data science workflow may appear to be linear, we consistently return to past steps to implement new findings"
   ]
  }
 ],
 "metadata": {
  "celltoolbar": "Slideshow",
  "kernelspec": {
   "display_name": "Python 2",
   "language": "python",
   "name": "python2"
  },
  "language_info": {
   "codemirror_mode": {
    "name": "ipython",
    "version": 2
   },
   "file_extension": ".py",
   "mimetype": "text/x-python",
   "name": "python",
   "nbconvert_exporter": "python",
   "pygments_lexer": "ipython2",
   "version": "2.7.13"
  }
 },
 "nbformat": 4,
 "nbformat_minor": 2
}
