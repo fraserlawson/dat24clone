{
 "cells": [
  {
   "cell_type": "markdown",
   "metadata": {
    "slideshow": {
     "slide_type": "slide"
    }
   },
   "source": [
    "#### <img src=\"http://imgur.com/1ZcRyrc.png\" style=\"float: left; margin: 20px; height: 55px\">\n",
    "\n",
    "# Welcome to the course! `#DAT24`"
   ]
  },
  {
   "cell_type": "markdown",
   "metadata": {
    "slideshow": {
     "slide_type": "subslide"
    }
   },
   "source": [
    "# Introductions"
   ]
  },
  {
   "cell_type": "markdown",
   "metadata": {
    "slideshow": {
     "slide_type": "subslide"
    }
   },
   "source": [
    "## Your Instructor Team\n",
    "\n",
    "Instructor: Brian O'Halloran\n",
    "\n",
    "Teaching Assistants: Jasmine Pengelly & Anna Jones"
   ]
  },
  {
   "cell_type": "markdown",
   "metadata": {
    "slideshow": {
     "slide_type": "slide"
    }
   },
   "source": [
    "## Course Information\n",
    "    \n",
    "- GA is a global community of individuals and organizations empowered to pursue the work we love.\n",
    "\n",
    "- How to provide feedback: exit tickets, mid-course survey, and end-of-course survey. We want to hear from you!"
   ]
  },
  {
   "cell_type": "markdown",
   "metadata": {
    "slideshow": {
     "slide_type": "subslide"
    }
   },
   "source": [
    "### Road to Success\n",
    "\n",
    "- This course is fast and covers a lot of material. There will be times when you may feel discouraged or overwhelmed, but don't give up - this is natural (and part of the design). By the end of the course, you'll feel more confident in your ability to define problems, analyze data, and prototype solutions. \n"
   ]
  },
  {
   "cell_type": "markdown",
   "metadata": {
    "slideshow": {
     "slide_type": "fragment"
    }
   },
   "source": [
    "- Student learning responsibility: Our lessons cover topic foundations, but there is always more to learn! You are responsible for your learning experience - but don't get overwhelmed! \n",
    "\n"
   ]
  },
  {
   "cell_type": "markdown",
   "metadata": {},
   "source": [
    "- Instead, just make sure you follow along, practice as much as possible, and ask questions.\n"
   ]
  },
  {
   "cell_type": "markdown",
   "metadata": {
    "slideshow": {
     "slide_type": "fragment"
    }
   },
   "source": [
    "\n",
    "- GA requirements: Show up. Be on time. Participate. Submit your projects. Allow yourself to struggle. Read the docs. Have fun!\n"
   ]
  },
  {
   "cell_type": "markdown",
   "metadata": {
    "slideshow": {
     "slide_type": "subslide"
    }
   },
   "source": [
    "## Activity: Who are you?"
   ]
  },
  {
   "cell_type": "markdown",
   "metadata": {
    "slideshow": {
     "slide_type": "fragment"
    }
   },
   "source": [
    "Get to know your neighbour. Find out:"
   ]
  },
  {
   "cell_type": "markdown",
   "metadata": {
    "slideshow": {
     "slide_type": "fragment"
    }
   },
   "source": [
    "- their name"
   ]
  },
  {
   "cell_type": "markdown",
   "metadata": {
    "slideshow": {
     "slide_type": "fragment"
    }
   },
   "source": [
    "- what their job is"
   ]
  },
  {
   "cell_type": "markdown",
   "metadata": {
    "slideshow": {
     "slide_type": "fragment"
    }
   },
   "source": [
    "- why they've decided to take this course"
   ]
  },
  {
   "cell_type": "markdown",
   "metadata": {
    "slideshow": {
     "slide_type": "fragment"
    }
   },
   "source": [
    "- either:\n",
    "    - their first ever email address (if funny and embarrassing)\n",
    "    - or their favourite place."
   ]
  },
  {
   "cell_type": "markdown",
   "metadata": {
    "slideshow": {
     "slide_type": "subslide"
    }
   },
   "source": [
    "## Classroom Values\n",
    "\n",
    "- What makes a **bad** classroom?\n",
    "    - Let's agree not to do those things!\n",
    "\n",
    "We'll write these down and have them handy in each class."
   ]
  },
  {
   "cell_type": "markdown",
   "metadata": {
    "slideshow": {
     "slide_type": "slide"
    }
   },
   "source": [
    "# Session 1: What is Data Science?"
   ]
  },
  {
   "cell_type": "markdown",
   "metadata": {
    "slideshow": {
     "slide_type": "subslide"
    }
   },
   "source": [
    "<a id=\"learning-objectives\"></a>\n",
    "### Learning Objectives\n",
    "*After this lesson, you will be able to:*\n",
    "\n",
    "- Discuss the topics and goals of our course.\n",
    "- Define the Data Science Workflow and common Machine Learning concepts.\n",
    "- Identify which type of predictive problem applies to a given task.\n",
    "- Set up and confirm your development environment."
   ]
  },
  {
   "cell_type": "markdown",
   "metadata": {
    "slideshow": {
     "slide_type": "subslide"
    }
   },
   "source": [
    "## Agenda"
   ]
  },
  {
   "cell_type": "markdown",
   "metadata": {
    "slideshow": {
     "slide_type": "subslide"
    }
   },
   "source": [
    "### [Part 1: About the Course](#part1)"
   ]
  },
  {
   "cell_type": "markdown",
   "metadata": {
    "slideshow": {
     "slide_type": "subslide"
    }
   },
   "source": [
    "### [Part 2: What is Data Science?](#part2)\n",
    "\n",
    "- [What is Data Science?](#what-is-data-science)\n",
    "- [Data Science problems](#ds-problems)\n",
    "- [Activity: Data Science problems](#ds-problems-activity)\n",
    "- [Data Science vs. Machine Learning vs. AI](#ai)\n",
    "- [Supervised vs. Unsupervised Learning](#supervised)\n",
    "- [Types of Data Science](#ds-types)\n",
    "- [Data roles](#data-roles)\n",
    "- [Skills of a Data Scientist](#ds-skills)"
   ]
  },
  {
   "cell_type": "markdown",
   "metadata": {
    "slideshow": {
     "slide_type": "subslide"
    }
   },
   "source": [
    "### BREAK"
   ]
  },
  {
   "cell_type": "markdown",
   "metadata": {
    "slideshow": {
     "slide_type": "subslide"
    }
   },
   "source": [
    "### [Part 3: Data Science workflow](#part3)\n",
    "\n",
    "- [Asking good questions](#agood-questions)\n",
    "- [A simple workflow](#simple-workflow)\n",
    "- [A more complex workflow](#complex-workflow)\n",
    "- [Activity: Data Science workflow in practice](#ds-workflow-activity)"
   ]
  },
  {
   "cell_type": "markdown",
   "metadata": {
    "slideshow": {
     "slide_type": "subslide"
    }
   },
   "source": [
    "### [Part 4: Your Development Environment](#part4)"
   ]
  },
  {
   "cell_type": "markdown",
   "metadata": {
    "slideshow": {
     "slide_type": "subslide"
    }
   },
   "source": [
    "### [What next?](#what-next)"
   ]
  },
  {
   "cell_type": "markdown",
   "metadata": {
    "slideshow": {
     "slide_type": "slide"
    }
   },
   "source": [
    "<a id=\"part1\"> </a>\n",
    "# Part 1: About the Course"
   ]
  },
  {
   "cell_type": "markdown",
   "metadata": {
    "slideshow": {
     "slide_type": "subslide"
    }
   },
   "source": [
    "## Course Outline\n",
    "\n",
    "Unit   | Title  | Topics Covered  | Length \n",
    "---    | ---    |  ---     | ---\n",
    "1 | Data Foundations  | Python Syntax, Development Environment | Sessions 1-4\n",
    "2 | Working with Data              | Stats Review, Visualisation, & EDA     | Sessions 5-9\n",
    "3 | Data Science Modeling          | Regression, Classification, Model Evaluation      | Sessions 10-14\n",
    "4 | Data Science Applications      | Time Series, NLP, Clustering, Wrap-up     | Sessions 15-20\n",
    "\n",
    "You'll be working on an individual project throughout Units 2-4"
   ]
  },
  {
   "cell_type": "markdown",
   "metadata": {
    "slideshow": {
     "slide_type": "subslide"
    }
   },
   "source": [
    "### Schedule\n",
    "\n",
    "Session Number  | Session | Unit Number | Date\n",
    "--- | ---  | ---\n",
    "01 | Welcome to Data Science | Unit 1 | 18/06/2018\n",
    "02 | Python Foundations | Unit 1 | 20/06/2018\n",
    "03 | Managing Data | Unit 1 | 25/06/2018\n",
    "04 | Project Workshop: Unit Project 1 | Unit 1 | 27/06/2018\n",
    "--- | ---  | --- | ---\n",
    "05 | Exploratory Data Analysis in Pandas | Unit 2 | 02/07/2018\n",
    "06 | Data Visualisation in Python | Unit 2 | 04/07/2018\n",
    "07 | Statistics in Python | Unit 2 | 09/07/2018\n",
    "08 | Experiments & Hypothesis Testing | Unit 2 | 11/07/2018\n",
    "09 | Project Lightning Talks, Project Workshop, Unit Project 2 | Unit 2 | 16/07/2018\n",
    "--- | ---  | --- | ---"
   ]
  },
  {
   "cell_type": "markdown",
   "metadata": {
    "slideshow": {
     "slide_type": "subslide"
    }
   },
   "source": [
    "### Schedule (continued)\n",
    "\n",
    "Session Number  | Session | Unit Number\n",
    "--- | ---  | ---\n",
    "10 | Introduction to Regression | Unit 3 | 18/07/2018\n",
    "11 | Evaluating Machine Learning Models | Unit 3 | 23/07/2018\n",
    "12 | Introduction to Classification | Unit 3 | 25/07/2018\n",
    "13 | Logistic Regression | Unit 3 | 30/07/2018\n",
    "14 | Project Workshop, Unit Project 3 (EDA brief due) | Unit 3 | 01/08/2018\n",
    "--- | ---  | ---\n",
    "15 | Clustering | Unit 4 | 06/08/2018\n",
    "16 | Decision Trees & Random Forests | Unit 3 | 08/08/2018\n",
    "17 | Intro to Time Series | Unit 4 | 13/08/2018\n",
    "18 | Intro to Natural Language Processing | Unit 4 | 15/08/2018\n",
    "19 | Wrap up & Project Workshop | Unit 4 | 20/08/2018\n",
    "20 | Final Project Presentations & Tech Report Due | Unit 4 | 22/08/2018"
   ]
  },
  {
   "cell_type": "markdown",
   "metadata": {
    "slideshow": {
     "slide_type": "subslide"
    }
   },
   "source": [
    "## Deliverables\n",
    "\n",
    "End of Unit  | Exercise | Final Project\n",
    "--- | ---  | ---\n",
    "Unit 1 | Python exercise | Start thinking...\n",
    "Unit 2 | Data exploration exercise | Proposal, dataset(s), lightning talk\n",
    "Unit 3 | Machine learning exercise | Exploratory data analysis\n",
    "Unit 4 | N/A | Technical report & presentation"
   ]
  },
  {
   "cell_type": "markdown",
   "metadata": {
    "slideshow": {
     "slide_type": "slide"
    }
   },
   "source": [
    "<a id=\"part2\"> </a>\n",
    "# Part 2: What is Data Science?\n"
   ]
  },
  {
   "cell_type": "markdown",
   "metadata": {
    "slideshow": {
     "slide_type": "subslide"
    }
   },
   "source": [
    "<a id=\"what-is-data-science\"> </a>\n",
    "\n",
    "## What is Data Science?\n",
    "\n",
    "*“Turn data into information and information into insight”*\n",
    "\n",
    "Carly Fiorina (HP)"
   ]
  },
  {
   "cell_type": "markdown",
   "metadata": {
    "slideshow": {
     "slide_type": "subslide"
    }
   },
   "source": [
    "- Answers human questions **with data**\n",
    "\n"
   ]
  },
  {
   "cell_type": "markdown",
   "metadata": {
    "slideshow": {
     "slide_type": "fragment"
    }
   },
   "source": [
    "- Helps people make better decisions **with data**\n"
   ]
  },
  {
   "cell_type": "markdown",
   "metadata": {
    "slideshow": {
     "slide_type": "fragment"
    }
   },
   "source": [
    "- Helps people make better decisions **with data**\n"
   ]
  },
  {
   "cell_type": "markdown",
   "metadata": {
    "slideshow": {
     "slide_type": "subslide"
    }
   },
   "source": [
    "<a id=\"ds-problems\"> </a>\n",
    "\n",
    "## Data Science Problems\n",
    "\n",
    "Example questions for Data Science:\n",
    "\n",
    "- how many products will we sell tomorrow?\n",
    "- is this picture a hot dog or not a hot dog?\n",
    "- based on this user's purchase history, which other users should we target with similar ads?\n",
    "- is there something suspicious about this credit card transaction?"
   ]
  },
  {
   "cell_type": "markdown",
   "metadata": {
    "slideshow": {
     "slide_type": "subslide"
    }
   },
   "source": [
    "### How many products will we sell tomorrow?\n",
    "\n"
   ]
  },
  {
   "cell_type": "markdown",
   "metadata": {
    "slideshow": {
     "slide_type": "fragment"
    }
   },
   "source": [
    "This is a <strong style=\"color:green\">regression</strong> problem, because the answer is a number on a **continuous** range"
   ]
  },
  {
   "cell_type": "markdown",
   "metadata": {
    "slideshow": {
     "slide_type": "subslide"
    }
   },
   "source": [
    "### Is this picture a hot dog or not a hot dog?\n",
    "\n"
   ]
  },
  {
   "cell_type": "markdown",
   "metadata": {
    "slideshow": {
     "slide_type": "fragment"
    }
   },
   "source": [
    "This is a <strong style=\"color:green\">classification</strong> problem, because the answer is one of a **discrete set** of answers."
   ]
  },
  {
   "cell_type": "markdown",
   "metadata": {
    "slideshow": {
     "slide_type": "subslide"
    }
   },
   "source": [
    "### Based on this user's purchase history, which other users should we target with similar ads?\n",
    "\n"
   ]
  },
  {
   "cell_type": "markdown",
   "metadata": {
    "slideshow": {
     "slide_type": "fragment"
    }
   },
   "source": [
    "This is a <strong style=\"color:green\">clustering</strong> problem, because we are **grouping together** users **without knowing the groups in advance**."
   ]
  },
  {
   "cell_type": "markdown",
   "metadata": {
    "slideshow": {
     "slide_type": "subslide"
    }
   },
   "source": [
    "### Is there something suspicious about this credit card transaction?\n",
    "\n"
   ]
  },
  {
   "cell_type": "markdown",
   "metadata": {
    "slideshow": {
     "slide_type": "fragment"
    }
   },
   "source": [
    "This is an <strong style=\"color:green\">anomaly detection</strong> problem, because we are looking for things that are **outside some definition of \"normal\"**."
   ]
  },
  {
   "cell_type": "markdown",
   "metadata": {
    "slideshow": {
     "slide_type": "slide"
    }
   },
   "source": [
    "<a id=\"ds-problems-activity\"> </a>\n",
    "\n",
    "## Activity: Data Science Problems\n",
    "\n",
    "In pairs, think of 2 examples each of a(n):\n",
    "\n",
    "- regression task\n",
    "- classification task\n",
    "- clustering task\n",
    "- anomaly detection task"
   ]
  },
  {
   "cell_type": "markdown",
   "metadata": {
    "slideshow": {
     "slide_type": "subslide"
    }
   },
   "source": [
    "Remember:\n",
    "\n",
    "- Regression = **predicting continuous outcome**\n",
    "    - e.g. predicting tomorrow's sales\n",
    "- Classification = **telling the difference between discrete outcomes**\n",
    "    - e.g. is this a picture of a hot dog or not?\n",
    "- Clustering = **finding similar things without a \"true\" answer**\n",
    "    - finding similar users based on purchases\n",
    "- Anomaly detection = **finding \"strange\" things**\n",
    "    - identifying if a credit card transaction is suspicious (fraudulent)"
   ]
  },
  {
   "cell_type": "markdown",
   "metadata": {
    "slideshow": {
     "slide_type": "slide"
    }
   },
   "source": [
    "<a id=\"ai\"> </a>\n",
    "## Data Science vs. Machine Learning vs. AI"
   ]
  },
  {
   "cell_type": "markdown",
   "metadata": {
    "slideshow": {
     "slide_type": "fragment"
    }
   },
   "source": [
    "- Machine learning is broadly speaking the **use of statistics to make predictions**"
   ]
  },
  {
   "cell_type": "markdown",
   "metadata": {
    "slideshow": {
     "slide_type": "fragment"
    }
   },
   "source": [
    "- Data Science **uses** machine learning to perform the necessary predictive tasks\n",
    "    - Machine learning is just one of the tools in the Data Scientist's Toolbox"
   ]
  },
  {
   "cell_type": "markdown",
   "metadata": {
    "slideshow": {
     "slide_type": "fragment"
    }
   },
   "source": [
    "- AI is a broad term, more concerned with behaviour (e.g. playing games, like AlphaGO)\n",
    "    - Visual perception, speech recognition, decision-making, and translation between languages."
   ]
  },
  {
   "cell_type": "markdown",
   "metadata": {
    "slideshow": {
     "slide_type": "slide"
    }
   },
   "source": [
    "<a id=\"supervised\"> </a>\n",
    "## Supervised vs. Unsupervised\n",
    "\n",
    "There are two main categories of machine learning: supervised learning and unsupervised learning.\n"
   ]
  },
  {
   "cell_type": "markdown",
   "metadata": {
    "slideshow": {
     "slide_type": "subslide"
    }
   },
   "source": [
    "### Supervised Learning\n",
    "\n",
    "Supervised learning tends to be the most frequent type of work that data scientists do and will be the main focus of this course. How does supervised learning work?\n",
    "\n"
   ]
  },
  {
   "cell_type": "markdown",
   "metadata": {
    "slideshow": {
     "slide_type": "fragment"
    }
   },
   "source": [
    "1) We train a **machine learning model** using **labeled data** (the \"response\" label from earlier). <br>\n",
    "    - The “machine learning model” learns some kind of relationship between the features and the response.\n",
    "\n",
    "2) We make predictions on **new data** for which the response is unknown. <br>\n",
    "\n",
    "The primary goal of supervised learning is to build a model that “generalizes” — i.e., accurately predicts the **future** rather than the **past**!"
   ]
  },
  {
   "cell_type": "markdown",
   "metadata": {
    "slideshow": {
     "slide_type": "subslide"
    }
   },
   "source": [
    "## Unsupervised Learning\n",
    "\n",
    "- Extracts structure from data.\n",
    "    - Example: Segmenting grocery store shoppers into “clusters” that exhibit similar behaviors.\n",
    "- Attempts to represent.\n",
    "- **Does not require** past data on the element we want to predict.\n",
    "\n"
   ]
  },
  {
   "cell_type": "markdown",
   "metadata": {
    "slideshow": {
     "slide_type": "fragment"
    }
   },
   "source": [
    "#### Common Types of Unsupervised Learning\n",
    "\n",
    "- **Clustering:** Groups “similar” data points together.\n",
    "- **Dimensionality reduction:** Reduce the dimensionality of a data set by extracting features that capture most of the variance in the data."
   ]
  },
  {
   "cell_type": "markdown",
   "metadata": {
    "slideshow": {
     "slide_type": "subslide"
    }
   },
   "source": [
    "### Examples\n",
    "\n",
    "**Supervised Learning: Coin Classifier**\n",
    "\n",
    "- **Observations:** Coins.\n",
    "- **Features:** Size and mass.\n",
    "- **Response or target variable:** Hand-labeled coin type.\n",
    "\n",
    "- Train a machine learning model using labeled data.\n",
    "    - The model learns the relationship between the features and the coin type.\n",
    "\n",
    "- Make predictions on new data for which the response is unknown.\n",
    "    - Give the model a new coin and it will predict the coin type automatically.\n",
    "    \n",
    "**Unsupervised Learning: Types of Customers at a Bar**\n",
    "\n",
    "- **Observations:** Customers.\n",
    "- **Features:** Drink purchases, people they interact with, etc.\n",
    "- **Response or target variable:** There isn’t one — instead, we group similar customers together."
   ]
  },
  {
   "cell_type": "markdown",
   "metadata": {
    "slideshow": {
     "slide_type": "slide"
    }
   },
   "source": [
    "<a id=\"ds-types\"></a>\n",
    "## Types of Data Science\n",
    "\n",
    "Lots of jobs are called \"Data Science\" but they're very different!\n",
    "\n",
    "<img src=\"assets/data-science-types.png\" />"
   ]
  },
  {
   "cell_type": "markdown",
   "metadata": {
    "slideshow": {
     "slide_type": "subslide"
    }
   },
   "source": [
    "Type **A** Data Scientists will:\n",
    "\n",
    "- probably have a **PhD** in a \"traditional\" science\n",
    "- focus on **new knowledge** and research\n",
    "- have well-defined problems to work on"
   ]
  },
  {
   "cell_type": "markdown",
   "metadata": {
    "slideshow": {
     "slide_type": "subslide"
    }
   },
   "source": [
    "Type **B** Data Scientists will:\n",
    "\n",
    "- have a variety of backgrounds\n",
    "- work in a less data-savvy environment\n",
    "    - datasets are not \"clean\"\n",
    "    - questions are ambiguous\n",
    "- focus on **helping make better decisions under uncertainty**\n",
    "- work within the framework of a business and its particular needs"
   ]
  },
  {
   "cell_type": "markdown",
   "metadata": {
    "slideshow": {
     "slide_type": "slide"
    }
   },
   "source": [
    "<a id=\"data-roles\"> </a>\n",
    "\n",
    "## Data Roles\n",
    "\n",
    "<img src=\"assets/data-roles.png\" />"
   ]
  },
  {
   "cell_type": "markdown",
   "metadata": {
    "slideshow": {
     "slide_type": "subslide"
    }
   },
   "source": [
    "<img src=\"assets/ds_roles02.png\" />"
   ]
  },
  {
   "cell_type": "markdown",
   "metadata": {
    "slideshow": {
     "slide_type": "slide"
    }
   },
   "source": [
    "<a id=\"ds-skills\"> </a>\n",
    "\n",
    "## Skills of a Data Scientist\n",
    "\n",
    "<img src=\"assets/ds-venn.png\" />"
   ]
  },
  {
   "cell_type": "markdown",
   "metadata": {
    "slideshow": {
     "slide_type": "subslide"
    }
   },
   "source": [
    "### \"Hacking Skills\"\n",
    "\n",
    "- knowing how to write code\n",
    "- enough code to automate boring tasks\n",
    "- can use version control\n",
    "- *optional bonuses*:\n",
    "    - advanced programming (e.g. \"object-oriented\" or multiple programming languages)\n",
    "    - web development skills (HTML, CSS)"
   ]
  },
  {
   "cell_type": "markdown",
   "metadata": {
    "slideshow": {
     "slide_type": "subslide"
    }
   },
   "source": [
    "### \"Maths & Stats Knowledge\"\n",
    "\n",
    "- comfortable with descriptive statistics\n",
    "- understanding hypothesis testing and experimental design\n",
    "- knowledge of framework of \"how to predict things\"\n",
    "- understanding of probability\n",
    "- *optional bonuses*:\n",
    "    - advanced machine learning\n",
    "    - Bayesian statistics"
   ]
  },
  {
   "cell_type": "markdown",
   "metadata": {
    "slideshow": {
     "slide_type": "subslide"
    }
   },
   "source": [
    "### \"Substantive Expertise\"\n",
    "\n",
    "- understands the domain they're in enough to \"speak the language\"\n",
    "- can think like a customer\n",
    "- communication skills\n",
    "    - PowerPoint\n",
    "    - speaking to both technical and non-technical people\n",
    "- *optional bonuses*:\n",
    "    - deeper understanding of a domain\n",
    "    - public speaking"
   ]
  },
  {
   "cell_type": "markdown",
   "metadata": {
    "slideshow": {
     "slide_type": "subslide"
    }
   },
   "source": [
    "<img src=\"assets/ds_roles03.png\" />"
   ]
  },
  {
   "cell_type": "markdown",
   "metadata": {
    "slideshow": {
     "slide_type": "subslide"
    }
   },
   "source": [
    "<img src=\"assets/ds_roles04.png\" width=\"600\" />\n"
   ]
  },
  {
   "cell_type": "markdown",
   "metadata": {
    "slideshow": {
     "slide_type": "slide"
    }
   },
   "source": [
    "# BREAK\n",
    "\n",
    "## During the break: Data Science skills\n",
    "\n",
    "Think about what parts of the Venn diagram you're strongest in. What parts do you feel you need to learn most about?\n",
    "\n",
    "During the break chat to someone for a couple of minutes about this."
   ]
  },
  {
   "cell_type": "markdown",
   "metadata": {
    "slideshow": {
     "slide_type": "slide"
    }
   },
   "source": [
    "<a id=\"part3\"> </a>\n",
    "\n",
    "# Part 3: Data Science Workflows"
   ]
  },
  {
   "cell_type": "markdown",
   "metadata": {
    "slideshow": {
     "slide_type": "slide"
    }
   },
   "source": [
    "<a id=\"good-questions\"> </a>\n",
    "# How to Ask Good Questions\n",
    "\n",
    "### How Do Data Scientists Solve Problems?\n",
    "\n",
    "\n",
    "\n"
   ]
  },
  {
   "cell_type": "markdown",
   "metadata": {
    "slideshow": {
     "slide_type": "fragment"
    }
   },
   "source": [
    "Most practitioners apply a version of the scientific method in order to logically deconstruct and analyze an issue. We call this the data science workflow, which we've broken down into a series of steps.\n"
   ]
  },
  {
   "cell_type": "markdown",
   "metadata": {
    "slideshow": {
     "slide_type": "fragment"
    }
   },
   "source": [
    "This problem-solving framework will help you produce results that are reliable (so that your findings will be more accurate) and reproducible (so that others can follow your steps and achieve the same results).\n"
   ]
  },
  {
   "cell_type": "markdown",
   "metadata": {
    "slideshow": {
     "slide_type": "fragment"
    }
   },
   "source": [
    "Note that, depending on the problem, this process is not always linear. You may require lots of iteration and repetition before any conclusions can be drawn!"
   ]
  },
  {
   "cell_type": "markdown",
   "metadata": {
    "slideshow": {
     "slide_type": "subslide"
    }
   },
   "source": [
    "### Asking a Good Question\n",
    "\n",
    "\n",
    "\n"
   ]
  },
  {
   "cell_type": "markdown",
   "metadata": {
    "slideshow": {
     "slide_type": "fragment"
    }
   },
   "source": [
    "Even though all data science projects have different general flows, they start in the same place: with a problem.  From this problem statement arises questions; questions we will ask the data in order to gain more information so we can attempt to find a solution to that problem.\n"
   ]
  },
  {
   "cell_type": "markdown",
   "metadata": {
    "slideshow": {
     "slide_type": "fragment"
    }
   },
   "source": [
    "**Why do we need a good question?**\n",
    "\n",
    "_“A problem well stated is half solved.”_ — Charles Kettering\n"
   ]
  },
  {
   "cell_type": "markdown",
   "metadata": {
    "slideshow": {
     "slide_type": "fragment"
    }
   },
   "source": [
    "A good question: \n",
    "\n",
    "- Sets you up for success as you begin analysis.\n",
    "- Establishes the basis for reproducibility.\n",
    "- Enables collaboration through clear goals.\n",
    "    - It's hard to collaborate without a vision."
   ]
  },
  {
   "cell_type": "markdown",
   "metadata": {
    "slideshow": {
     "slide_type": "subslide"
    }
   },
   "source": [
    "One way to approach formulating a question is through goal-setting via the SMART Goals Framework:\n"
   ]
  },
  {
   "cell_type": "markdown",
   "metadata": {
    "slideshow": {
     "slide_type": "fragment"
    }
   },
   "source": [
    "- **Specific**: The data set and key variables are clearly defined.\n"
   ]
  },
  {
   "cell_type": "markdown",
   "metadata": {
    "slideshow": {
     "slide_type": "fragment"
    }
   },
   "source": [
    "\n",
    "- **Measurable**: The type of analysis and major assumptions are articulated.\n"
   ]
  },
  {
   "cell_type": "markdown",
   "metadata": {
    "slideshow": {
     "slide_type": "fragment"
    }
   },
   "source": [
    "- **Attainable**: The question you are asking is feasible for your data set and not likely to be biased.\n"
   ]
  },
  {
   "cell_type": "markdown",
   "metadata": {
    "slideshow": {
     "slide_type": "fragment"
    }
   },
   "source": [
    "- **Reproducible**: Another person (or future you) can read and understand exactly how your analysis is performed.\n"
   ]
  },
  {
   "cell_type": "markdown",
   "metadata": {
    "slideshow": {
     "slide_type": "fragment"
    }
   },
   "source": [
    "- **Time-bound**: You clearly state the time period and population to which this analysis pertains.\n"
   ]
  },
  {
   "cell_type": "markdown",
   "metadata": {
    "slideshow": {
     "slide_type": "subslide"
    }
   },
   "source": [
    "#### What Are Some Common Questions Asked in Data Science?\n",
    "\n",
    "**Machine learning more or less asks the following questions:**\n",
    "\n",
    "- Does X predict Y? (Where X is a set of data and y is an outcome.)\n",
    "- Are there any distinct groups in our data?\n",
    "- What are the key components of our data?\n",
    "- Is one of our observations “weird”?\n"
   ]
  },
  {
   "cell_type": "markdown",
   "metadata": {
    "slideshow": {
     "slide_type": "fragment"
    }
   },
   "source": [
    "**From a business perspective, we can ask:**\n",
    "\n",
    "- What is the likelihood that a customer will buy this product?\n",
    "- Is this a good or bad review?\n",
    "- How much demand will there be for my service tomorrow?\n",
    "- Is this the cheapest way to deliver my goods?\n",
    "- Is there a better way to segment my marketing strategies?\n",
    "- What groups of products are customers purchasing together?\n",
    "- Can we automate this simple yes/no decision?\n",
    "\n",
    "_This list may seem limited, but we rewrite most questions to fit this form._"
   ]
  },
  {
   "cell_type": "markdown",
   "metadata": {
    "slideshow": {
     "slide_type": "slide"
    }
   },
   "source": [
    "<a id=\"simple-workflow\"> </a>\n",
    "\n",
    "## A simple workflow\n",
    "\n",
    "1. Business Question\n",
    "\n",
    "2. Data Question\n",
    "\n",
    "3. Data Answer\n",
    "\n",
    "4. Business Answer\n",
    "\n",
    "*Credit: Renee Teate, [Becoming a Data Scientist](http://becomingadatascientist.com)*"
   ]
  },
  {
   "cell_type": "markdown",
   "metadata": {
    "slideshow": {
     "slide_type": "subslide"
    }
   },
   "source": [
    "### Example\n",
    "\n",
    "#### 1. Business Question\n",
    "\n",
    "\"Is it better to hold a sale of my pork pies in June or July?\""
   ]
  },
  {
   "cell_type": "markdown",
   "metadata": {
    "slideshow": {
     "slide_type": "fragment"
    }
   },
   "source": [
    "#### 2. Data Question\n",
    "\n",
    "\"In past years, did June or July have higher demand for pork pies?\""
   ]
  },
  {
   "cell_type": "markdown",
   "metadata": {
    "slideshow": {
     "slide_type": "fragment"
    }
   },
   "source": [
    "#### 3. Data Answer\n",
    "\n",
    "\"The average number of pork pies sold over the last 5 years in June was 25% higher than July.\""
   ]
  },
  {
   "cell_type": "markdown",
   "metadata": {
    "slideshow": {
     "slide_type": "fragment"
    }
   },
   "source": [
    "#### 4. Business Answer\n",
    "\n",
    "\"I recommend holding a sale in June based on seeing higher sales in the last 5 years.\""
   ]
  },
  {
   "cell_type": "markdown",
   "metadata": {
    "slideshow": {
     "slide_type": "slide"
    }
   },
   "source": [
    "<a id=\"complex-workflow\"></a>\n",
    "## A More Complex Data Science Workflow\n",
    "\n",
    "---\n",
    "\n"
   ]
  },
  {
   "cell_type": "markdown",
   "metadata": {
    "slideshow": {
     "slide_type": "fragment"
    }
   },
   "source": [
    "- **Frame**: Develop a hypothesis-driven approach to your analysis.\n"
   ]
  },
  {
   "cell_type": "markdown",
   "metadata": {
    "slideshow": {
     "slide_type": "fragment"
    }
   },
   "source": [
    "- **Prepare**: Select, import, explore, and clean your data.\n"
   ]
  },
  {
   "cell_type": "markdown",
   "metadata": {
    "slideshow": {
     "slide_type": "fragment"
    }
   },
   "source": [
    "- **Analyse**: Structure, visualise, and complete your analysis.\n"
   ]
  },
  {
   "cell_type": "markdown",
   "metadata": {
    "slideshow": {
     "slide_type": "fragment"
    }
   },
   "source": [
    "- **Interpret**: Derive recommendations and business decisions from your data.\n"
   ]
  },
  {
   "cell_type": "markdown",
   "metadata": {
    "slideshow": {
     "slide_type": "fragment"
    }
   },
   "source": [
    "\n",
    "- **Communicate**: Present (edited) insights from your data to different audiences."
   ]
  },
  {
   "cell_type": "markdown",
   "metadata": {
    "slideshow": {
     "slide_type": "subslide"
    }
   },
   "source": [
    "![](./assets/Data-Framework-White-BG.png)"
   ]
  },
  {
   "cell_type": "markdown",
   "metadata": {
    "slideshow": {
     "slide_type": "subslide"
    }
   },
   "source": [
    "#### Notes about this workflow\n",
    "\n",
    "_Remember, these steps are not hard-set rules; instead, think of them as problem-solving guidelines._\n",
    "\n",
    "\n",
    "- Some projects may not require every step.\n",
    "- These steps are iterative; it's normal to go back and repeat certain steps a few times in a row.\n",
    "- The process is cyclical; after completing the process, you may restart it on new findings."
   ]
  },
  {
   "cell_type": "markdown",
   "metadata": {
    "slideshow": {
     "slide_type": "slide"
    }
   },
   "source": [
    "<a id=\"ds-workflow-activity\"> </a>\n",
    "\n",
    "## Activity: Data Science Workflow\n",
    "\n",
    "You work for a real estate company who want to use their data to:\n",
    "\n",
    "<ul style=\"list-style-type: none\">\n",
    "    <li>a) accurately predict the sale price of a house</li>\n",
    "    <li>b) predict whether someone will default on their mortgage</li>\n",
    "</ul>"
   ]
  },
  {
   "cell_type": "markdown",
   "metadata": {
    "slideshow": {
     "slide_type": "fragment"
    }
   },
   "source": [
    "Reminder about the workflow:\n",
    "\n",
    "    Frame -> Prepare -> Analyse -> Interpret -> Communicate"
   ]
  },
  {
   "cell_type": "markdown",
   "metadata": {
    "slideshow": {
     "slide_type": "subslide"
    }
   },
   "source": [
    "In groups, discuss what the Data Science workflow might look like for these two tasks, specifically:\n",
    "\n",
    "1. Frame & Prepare\n",
    "    - what sort of data would you want to collect on houses for task `a`?\n",
    "    - and for `b`?\n",
    "2. Analyse\n",
    "    - what category of Data Science task (regression, classification, clustering, anomaly detection) are `a` and `b`?\n",
    "    - what assocations would you expect to see?\n",
    "    - what would you expect to be strongly predictive of house prices and whether someone will default?\n",
    "3. Interpret & Communicate\n",
    "    - how could a business take action based on your findings?\n",
    "    - what decisions would these two predictive models help make?"
   ]
  },
  {
   "cell_type": "markdown",
   "metadata": {
    "slideshow": {
     "slide_type": "slide"
    }
   },
   "source": [
    "<a id=\"part4\"> </a>\n",
    "\n",
    "# Part 4: Your Development Environment\n",
    "\n",
    "## Checklist\n",
    "\n",
    "- Have you installed **Anaconda**? We are using Python 3.6.\n",
    "- **Git Bash** for Windows users\n",
    "- Have you got access to GitHub Enterprise [https://git.generalassemb.ly/](https://git.generalassemb.ly/)?\n",
    "- Have you installed Github Desktop [https://desktop.github.com/](https://desktop.github.com/)?\n",
    "- Are you on Slack [https://ga-ldn-datascience.slack.com](https://ga-ldn-datascience.slack.com)?"
   ]
  },
  {
   "cell_type": "markdown",
   "metadata": {
    "slideshow": {
     "slide_type": "subslide"
    }
   },
   "source": [
    "#### Exercise\n",
    "\n",
    "** Preparing to code in Python **\n",
    "\n",
    "- Open a terminal / Git Bash / command prompt\n",
    "- type `jupyter notebook`: your browser should open with Jupyter\n",
    "- in Jupyter, type `print(\"Hello, world!\")`\n",
    "- if that worked, you're all set!"
   ]
  },
  {
   "cell_type": "markdown",
   "metadata": {
    "slideshow": {
     "slide_type": "subslide"
    }
   },
   "source": [
    "** Accessing the course materials **\n",
    "\n",
    "- Can you log in to [GitHub Enterprise](https://git.generalassemb.ly)?\n",
    "    - if so, can you access the [course repo](https://git.generalassemb.ly/GADS-BOH/dat24)?\n",
    "    - if you answer **no** to either of those, tell us!"
   ]
  },
  {
   "cell_type": "markdown",
   "metadata": {
    "slideshow": {
     "slide_type": "subslide"
    }
   },
   "source": [
    "To view the Jupyter notebook material as slides.\n",
    "\n",
    "Open a terminal/cmd and navigate to the folder the notebook is in:\n",
    "\n",
    "`jupyter nbconvert <your_file_name> --to slides --post serve`\n",
    "\n",
    "So to run the first notebook:\n",
    "\n",
    "`jupyter nbconvert 01_what_is_data_science.ipynb --to slides --post serve`\n",
    "\n",
    "This should automatically open the presentation in your browser. You can navigate with the arrow keys."
   ]
  },
  {
   "cell_type": "markdown",
   "metadata": {
    "slideshow": {
     "slide_type": "subslide"
    }
   },
   "source": [
    "** Accessing Slack **\n",
    "\n",
    "- Can you log in to [Slack](https://ga-ldn-datascience.slack.com)?\n",
    "    - if not, let us know!"
   ]
  },
  {
   "cell_type": "markdown",
   "metadata": {
    "slideshow": {
     "slide_type": "slide"
    }
   },
   "source": [
    "<a id=\"what-next\"> </a>\n",
    "# What next?\n",
    "\n",
    "- In GitHub Enterprise, you can have a read of, and a think about, a more detailed Data Science workflow case study\n",
    "    - it's called `data_science_workflow_example`\n",
    "    - it's a Jupyter notebook but you can view it in your browser\n",
    "    - these slides are also available\n",
    "- Continue your pre-work (if applicable)\n",
    "- On Wednesday: `Python`"
   ]
  }
 ],
 "metadata": {
  "celltoolbar": "Slideshow",
  "kernelspec": {
   "display_name": "Python 3",
   "language": "python",
   "name": "python3"
  },
  "language_info": {
   "codemirror_mode": {
    "name": "ipython",
    "version": 3
   },
   "file_extension": ".py",
   "mimetype": "text/x-python",
   "name": "python",
   "nbconvert_exporter": "python",
   "pygments_lexer": "ipython3",
   "version": "3.6.2"
  }
 },
 "nbformat": 4,
 "nbformat_minor": 2
}
