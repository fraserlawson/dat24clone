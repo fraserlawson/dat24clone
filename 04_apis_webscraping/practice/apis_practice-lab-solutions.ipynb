{
 "cells": [
  {
   "cell_type": "markdown",
   "metadata": {},
   "source": [
    "<img src=\"http://imgur.com/1ZcRyrc.png\" style=\"float: left; margin: 20px; height: 55px\">\n",
    "\n",
    "# Practice Using APIs\n",
    "\n",
    "\n",
    "---\n",
    "\n",
    "In this lab we will practice using some popular APIs to retrieve and store data."
   ]
  },
  {
   "cell_type": "code",
   "execution_count": 8,
   "metadata": {
    "collapsed": true
   },
   "outputs": [],
   "source": [
    "# Imports at the top\n",
    "import json\n",
    "import urllib\n",
    "import pandas as pd\n",
    "import numpy as np\n",
    "import requests\n",
    "import json\n",
    "import re\n",
    "import matplotlib.pyplot as plt\n",
    "\n",
    "%matplotlib inline"
   ]
  },
  {
   "cell_type": "markdown",
   "metadata": {},
   "source": [
    "## Exercise 1: get data from Sheetsu\n",
    "\n",
    "---\n",
    "\n",
    "[Sheetsu](https://sheetsu.com/) is an online service that allows you to access any Google spreadsheet from an API. This can be a very powerful way to share a dataset with colleagues as well as to create a mini centralized data storage that is simpler to edit than a database.\n",
    "\n",
    "A Google Spreadsheet with Wine data can be found [here](https://docs.google.com/spreadsheets/d/1mZ3Otr5AV4v8WwvLOAvWf3VLxDa-IeJ1AVTEuavJqeo/).\n",
    "\n",
    "It can be accessed through sheetsu API at this endpoint: https://sheetsu.com/apis/v1.0/dab55afd\n",
    "\n",
    "**Questions:**\n",
    "\n",
    "1. Use the requests library to access the document. Inspect the response text. What kind of data is it?\n",
    "- Check the status code of the response object. What code is it?\n",
    "- Use the appropriate libraries and read functions to read the response into a Pandas Dataframe.\n",
    "- Once you've imported the data into a dataframe, check the value of the 5th line: what's the price?"
   ]
  },
  {
   "cell_type": "code",
   "execution_count": 155,
   "metadata": {
    "collapsed": true
   },
   "outputs": [],
   "source": [
    "# You can either post or get info from this API\n",
    "api_base_url = 'https://sheetsu.com/apis/v1.0/dab55afd'"
   ]
  },
  {
   "cell_type": "code",
   "execution_count": 156,
   "metadata": {
    "scrolled": true
   },
   "outputs": [
    {
     "data": {
      "text/plain": [
       "u'[{\"Color\":\"W\",\"Region\":\"Portugal\",\"Country\":\"Portugal\",\"Vintage\":\"2013\",\"Vinyard\":\"Vinho Verde\",\"Nam'"
      ]
     },
     "execution_count": 156,
     "metadata": {},
     "output_type": "execute_result"
    }
   ],
   "source": [
    "# What kind of data is this returning?\n",
    "api_response = requests.get(api_base_url)\n",
    "api_response.text[:100]"
   ]
  },
  {
   "cell_type": "code",
   "execution_count": 4,
   "metadata": {
    "collapsed": true
   },
   "outputs": [],
   "source": [
    "# 1. It is a json string"
   ]
  },
  {
   "cell_type": "code",
   "execution_count": 157,
   "metadata": {
    "collapsed": true
   },
   "outputs": [],
   "source": [
    "reponse = json.loads(api_response.text)"
   ]
  },
  {
   "cell_type": "code",
   "execution_count": 158,
   "metadata": {},
   "outputs": [
    {
     "data": {
      "text/plain": [
       "list"
      ]
     },
     "execution_count": 158,
     "metadata": {},
     "output_type": "execute_result"
    }
   ],
   "source": [
    "type(reponse)"
   ]
  },
  {
   "cell_type": "code",
   "execution_count": 159,
   "metadata": {},
   "outputs": [
    {
     "data": {
      "text/plain": [
       "{u'Color': u'W',\n",
       " u'Consumed In': u'2015',\n",
       " u'Country': u'Portugal',\n",
       " u'Grape': u'',\n",
       " u'Name': u'',\n",
       " u'Price': u'',\n",
       " u'Region': u'Portugal',\n",
       " u'Score': u'4',\n",
       " u'Vintage': u'2013',\n",
       " u'Vinyard': u'Vinho Verde'}"
      ]
     },
     "execution_count": 159,
     "metadata": {},
     "output_type": "execute_result"
    }
   ],
   "source": [
    "reponse[0]"
   ]
  },
  {
   "cell_type": "code",
   "execution_count": 160,
   "metadata": {},
   "outputs": [
    {
     "data": {
      "text/plain": [
       "200"
      ]
     },
     "execution_count": 160,
     "metadata": {},
     "output_type": "execute_result"
    }
   ],
   "source": [
    "api_response.status_code"
   ]
  },
  {
   "cell_type": "code",
   "execution_count": 9,
   "metadata": {
    "collapsed": true
   },
   "outputs": [],
   "source": [
    "# 2. response code is 200"
   ]
  },
  {
   "cell_type": "code",
   "execution_count": 161,
   "metadata": {},
   "outputs": [
    {
     "data": {
      "text/html": [
       "<div>\n",
       "<table border=\"1\" class=\"dataframe\">\n",
       "  <thead>\n",
       "    <tr style=\"text-align: right;\">\n",
       "      <th></th>\n",
       "      <th>Color</th>\n",
       "      <th>Consumed In</th>\n",
       "      <th>Country</th>\n",
       "      <th>Grape</th>\n",
       "      <th>Name</th>\n",
       "      <th>Price</th>\n",
       "      <th>Region</th>\n",
       "      <th>Score</th>\n",
       "      <th>Vintage</th>\n",
       "      <th>Vinyard</th>\n",
       "    </tr>\n",
       "  </thead>\n",
       "  <tbody>\n",
       "    <tr>\n",
       "      <th>0</th>\n",
       "      <td>W</td>\n",
       "      <td>2015</td>\n",
       "      <td>Portugal</td>\n",
       "      <td></td>\n",
       "      <td></td>\n",
       "      <td></td>\n",
       "      <td>Portugal</td>\n",
       "      <td>4</td>\n",
       "      <td>2013</td>\n",
       "      <td>Vinho Verde</td>\n",
       "    </tr>\n",
       "    <tr>\n",
       "      <th>1</th>\n",
       "      <td>W</td>\n",
       "      <td>2015</td>\n",
       "      <td>France</td>\n",
       "      <td></td>\n",
       "      <td></td>\n",
       "      <td>17.8</td>\n",
       "      <td>France</td>\n",
       "      <td>3</td>\n",
       "      <td>2013</td>\n",
       "      <td>Peyruchet</td>\n",
       "    </tr>\n",
       "    <tr>\n",
       "      <th>2</th>\n",
       "      <td>W</td>\n",
       "      <td>2015</td>\n",
       "      <td>Oregon</td>\n",
       "      <td></td>\n",
       "      <td></td>\n",
       "      <td>20</td>\n",
       "      <td>Oregon</td>\n",
       "      <td>3</td>\n",
       "      <td>2013</td>\n",
       "      <td>Abacela</td>\n",
       "    </tr>\n",
       "    <tr>\n",
       "      <th>3</th>\n",
       "      <td>W</td>\n",
       "      <td>2015</td>\n",
       "      <td>Spain</td>\n",
       "      <td>chardonay</td>\n",
       "      <td></td>\n",
       "      <td>7</td>\n",
       "      <td>Spain</td>\n",
       "      <td>2.5</td>\n",
       "      <td>2012</td>\n",
       "      <td>Ochoa</td>\n",
       "    </tr>\n",
       "    <tr>\n",
       "      <th>4</th>\n",
       "      <td>R</td>\n",
       "      <td>2015</td>\n",
       "      <td>US</td>\n",
       "      <td>chiraz, cab</td>\n",
       "      <td>Spice Trader</td>\n",
       "      <td>6</td>\n",
       "      <td></td>\n",
       "      <td>3</td>\n",
       "      <td>2012</td>\n",
       "      <td>Heartland</td>\n",
       "    </tr>\n",
       "  </tbody>\n",
       "</table>\n",
       "</div>"
      ],
      "text/plain": [
       "  Color Consumed In   Country        Grape          Name Price    Region  \\\n",
       "0     W        2015  Portugal                                   Portugal   \n",
       "1     W        2015    France                             17.8    France   \n",
       "2     W        2015    Oregon                               20    Oregon   \n",
       "3     W        2015     Spain    chardonay                   7     Spain   \n",
       "4     R        2015        US  chiraz, cab  Spice Trader     6             \n",
       "\n",
       "  Score Vintage      Vinyard  \n",
       "0     4    2013  Vinho Verde  \n",
       "1     3    2013    Peyruchet  \n",
       "2     3    2013      Abacela  \n",
       "3   2.5    2012        Ochoa  \n",
       "4     3    2012    Heartland  "
      ]
     },
     "execution_count": 161,
     "metadata": {},
     "output_type": "execute_result"
    }
   ],
   "source": [
    "wine_df = pd.DataFrame(reponse)\n",
    "wine_df.head()"
   ]
  },
  {
   "cell_type": "code",
   "execution_count": 162,
   "metadata": {},
   "outputs": [
    {
     "data": {
      "text/html": [
       "<div>\n",
       "<table border=\"1\" class=\"dataframe\">\n",
       "  <thead>\n",
       "    <tr style=\"text-align: right;\">\n",
       "      <th></th>\n",
       "      <th>Color</th>\n",
       "      <th>Consumed In</th>\n",
       "      <th>Country</th>\n",
       "      <th>Grape</th>\n",
       "      <th>Name</th>\n",
       "      <th>Price</th>\n",
       "      <th>Region</th>\n",
       "      <th>Score</th>\n",
       "      <th>Vintage</th>\n",
       "      <th>Vinyard</th>\n",
       "    </tr>\n",
       "  </thead>\n",
       "  <tbody>\n",
       "    <tr>\n",
       "      <th>0</th>\n",
       "      <td>W</td>\n",
       "      <td>2015</td>\n",
       "      <td>Portugal</td>\n",
       "      <td></td>\n",
       "      <td></td>\n",
       "      <td></td>\n",
       "      <td>Portugal</td>\n",
       "      <td>4</td>\n",
       "      <td>2013</td>\n",
       "      <td>Vinho Verde</td>\n",
       "    </tr>\n",
       "    <tr>\n",
       "      <th>1</th>\n",
       "      <td>W</td>\n",
       "      <td>2015</td>\n",
       "      <td>France</td>\n",
       "      <td></td>\n",
       "      <td></td>\n",
       "      <td>17.8</td>\n",
       "      <td>France</td>\n",
       "      <td>3</td>\n",
       "      <td>2013</td>\n",
       "      <td>Peyruchet</td>\n",
       "    </tr>\n",
       "  </tbody>\n",
       "</table>\n",
       "</div>"
      ],
      "text/plain": [
       "  Color Consumed In   Country Grape Name Price    Region Score Vintage  \\\n",
       "0     W        2015  Portugal                   Portugal     4    2013   \n",
       "1     W        2015    France             17.8    France     3    2013   \n",
       "\n",
       "       Vinyard  \n",
       "0  Vinho Verde  \n",
       "1    Peyruchet  "
      ]
     },
     "execution_count": 162,
     "metadata": {},
     "output_type": "execute_result"
    }
   ],
   "source": [
    "# alternatively:\n",
    "wine_df = pd.read_json(api_response.text)\n",
    "wine_df.head(2)"
   ]
  },
  {
   "cell_type": "code",
   "execution_count": 163,
   "metadata": {},
   "outputs": [
    {
     "data": {
      "text/plain": [
       "Color                     R\n",
       "Consumed In            2015\n",
       "Country                  US\n",
       "Grape           chiraz, cab\n",
       "Name           Spice Trader\n",
       "Price                     6\n",
       "Region                     \n",
       "Score                     3\n",
       "Vintage                2012\n",
       "Vinyard           Heartland\n",
       "Name: 4, dtype: object"
      ]
     },
     "execution_count": 163,
     "metadata": {},
     "output_type": "execute_result"
    }
   ],
   "source": [
    "wine_df.iloc[4, :]\n",
    "# the price is 6 for the 5th row."
   ]
  },
  {
   "cell_type": "markdown",
   "metadata": {},
   "source": [
    "## Exercise 2: post data to Sheetsu\n",
    "\n",
    "---\n",
    "\n",
    "We've learned how to read data, but it'd be great if we could also write data. For this we will need to use a _POST_ request.\n",
    "\n",
    "1. Use the post command to add the `post_data` to the spreadsheet.\n",
    "- What status did you get? How can you check that you actually added the data correctly?\n",
    "- In this exercise, your classmates are adding data to the same spreadsheet. What happens because of this? Is it a problem? How could you mitigate it?"
   ]
  },
  {
   "cell_type": "code",
   "execution_count": 164,
   "metadata": {
    "collapsed": true
   },
   "outputs": [],
   "source": [
    "post_data = {\n",
    "    'Grape': '',\n",
    "    'Name': 'My wonderful wine',\n",
    "    'Color': 'R',\n",
    "    'Country': 'US',\n",
    "    'Region': 'Sonoma',\n",
    "    'Vinyard': '',\n",
    "    'Score': '10',\n",
    "    'Consumed In': '2015',\n",
    "    'Vintage': '1973',\n",
    "    'Price': '200'\n",
    "}"
   ]
  },
  {
   "cell_type": "code",
   "execution_count": 165,
   "metadata": {},
   "outputs": [
    {
     "data": {
      "text/plain": [
       "<Response [201]>"
      ]
     },
     "execution_count": 165,
     "metadata": {},
     "output_type": "execute_result"
    }
   ],
   "source": [
    "requests.post(api_base_url, data=post_data)"
   ]
  },
  {
   "cell_type": "code",
   "execution_count": 15,
   "metadata": {
    "collapsed": true
   },
   "outputs": [],
   "source": [
    "# 2. To check we could send a get request and check the last line."
   ]
  },
  {
   "cell_type": "code",
   "execution_count": 16,
   "metadata": {
    "collapsed": true
   },
   "outputs": [],
   "source": [
    "# 3. There will be many duplicate lines on the spreadsheet. One way to mitigate \n",
    "# this would be through permission, another would be to insert at a \n",
    "# specific position, so that the line is overwritten at each time."
   ]
  },
  {
   "cell_type": "markdown",
   "metadata": {},
   "source": [
    "## Exercise 3: IMDB TV Shows\n",
    "\n",
    "---\n",
    "\n",
    "Sometimes an API doesn't provide all the information we would like to get and we need to be creative.\n",
    "\n",
    "Here we will use a combination of scraping and API calls to find the ratings and networks of famous television shows."
   ]
  },
  {
   "cell_type": "markdown",
   "metadata": {
    "collapsed": true
   },
   "source": [
    "### 3.A Get the top TV Shows\n",
    "\n",
    "The Internet Movie Database contains data about movies and TV shows. Unfortunately it does not have a public API.\n",
    "\n",
    "The page http://www.imdb.com/chart/toptv/?ref_=nv_tp_tv250_2 contains the list of the top 250 tv shows of all time. Retrieve the page using the requests library and then parse the html to obtain a list of the `movie_ids` for these movies. You can parse it with regular expression or using a library like `BeautifulSoup`.\n",
    "\n",
    "> **Hint:** movie_ids look like this: `tt2582802`\n",
    "> _Everything after \"/title/\" and before \"/?\"_"
   ]
  },
  {
   "cell_type": "code",
   "execution_count": 9,
   "metadata": {
    "collapsed": true
   },
   "outputs": [],
   "source": [
    "def get_top_250():\n",
    "    response = requests.get('http://www.imdb.com/chart/toptv/?ref_=nv_tp_tv250_2')\n",
    "    html = response.text\n",
    "    # use greedy version to find everything after title to the next backslash in the a href element\n",
    "    entries = re.findall(\"<a href.*?/title/(.*?)/\", html) \n",
    "    # create a list of the top 250 results\n",
    "    return list(set(entries))"
   ]
  },
  {
   "cell_type": "code",
   "execution_count": 10,
   "metadata": {
    "collapsed": true
   },
   "outputs": [],
   "source": [
    "entries = get_top_250()"
   ]
  },
  {
   "cell_type": "code",
   "execution_count": 11,
   "metadata": {},
   "outputs": [
    {
     "data": {
      "text/plain": [
       "250"
      ]
     },
     "execution_count": 11,
     "metadata": {},
     "output_type": "execute_result"
    }
   ],
   "source": [
    "len(entries)"
   ]
  },
  {
   "cell_type": "code",
   "execution_count": 12,
   "metadata": {},
   "outputs": [
    {
     "data": {
      "text/plain": [
       "'tt0472954'"
      ]
     },
     "execution_count": 12,
     "metadata": {},
     "output_type": "execute_result"
    }
   ],
   "source": [
    "entries[0]"
   ]
  },
  {
   "cell_type": "markdown",
   "metadata": {},
   "source": [
    "### 3.B Get data on the top movies\n",
    "\n",
    "Although the Internet Movie Database does not have a public API, an open API exists at http://www.tvmaze.com/api.\n",
    "\n",
    "Use this API to retrieve information about each of the 250 TV shows you have extracted in the previous step.\n",
    "1. Check the documentation of tvmaze's api to learn how to request show data by id.\n",
    "- Define a function that returns a python object with select information for a given id.\n",
    "    - Show name\n",
    "    - Rating (avg)\n",
    "    - Genre(s)\n",
    "    - Network name\n",
    "    - Premiere date\n",
    "    - Status\n",
    "> Tip: the json object can easily be converted into a python dictionary.\n",
    "\n",
    "- Store the gathered information in a Pandas Dataframe.\n",
    "\n",
    "\n",
    "As the target information is in json format you will need `json.loads(res.text)` in order to gather it."
   ]
  },
  {
   "cell_type": "markdown",
   "metadata": {},
   "source": [
    "Heres and example of the information and how we can interact with it."
   ]
  },
  {
   "cell_type": "code",
   "execution_count": 13,
   "metadata": {},
   "outputs": [
    {
     "name": "stdout",
     "output_type": "stream",
     "text": [
      "200\n",
      "Game of Thrones\n",
      "{'url': 'http://www.tvmaze.com/shows/82/game-of-thrones', 'weight': 99, 'status': 'Running', 'rating': {'average': 9.3}, 'webChannel': {'id': 22, 'name': 'HBO Go', 'country': {'code': 'US', 'name': 'United States', 'timezone': 'America/New_York'}}, 'officialSite': 'http://www.hbo.com/game-of-thrones', 'runtime': 60, '_links': {'self': {'href': 'http://api.tvmaze.com/shows/82'}, 'previousepisode': {'href': 'http://api.tvmaze.com/episodes/1221415'}}, 'image': {'medium': 'http://static.tvmaze.com/uploads/images/medium_portrait/124/310209.jpg', 'original': 'http://static.tvmaze.com/uploads/images/original_untouched/124/310209.jpg'}, 'type': 'Scripted', 'id': 82, 'name': 'Game of Thrones', 'schedule': {'time': '21:00', 'days': ['Sunday']}, 'genres': ['Drama', 'Adventure', 'Fantasy'], 'network': {'id': 8, 'name': 'HBO', 'country': {'code': 'US', 'name': 'United States', 'timezone': 'America/New_York'}}, 'updated': 1506726326, 'language': 'English', 'externals': {'tvrage': 24493, 'thetvdb': 121361, 'imdb': 'tt0944947'}, 'summary': '<p>Based on the bestselling book series <i>A Song of Ice and Fire</i> by George R.R. Martin, this sprawling new HBO drama is set in a world where summers span decades and winters can last a lifetime. From the scheming south and the savage eastern lands, to the frozen north and ancient Wall that protects the realm from the mysterious darkness beyond, the powerful families of the Seven Kingdoms are locked in a battle for the Iron Throne. This is a story of duplicity and treachery, nobility and honor, conquest and triumph. In the <b>Game of Thrones</b>, you either win or you die.</p>', 'premiered': '2011-04-17'}\n"
     ]
    }
   ],
   "source": [
    "# example url\n",
    "res = requests.get('http://api.tvmaze.com/lookup/shows?imdb=tt0944947')\n",
    "\n",
    "# status code\n",
    "print(res.status_code)\n",
    "\n",
    "# just the contents of the name element\n",
    "print(json.loads(res.text).get('name'))\n",
    "\n",
    "# entire contents\n",
    "print(json.loads(res.text))"
   ]
  },
  {
   "cell_type": "code",
   "execution_count": 14,
   "metadata": {
    "collapsed": true
   },
   "outputs": [],
   "source": [
    "#  function to pull information from API using Json interaction\n",
    "def get_entry(entry):\n",
    "    res=requests.get('http://api.tvmaze.com/lookup/shows?imdb='+entry)\n",
    "    if res.status_code == 200:\n",
    "        try:\n",
    "            status = json.loads(res.text).get('status')\n",
    "        except AttributeError:\n",
    "            status = 'NA'\n",
    "        try: \n",
    "            rating = json.loads(res.text).get('rating').get('average')\n",
    "        except AttributeError:\n",
    "            rating = 'NA'\n",
    "            \n",
    "        try:\n",
    "            network = json.loads(res.text).get('network').get('name')\n",
    "        except AttributeError:\n",
    "            network = 'NA'\n",
    "            \n",
    "        try:\n",
    "            title = json.loads(res.text).get('name')\n",
    "        except AttributeError:\n",
    "            title = 'NA'\n",
    "            \n",
    "        try:\n",
    "            premier = json.loads(res.text).get('premiered')\n",
    "        except AttributeError:\n",
    "            premier = 'NA'\n",
    "            \n",
    "        try:\n",
    "            genres = json.loads(res.text).get('genres')\n",
    "        except AttributeError:\n",
    "            genres = 'NA'\n",
    "\n",
    "        # takes local variables as a \n",
    "        shows_df.loc[len(shows_df)] = [title, rating, genres, network, premier, status]"
   ]
  },
  {
   "cell_type": "code",
   "execution_count": 15,
   "metadata": {
    "collapsed": true
   },
   "outputs": [],
   "source": [
    "#  function to pull information from API converting Json into a python dictionary element\n",
    "def get_entry(entry):\n",
    "    res=requests.get('http://api.tvmaze.com/lookup/shows?imdb='+entry)\n",
    "    if res.status_code == 200:\n",
    "        results = json.loads(res.text)\n",
    "        \n",
    "        try:    \n",
    "            status = results['status']\n",
    "        except TypeError:\n",
    "            status = 'NA'   \n",
    "        try:\n",
    "            rating = results['rating']['average']\n",
    "        except TypeError:\n",
    "            rating = 'NA'\n",
    "        try:\n",
    "            network = results['network']['name']\n",
    "        except TypeError:\n",
    "            network = 'NA'\n",
    "        try:   \n",
    "            title = results['name']\n",
    "        except TypeError:\n",
    "            title = 'NA'\n",
    "        try:   \n",
    "            genres = results['genres']\n",
    "        except TypeError:\n",
    "            genres = 'NA'\n",
    "        try:   \n",
    "            premier = results['premiered']\n",
    "        except TypeError:\n",
    "            premier = 'NA'\n",
    "        \n",
    "        shows_df.loc[len(shows_df)] = [title, rating, genres, network, premier, status]"
   ]
  },
  {
   "cell_type": "code",
   "execution_count": null,
   "metadata": {
    "collapsed": true
   },
   "outputs": [],
   "source": [
    "# in both functions we are looking for specific elements.  If an element is missing an error will return thus the need\n",
    "# for try and except statements."
   ]
  },
  {
   "cell_type": "code",
   "execution_count": 16,
   "metadata": {
    "collapsed": true
   },
   "outputs": [],
   "source": [
    "shows_df= pd.DataFrame( columns = ['show_name', 'rating_avg', 'genres', 'network', 'premiere_date', 'status'])\n",
    "\n",
    "for entry in entries:\n",
    "    get_entry(entry)"
   ]
  },
  {
   "cell_type": "code",
   "execution_count": 17,
   "metadata": {},
   "outputs": [
    {
     "data": {
      "text/html": [
       "<div>\n",
       "<style>\n",
       "    .dataframe thead tr:only-child th {\n",
       "        text-align: right;\n",
       "    }\n",
       "\n",
       "    .dataframe thead th {\n",
       "        text-align: left;\n",
       "    }\n",
       "\n",
       "    .dataframe tbody tr th {\n",
       "        vertical-align: top;\n",
       "    }\n",
       "</style>\n",
       "<table border=\"1\" class=\"dataframe\">\n",
       "  <thead>\n",
       "    <tr style=\"text-align: right;\">\n",
       "      <th></th>\n",
       "      <th>show_name</th>\n",
       "      <th>rating_avg</th>\n",
       "      <th>genres</th>\n",
       "      <th>network</th>\n",
       "      <th>premiere_date</th>\n",
       "      <th>status</th>\n",
       "    </tr>\n",
       "  </thead>\n",
       "  <tbody>\n",
       "    <tr>\n",
       "      <th>0</th>\n",
       "      <td>It's Always Sunny in Philadelphia</td>\n",
       "      <td>8.9</td>\n",
       "      <td>[Comedy]</td>\n",
       "      <td>FXX</td>\n",
       "      <td>2005-08-04</td>\n",
       "      <td>Running</td>\n",
       "    </tr>\n",
       "    <tr>\n",
       "      <th>1</th>\n",
       "      <td>Pushing Daisies</td>\n",
       "      <td>8.6</td>\n",
       "      <td>[Drama, Mystery, Supernatural]</td>\n",
       "      <td>ABC</td>\n",
       "      <td>2007-10-03</td>\n",
       "      <td>Ended</td>\n",
       "    </tr>\n",
       "    <tr>\n",
       "      <th>2</th>\n",
       "      <td>Steins Gate</td>\n",
       "      <td>9.5</td>\n",
       "      <td>[Drama, Anime, Fantasy, Science-Fiction]</td>\n",
       "      <td>SUN-TV</td>\n",
       "      <td>2011-04-06</td>\n",
       "      <td>Ended</td>\n",
       "    </tr>\n",
       "    <tr>\n",
       "      <th>3</th>\n",
       "      <td>Legion</td>\n",
       "      <td>7.5</td>\n",
       "      <td>[Drama, Action, Science-Fiction]</td>\n",
       "      <td>FX</td>\n",
       "      <td>2017-02-08</td>\n",
       "      <td>Running</td>\n",
       "    </tr>\n",
       "    <tr>\n",
       "      <th>4</th>\n",
       "      <td>The Grand Tour</td>\n",
       "      <td>8.3</td>\n",
       "      <td>[Comedy, Adventure]</td>\n",
       "      <td>NA</td>\n",
       "      <td>2016-11-18</td>\n",
       "      <td>Running</td>\n",
       "    </tr>\n",
       "  </tbody>\n",
       "</table>\n",
       "</div>"
      ],
      "text/plain": [
       "                           show_name  rating_avg  \\\n",
       "0  It's Always Sunny in Philadelphia         8.9   \n",
       "1                    Pushing Daisies         8.6   \n",
       "2                        Steins Gate         9.5   \n",
       "3                             Legion         7.5   \n",
       "4                     The Grand Tour         8.3   \n",
       "\n",
       "                                     genres network premiere_date   status  \n",
       "0                                  [Comedy]     FXX    2005-08-04  Running  \n",
       "1            [Drama, Mystery, Supernatural]     ABC    2007-10-03    Ended  \n",
       "2  [Drama, Anime, Fantasy, Science-Fiction]  SUN-TV    2011-04-06    Ended  \n",
       "3          [Drama, Action, Science-Fiction]      FX    2017-02-08  Running  \n",
       "4                       [Comedy, Adventure]      NA    2016-11-18  Running  "
      ]
     },
     "execution_count": 17,
     "metadata": {},
     "output_type": "execute_result"
    }
   ],
   "source": [
    "shows_df.head()"
   ]
  },
  {
   "cell_type": "code",
   "execution_count": 18,
   "metadata": {},
   "outputs": [
    {
     "name": "stdout",
     "output_type": "stream",
     "text": [
      "<class 'pandas.core.frame.DataFrame'>\n",
      "Int64Index: 236 entries, 0 to 235\n",
      "Data columns (total 6 columns):\n",
      "show_name        236 non-null object\n",
      "rating_avg       229 non-null float64\n",
      "genres           236 non-null object\n",
      "network          236 non-null object\n",
      "premiere_date    236 non-null object\n",
      "status           236 non-null object\n",
      "dtypes: float64(1), object(5)\n",
      "memory usage: 12.9+ KB\n"
     ]
    }
   ],
   "source": [
    "shows_df.info()"
   ]
  },
  {
   "cell_type": "code",
   "execution_count": null,
   "metadata": {
    "collapsed": true
   },
   "outputs": [],
   "source": []
  }
 ],
 "metadata": {
  "kernelspec": {
   "display_name": "Python 3",
   "language": "python",
   "name": "python3"
  },
  "language_info": {
   "codemirror_mode": {
    "name": "ipython",
    "version": 3
   },
   "file_extension": ".py",
   "mimetype": "text/x-python",
   "name": "python",
   "nbconvert_exporter": "python",
   "pygments_lexer": "ipython3",
   "version": "3.6.2"
  }
 },
 "nbformat": 4,
 "nbformat_minor": 1
}
