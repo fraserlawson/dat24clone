{
 "cells": [
  {
   "cell_type": "markdown",
   "metadata": {
    "slideshow": {
     "slide_type": "slide"
    }
   },
   "source": [
    "### What next?\n",
    "\n",
    "\n",
    "- Next session: Exploratory Data Analysis in Pandas\n",
    "- Unit Project 1 to be submitted ahead of the next class\n",
    "- Slack Office Hours tomorrow (me, 12-1pm), Friday (Jasmine, 12.30-1.30pm). Face to face meetings: me, next Monday 5-6pm.   \n",
    "- Fill in Exit Tickets"
   ]
  }
 ],
 "metadata": {
  "celltoolbar": "Slideshow",
  "kernelspec": {
   "display_name": "Python 3",
   "language": "python",
   "name": "python3"
  },
  "language_info": {
   "codemirror_mode": {
    "name": "ipython",
    "version": 3
   },
   "file_extension": ".py",
   "mimetype": "text/x-python",
   "name": "python",
   "nbconvert_exporter": "python",
   "pygments_lexer": "ipython3",
   "version": "3.6.5"
  }
 },
 "nbformat": 4,
 "nbformat_minor": 2
}
