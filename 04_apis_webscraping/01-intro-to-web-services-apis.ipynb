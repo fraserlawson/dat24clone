{
 "cells": [
  {
   "cell_type": "markdown",
   "metadata": {
    "slideshow": {
     "slide_type": "slide"
    }
   },
   "source": [
    "<img src=\"http://imgur.com/1ZcRyrc.png\" style=\"float: left; margin: 20px; height: 55px\">\n",
    "\n",
    "# Introduction to Web Services and APIs\n",
    "\n",
    "\n",
    "\n",
    "---\n",
    "![](assets/opening.png)"
   ]
  },
  {
   "cell_type": "markdown",
   "metadata": {
    "slideshow": {
     "slide_type": "slide"
    }
   },
   "source": [
    "# Agenda\n",
    "\n",
    "#### Housekeeping\n",
    "#### Part 1: Introduction to Web Services & APIs\n",
    "#### BREAK\n",
    "#### Part 2: Start working on Unit Project 1"
   ]
  },
  {
   "cell_type": "markdown",
   "metadata": {
    "slideshow": {
     "slide_type": "slide"
    }
   },
   "source": [
    "# Housekeeping"
   ]
  },
  {
   "cell_type": "markdown",
   "metadata": {
    "slideshow": {
     "slide_type": "fragment"
    }
   },
   "source": [
    "- Office hours (Slack, plus face to face)"
   ]
  },
  {
   "cell_type": "markdown",
   "metadata": {
    "slideshow": {
     "slide_type": "fragment"
    }
   },
   "source": [
    "- Make sure you have set up your private Github repo, and give the relevant Instructor Team members (your TA and me) access to it."
   ]
  },
  {
   "cell_type": "markdown",
   "metadata": {
    "slideshow": {
     "slide_type": "fragment"
    }
   },
   "source": [
    "- Unit Project 1 to be submitted by 6pm on Monday, July 2nd, via Github. No exceptions."
   ]
  },
  {
   "cell_type": "markdown",
   "metadata": {
    "slideshow": {
     "slide_type": "fragment"
    }
   },
   "source": [
    "- Elevator pitch for your Final Project is on Monday, July 16th (Lecture 9). \n"
   ]
  },
  {
   "cell_type": "markdown",
   "metadata": {
    "slideshow": {
     "slide_type": "slide"
    }
   },
   "source": [
    "### Learning Objectives\n",
    "*After this lesson, you will be able to:*\n",
    "- Identify relevant HTTP Verbs & their uses.\n",
    "- Describe Application Programming Interfaces (APIs) and know how to make calls and consume API data.\n",
    "- Access public APIs and get information back.\n",
    "- Read and write data in JSON format.\n",
    "- Use the `requests` library."
   ]
  },
  {
   "cell_type": "markdown",
   "metadata": {
    "slideshow": {
     "slide_type": "slide"
    }
   },
   "source": [
    "<a name=\"intro\"></a>\n",
    "## Introduction to APIs\n",
    "\n",
    "---\n",
    "\n",
    "In this lesson, we will be diving into the world of APIs. We will take a tour of one of the most accessible sources of data on the Internet.\n",
    "\n",
    "You will learn:\n",
    "- **What is meant by an \"API\"**\n",
    "- **Common API use cases**\n",
    "- **How to read API documentation**\n",
    "- **General development workflow with APIs**\n"
   ]
  },
  {
   "cell_type": "markdown",
   "metadata": {
    "slideshow": {
     "slide_type": "slide"
    }
   },
   "source": [
    "<a id='what-is-api'></a>\n",
    "## What is an API?\n",
    "\n",
    "---\n",
    "\n",
    "An **API (Application Programming Interface)** is a set of routines, protocols, and tools for building software applications. It specifies how software components should interact.\n",
    "\n",
    "We are used to many **interfaces** in real life. For example:\n",
    "\n",
    "- **A door handle.** We don't care how a door works. All that we expect is that pushing or pulling the handle will open the door. In fact, the way the door opens (theoretically) could be entirely different each time we use the door. \n",
    "\n",
    "- **File->Print.** We don't care how the computer prints the document. All that we expect is that using the Print option in the File menu will print the document. In fact, the way the computer prints it could change every time the program is updated. \n",
    "\n",
    "\n"
   ]
  },
  {
   "cell_type": "markdown",
   "metadata": {
    "slideshow": {
     "slide_type": "subslide"
    }
   },
   "source": [
    "In programming, we also use many interfaces. The interface we use to a programming library is its function calls. For example:\n",
    "\n",
    "- **Matplotlib `plot()`**: We don't care how the `plot()` function works. All that we expect is that calling this function (with appropriate parameters) will plot the data and return a graphic. In fact, how the function works can completely change from version to version. \n",
    "\n",
    "**These are APIs -- Application Programming Interfaces.** The functions that you call and the parameters you call them with make up the interface to a programming library.\n"
   ]
  },
  {
   "cell_type": "markdown",
   "metadata": {
    "slideshow": {
     "slide_type": "subslide"
    }
   },
   "source": [
    "#### Web APIs\n",
    "\n",
    "- **How does this extend to the web?** A Web API is a list of function calls that are made to remote servers. The function call is sent by encoding it as a URL (technically, as an HTTP request -- we'll discuss these later!). The function call typically returns a string of text (e.g. JSON)."
   ]
  },
  {
   "cell_type": "markdown",
   "metadata": {
    "slideshow": {
     "slide_type": "slide"
    }
   },
   "source": [
    "APIs are a way developers connect functionality to data, devices, and other resources they provide. \n",
    "\n",
    "Some examples that APIs can assist with are:\n",
    "\n",
    "- Connectivity to a variety of databases\n",
    "- Python modules that can turn LED lights on and off\n",
    "- Application that runs on native Windows, OSX, or Linux\n",
    "- Libraries that post content on Twitter, Facebook, Yelp, or LinkedIn\n",
    "- Web services for accessing currency or stock prices\n",
    "\n"
   ]
  },
  {
   "cell_type": "markdown",
   "metadata": {
    "slideshow": {
     "slide_type": "fragment"
    }
   },
   "source": [
    "More abstract examples:\n",
    "- Adding your own functions to Numpy itself\n",
    "- Extending Python with C code\n",
    "- Testing Frameworks\n",
    "\n",
    "In the context of data science, APIs are a very common method to interact with data hosted by third parties and most commonly provided by **Web Service APIs**, or just **Web APIs**."
   ]
  },
  {
   "cell_type": "markdown",
   "metadata": {
    "slideshow": {
     "slide_type": "subslide"
    }
   },
   "source": [
    "### Why did APIs become popular?\n",
    "\n",
    "APIs became popular for many reasons:\n",
    "\n",
    "- Easy to use for JavaScript programmers\n",
    "- Prevent website scraping\n",
    "- Allow a website's brand to be incorporated into other websites \n",
    "\n",
    "More importantly, in the modern web, nearly every website uses **internal APIs** for shuttling dynamic data between the browser and the website. "
   ]
  },
  {
   "cell_type": "markdown",
   "metadata": {
    "slideshow": {
     "slide_type": "slide"
    }
   },
   "source": [
    "<a id='famous'></a>\n",
    "<a id='facebook'></a>\n",
    "\n",
    "### Famous APIs:  Facebook Graph API\n",
    "\n",
    "Facebook provides an API for interacting with their service.  At a glance:\n",
    "\n",
    "- View your posts\n",
    "- View websites, people, posts, pages that you've liked\n",
    "- View activity on apps from you and your friends\n",
    "  - Movies watched\n",
    "  - Music listened\n",
    "  - Games played\n",
    "- View places traveled / check-ins\n",
    "- Relationships\n",
    "\n"
   ]
  },
  {
   "cell_type": "markdown",
   "metadata": {
    "slideshow": {
     "slide_type": "slide"
    }
   },
   "source": [
    "<a id='yelp'></a>\n",
    "### Famous APIs:  Yelp API\n",
    "\n",
    "Yelp provides a way for developers to access:\n",
    "\n",
    "- Reviews\n",
    " - Services\n",
    " - Restaraunts / Bars / Cafes\n",
    " - Businesses\n",
    "- Business meta-data\n",
    "\n"
   ]
  },
  {
   "cell_type": "markdown",
   "metadata": {
    "slideshow": {
     "slide_type": "slide"
    }
   },
   "source": [
    "<a id='echonest'></a>\n",
    "### Famous APIs:  The Echo Nest\n",
    "\n",
    "The Echo Nest consolidates access to many entertainment service APIs in one place.  It has a huge list of features and connected services including:\n",
    "\n",
    "- Spotify\n",
    "- Pandora\n",
    "- Rdio\n",
    "- Gracenote\n",
    "- SoundHound\n",
    "- Shazam"
   ]
  },
  {
   "cell_type": "markdown",
   "metadata": {
    "slideshow": {
     "slide_type": "subslide"
    }
   },
   "source": [
    "Some Echonest features include:\n",
    "\n",
    "- Music waveform identification (like Shazam, Soundhound music ID)\n",
    "- Playlist recommendations\n",
    "- Detailed artist, album, and track lookup\n",
    " - Bio / Origins / Contemporaries / Noteworthy Accomplishments\n",
    " - Official twitter / website / social media links\n",
    " - BPM / Mood / Popularity / Genre(s) \n",
    " - Images / Videos / Media\n",
    "- Detailed movie, actor, product lookup\n",
    "- Concert Schedules and ticket metadata"
   ]
  },
  {
   "cell_type": "markdown",
   "metadata": {
    "slideshow": {
     "slide_type": "slide"
    }
   },
   "source": [
    "<a id='web-apis'></a>\n",
    "## Web APIs\n",
    "\n",
    "---\n",
    "\n",
    "\n",
    "The prevelance of web APIs have increased 10x with the rise of Javascript and advent of web programming techniques. These allow for the transmission of small pieces of data without having to refresh the entire page.\n",
    "\n",
    "With the growth of highly interactive websites powered by modern Javascript, many languages have started co-opting standards to communicate data to and from web servers for two big reasons:\n",
    "- Ease of integration\n",
    "- Consistent standards\n",
    "\n",
    "Modern Javascript allows for **asynchronous requests**, or **AJAX** (Asynchronous JavaScript And XML). This allows websites to send/receive data in the background, e.g. to/from APIs. "
   ]
  },
  {
   "cell_type": "markdown",
   "metadata": {
    "slideshow": {
     "slide_type": "slide"
    }
   },
   "source": [
    "<a name=\"api-calls\"></a>\n",
    "## Making API calls\n",
    "\n",
    "---\n",
    "\n",
    "API calls are really a fancy term for making _HTTP requests_ (in the context of web APIs) to a server and sending/receiving structured data from that endpoint (URL). We are still communicating with URLs, however instead of receiving a string of HTML, we receive data.\n",
    "\n",
    "[Representational state transfer (REST)](https://spring.io/understanding/REST) is the most common architecture style for passing information to and from these API endpoints.\n",
    "\n"
   ]
  },
  {
   "cell_type": "markdown",
   "metadata": {
    "slideshow": {
     "slide_type": "subslide"
    }
   },
   "source": [
    "### API Tokens\n",
    "\n",
    "Many APIs are free to access. You first need to register as a developer and obtain an authorization key. In most cases, this is also accompanied by a temporary token that needs to be renewed after some time. This is a way to prevent abuse on the server's resources. \n",
    "\n",
    "- For example, the Twitter API requires a token that is used to track how many requests each user makes. Each user can retrieve a limited number of tweets, unless they pay for premium services.\n",
    "\n",
    "Before we start consuming API services, it is important to understand the fundamentals of the underlying communication layer: **HTTP**."
   ]
  },
  {
   "cell_type": "markdown",
   "metadata": {
    "slideshow": {
     "slide_type": "slide"
    }
   },
   "source": [
    "<a id='http'></a>\n",
    "## HTTP\n",
    "\n",
    "---\n",
    "\n",
    "**HTTP (HyperText Transfer Protocol)** is a protocol - a system of rules - that determines how web pages (see:'hypertext') get sent (see:'transferred') from one place to another. Among other things, it defines the format of the messages passed between HTTP clients and HTTP servers.\n",
    "\n",
    "Since the web is a service, it works through a combination of **clients** (that _make_ requests) and **servers** (that _receive_ requests).\n"
   ]
  },
  {
   "cell_type": "markdown",
   "metadata": {
    "slideshow": {
     "slide_type": "slide"
    }
   },
   "source": [
    "### The HTTP client\n",
    "\n",
    "**HTTP clients** make or generate **HTTP requests**. Some types of clients are:\n",
    "\n",
    "* Browsers - Chrome, Firefox and Safari.\n",
    "* Command Line programs - [curl](http://curl.haxx.se/docs/) and [wget](http://www.gnu.org/software/wget/manual/wget.html).\n",
    "* Application code -  Python Requsts, Scrapy, Mechanize\n",
    "\n",
    "HTTP clients respond to HTTP responses from a **web server**/**HTTP server**. A web server is just a computer that listens for and responds to HTTP requests."
   ]
  },
  {
   "cell_type": "markdown",
   "metadata": {
    "slideshow": {
     "slide_type": "slide"
    }
   },
   "source": [
    "### HTTP and web servers\n",
    "\n",
    "All _web servers_ receive _HTTP requests_ and generate _HTTP responses_. Often web servers are just the middleman, passing HTTP requests and responses between the client and web application. Two of the most popular _HTTP or Web servers_ are [Apache](http://httpd.apache.org/) and [Nginx](http://nginx.com/), But there are many different [web servers](https://www.tutorialspoint.com/internet_technologies/web_servers.htm) out there."
   ]
  },
  {
   "cell_type": "markdown",
   "metadata": {
    "slideshow": {
     "slide_type": "slide"
    }
   },
   "source": [
    "<a id='web-app'></a>\n",
    "## Web applications\n",
    "\n",
    "---\n",
    "\n",
    "Web applications are programs that run on a web server. They process the HTTP requests that the server receives and generate HTTP responses.\n",
    "\n",
    "![HTTP Request and Response](assets/request-response.png)\n",
    "\n"
   ]
  },
  {
   "cell_type": "markdown",
   "metadata": {
    "slideshow": {
     "slide_type": "subslide"
    }
   },
   "source": [
    "Lost? Here's the step-by-step.\n",
    "\n",
    "1. A client sends a HTTP request to a HTTP server running on a remote machine.  \n",
    "  * The _hostname_, given in the URL, indicates which server will receive the request.  \n",
    "2. The HTTP server processes the HTTP request. This may entail passing the request to some web application, which creates a HTTP response. \n",
    "3. The response gets sent back to the client.\n",
    "4. The client processes the response.\n",
    "\n",
    "How does the server know what the request is asking for? This is specified by the URL, a special kind of path that specifies where a resource can be found on the web.\n",
    "\n",
    "![URL](./assets/http1-url-structure.png)\n"
   ]
  },
  {
   "cell_type": "markdown",
   "metadata": {
    "slideshow": {
     "slide_type": "slide"
    }
   },
   "source": [
    "<a name=\"demo-http\"></a>\n",
    "## Demo: HTTP\n",
    "\n",
    "---\n",
    "\n",
    "Let's explore HTTP resources. We'll start by looking at HTTP requests and responses using the Chrome Inspector.\n",
    "\n",
    "![HTTP Request and Response](./assets/http_request_response.jpeg \"HTTP Request and Response\")\n",
    "\n",
    "* In Chrome, open up Chrome Inspector (*command + option + 'i', or ctrl + click and select 'inspect element'*)."
   ]
  },
  {
   "cell_type": "markdown",
   "metadata": {
    "slideshow": {
     "slide_type": "subslide"
    }
   },
   "source": [
    "\n",
    "* Select the Network tab. It should look something like this:\n",
    "\n",
    "![Chrome Inspector](./assets/chrome_inspector.png)\n",
    "\n"
   ]
  },
  {
   "cell_type": "markdown",
   "metadata": {
    "slideshow": {
     "slide_type": "subslide"
    }
   },
   "source": [
    "* Next, go to the URL https://generalassemb.ly/\n",
    "\n",
    "You should be able to see a few HTTP requests and responses in the Network tab. For each request, you'll see a **Path**, **Method**, **Status**, **Type**, and **Size**, along with info about how long it took to get each of these resources.\n",
    "  * Most of this information comes from the HTTP Request and Response.\n",
    "  * Some HTTP requests are for CSS, JavaScript and images that are referenced by the HTML.\n",
    "  * Select `generalassemb.ly` in the Path column on the far left.\n",
    "  * Select the Headers tab. **Headers** are meta-data properties of an HTTP request or response, separate from the body of the message."
   ]
  },
  {
   "cell_type": "markdown",
   "metadata": {
    "slideshow": {
     "slide_type": "slide"
    }
   },
   "source": [
    "<a id='http-request'></a>\n",
    "## HTTP Request\n",
    "\n",
    "---\n",
    "\n",
    "First, notice that every HTTP request is ultimately plain text -- it is human-readable! This is convenient, but it makes requests larger.\n",
    "\n",
    "The first word in the request line, _GET_, is the **HTTP method**.\n",
    "\n",
    "![HTTP Request](./assets/http_request.jpeg \"HTTP Request\")\n",
    "\n",
    "<a id='request-methods'></a>\n",
    "### HTTP Request methods:\n",
    "\n",
    "* **`GET`** => Retrieve a resource.  \n",
    "* **`POST`** => Create a resource.  \n",
    "* **`PATCH`** (_or **`PUT`**, but **`PATCH`** is recommended_) => Update an existing resource.  \n",
    "* **`DELETE`** => Delete a resource.  \n",
    "* **`HEAD`** => Retrieve the headers for a resource.\n",
    "\n",
    "Of these, **`GET`** and **`POST`** are the most widely used."
   ]
  },
  {
   "cell_type": "markdown",
   "metadata": {
    "slideshow": {
     "slide_type": "slide"
    }
   },
   "source": [
    "<a id='request-structure'></a>\n",
    "### HTTP Request structure:\n",
    "\n",
    "```\n",
    "[http request method] [URL] [http version]  \n",
    "[list of headers]\n",
    "\n",
    "[request body]\n",
    "```\n",
    "\n",
    "*Notice that the request header is separated from the request body by a new line.*"
   ]
  },
  {
   "cell_type": "markdown",
   "metadata": {
    "slideshow": {
     "slide_type": "slide"
    }
   },
   "source": [
    "**HTTP Request Method Example: (No Body)**\n",
    "\n",
    "    GET http://vermonster.com HTTP/1.1  \n",
    "    Accept:text/html,application/xhtml+xml,application/xml;q=0.9,image/webp,*/*;q=0.8  \n",
    "    Accept-Encoding:gzip,deflate,sdch\n",
    "    Accept-Language:en-US,en;q=0.8  \n",
    "    Connection:keep-alive  \n",
    "    Host:vermonster.com  \n",
    "    User-Agent:Mozilla/5.0 (Macintosh; Intel Mac OS X 10_8_5)  \n",
    "    AppleWebKit/537.36 (KHTML, like Gecko) Chrome/32.0.1659.2 Safari/537.36  "
   ]
  },
  {
   "cell_type": "markdown",
   "metadata": {
    "slideshow": {
     "slide_type": "slide"
    }
   },
   "source": [
    "<a id='http-response'></a>\n",
    "## HTTP Response\n",
    "\n",
    "---\n",
    "\n",
    "![HTTP Response](./assets/http_response.jpeg \"HTTP Response\")\n",
    "\n",
    "When a client sends a request, the server sends back a response; the standard format for this response is:\n",
    "\n",
    "```\n",
    "[http version] [status] [reason]  \n",
    "[list of headers]\n",
    "\n",
    "[response body] # typically HTML, JSON, ...  \n",
    "```"
   ]
  },
  {
   "cell_type": "markdown",
   "metadata": {
    "slideshow": {
     "slide_type": "slide"
    }
   },
   "source": [
    "<a id='response-types'></a>\n",
    "### Response types overview\n",
    "\n",
    "> Check these out when you have time -- at least be aware that there is an expected pattern to these codes:\n",
    "\n",
    "**[Status codes](http://en.wikipedia.org/wiki/List_of_HTTP_status_codes)** have standard meanings; here are a few.\n",
    "\n",
    "|Code|Reason|\n",
    "|:---|:-----|\n",
    "|200| OK\n",
    "|301| Moved Permanently\n",
    "|302| Moved Temporarily\n",
    "|307| Temporary Redirect\n",
    "|400| Bad Request\n",
    "|403| Forbidden\n",
    "|404| Not Found\n",
    "|500| Internal Server Error"
   ]
  },
  {
   "cell_type": "markdown",
   "metadata": {
    "slideshow": {
     "slide_type": "slide"
    }
   },
   "source": [
    "<a name=\"json\"></a>\n",
    "## JSON\n",
    "\n",
    "---\n",
    "\n",
    "JSON is short for _JavaScript Object Notation_, and is a way to store information in an organized, easy-to-access manner. In a nutshell, it gives us a human-readable collection of data that we can access in a really logical manner.\n",
    "\n",
    "It is very important to realize that JSON is just plain text that you can edit in a text editor. It is called JSON because a JSON string is valid JavaScript code. Because of this, JSON has become very popular with JavaScript programmers for talking with APIs.\n",
    "\n",
    "**JSON is built on two structures:**\n",
    "* A collection of name/value pairs. In various languages, this is realized as an object, record, structure, dictionary, hash table, keyed list, or associative array.\n",
    "* An ordered list of values. In most languages, this is realized as an array, vector, list, or sequence.\n",
    "\n",
    "These are universal data structures. Virtually all modern programming languages support them in one form or another. It makes sense that a data format that is interchangeable with programming languages also be based on these structures."
   ]
  },
  {
   "cell_type": "markdown",
   "metadata": {
    "slideshow": {
     "slide_type": "slide"
    }
   },
   "source": [
    "### JSON objects\n",
    "\n",
    "An object is an unordered set of name/value pairs, like python dictionaries. An object begins with `{` (left brace) and ends with `}` (right brace). Each name is followed by `:` (colon) and the name/value pairs are separated by `,` (comma).\n",
    "\n",
    "The syntax is as follows:\n",
    "\n",
    "```\n",
    "{ string : value, .......}\n",
    "```\n",
    "like:\n",
    "```\n",
    "{\"count\": 1, ...}\n",
    "```\n",
    "_Seems an awful lot like a Python dictionary._"
   ]
  },
  {
   "cell_type": "markdown",
   "metadata": {
    "slideshow": {
     "slide_type": "slide"
    }
   },
   "source": [
    "<a name=\"guided-practice\"></a>\n",
    "## Pulling data from APIs\n",
    "\n",
    "---\n",
    "\n",
    "Recall that APIs are methods and data formats to tell people how to \"talk\" to a system. We will walk through a couple of examples."
   ]
  },
  {
   "cell_type": "markdown",
   "metadata": {
    "slideshow": {
     "slide_type": "slide"
    }
   },
   "source": [
    "<a id='ex1-star-wars'></a>\n",
    "### Example 1: Star Wars\n",
    "\n",
    "The Star Wars API (SWAPI) is a large collection of data about Star Wars. It can be browsed at the address: http://swapi.co/.\n",
    "\n",
    "What if we wanted to programatically access the data in SWAPI? Unless we are employees of the site, we probably don't have direct access to their internal database. So, we cannot perform SQL queries on their data.\n",
    "\n",
    "We could use scraping to retrieve data from the web page. In some cases (particularly if they do not have a public API), we will have to do exactly that.\n",
    "\n",
    "> *Note: check the \"Terms of Service\" before you scrape a website. Scraping could infringe their terms of service.*\n",
    "\n",
    "In other cases, the website offers a way to programatically access data from their database -- often, as an API.\n",
    "\n"
   ]
  },
  {
   "cell_type": "markdown",
   "metadata": {
    "slideshow": {
     "slide_type": "subslide"
    }
   },
   "source": [
    "**Let's try for example to retrieve the data about the \"Obi-Wan Kenobi\".**\n",
    "\n",
    "Referencing the [SWAPI Documentation](http://swapi.co/documentation), lets create a query to search for characters with \"obi\" in their name.\n",
    "\n",
    "**In a browser, paste:**\n",
    "\n",
    "    https://swapi.co/api/people/?format=json&search=obi\n"
   ]
  },
  {
   "cell_type": "markdown",
   "metadata": {
    "slideshow": {
     "slide_type": "slide"
    }
   },
   "source": [
    "{\n",
    "    \"count\": 1,   \n",
    "    \"next\": null,   \n",
    "    \"previous\": null,   \n",
    "    \"results\": [  \n",
    "        {  \n",
    "            \"name\": \"Obi-Wan Kenobi\",   \n",
    "            \"height\": \"182\",   \n",
    "            \"mass\": \"77\",   \n",
    "            \"hair_color\": \"auburn, white\",   \n",
    "            \"skin_color\": \"fair\",   \n",
    "            \"eye_color\": \"blue-gray\",   \n",
    "            \"birth_year\": \"57BBY\",   \n",
    "            \"gender\": \"male\",   \n",
    "            \"homeworld\": \"http://swapi.co/api/planets/20/\",   \n",
    "            \"films\": [    \n",
    "                \"http://swapi.co/api/films/2/\",   \n",
    "                \"http://swapi.co/api/films/5/\",   \n",
    "                \"http://swapi.co/api/films/4/\",   \n",
    "                \"http://swapi.co/api/films/6/\",   \n",
    "                \"http://swapi.co/api/films/3/\",   \n",
    "                \"http://swapi.co/api/films/1/\"  \n",
    "            ],   \n",
    "            \"species\": [\"http://swapi.co/api/species/1/\"],     \n",
    "            \"vehicles\": [\"http://swapi.co/api/vehicles/38/\"],   \n",
    "            \"starships\": [  \n",
    "                \"http://swapi.co/api/starships/48/\",     \n",
    "                \"http://swapi.co/api/starships/59/\",   \n",
    "                \"http://swapi.co/api/starships/64/\",   \n",
    "                \"http://swapi.co/api/starships/65/\",   \n",
    "                \"http://swapi.co/api/starships/74/\"  \n",
    "            ],   \n",
    "            \"created\": \"2014-12-10T16:16:29.192000Z\",     \n",
    "            \"edited\": \"2014-12-20T21:17:50.325000Z\",     \n",
    "            \"url\": \"http://swapi.co/api/people/10/\"    \n",
    "        }  \n",
    "    ]  \n",
    "}  "
   ]
  },
  {
   "cell_type": "markdown",
   "metadata": {
    "slideshow": {
     "slide_type": "slide"
    }
   },
   "source": [
    "###  What Just Happened?"
   ]
  },
  {
   "cell_type": "markdown",
   "metadata": {
    "slideshow": {
     "slide_type": "fragment"
    }
   },
   "source": [
    "We requested a url, which responded with JSON.\n",
    "\n",
    "SWAPI has a GUI-based response as well which is the default.\n",
    "\n",
    "https://swapi.co/api/people/?search=obi\n",
    "\n",
    "Also a Wookie-flavored one:\n",
    "\n",
    "https://swapi.co/api/people/?format=wookiee&search=obi"
   ]
  },
  {
   "cell_type": "markdown",
   "metadata": {
    "slideshow": {
     "slide_type": "slide"
    }
   },
   "source": [
    "<a id='submit'></a>\n",
    "### Try submitting a couple more queries to familiarize with the API.\n",
    "\n",
    "- You can also query an API from the command line using the app `curl`. Try typing:\n",
    "\n",
    "    `curl http://swapi.co/api/people/13/?format=json`\n"
   ]
  },
  {
   "cell_type": "markdown",
   "metadata": {
    "slideshow": {
     "slide_type": "fragment"
    }
   },
   "source": [
    "```javascript   \n",
    "{\"name\":\"Chewbacca\",\n",
    " \"height\":\"228\",\n",
    " \"mass\":\"112\",\n",
    " \"hair_color\":\"brown\",\n",
    " \"skin_color\":\"unknown\",\n",
    " \"eye_color\":\"blue\",\n",
    " \"birth_year\":\"200BBY\",\n",
    " \"gender\":\"male\",\n",
    " \"homeworld\":\"http://swapi.co/api/planets/14/\",\n",
    " \"films\": [\"http://swapi.co/api/films/2/\",\"http://swapi.co/api/films/6/\",\"http://swapi.co/api/films/3/\",\"http://swapi.co/api/films/1/\",\"http://swapi.co/api/films/7/\"],\n",
    " \"species\":[\"http://swapi.co/api/species/3/\"],\n",
    " \"vehicles\":[\"http://swapi.co/api/vehicles/19/\"],\n",
    " \"starships\":[\"http://swapi.co/api/starships/10/\",\"http://swapi.co/api/starships/22/\"],\n",
    " \"created\":\"2014-12-10T16:42:45.066000Z\",\n",
    " \"edited\":\"2014-12-20T21:17:50.332000Z\",\n",
    " \"url\":\"http://swapi.co/api/people/13/\"}\n",
    "```"
   ]
  },
  {
   "cell_type": "code",
   "execution_count": 1,
   "metadata": {
    "slideshow": {
     "slide_type": "slide"
    }
   },
   "outputs": [
    {
     "data": {
      "text/html": [
       "<div>\n",
       "<style>\n",
       "    .dataframe thead tr:only-child th {\n",
       "        text-align: right;\n",
       "    }\n",
       "\n",
       "    .dataframe thead th {\n",
       "        text-align: left;\n",
       "    }\n",
       "\n",
       "    .dataframe tbody tr th {\n",
       "        vertical-align: top;\n",
       "    }\n",
       "</style>\n",
       "<table border=\"1\" class=\"dataframe\">\n",
       "  <thead>\n",
       "    <tr style=\"text-align: right;\">\n",
       "      <th></th>\n",
       "      <th>birth_year</th>\n",
       "      <th>created</th>\n",
       "      <th>edited</th>\n",
       "      <th>eye_color</th>\n",
       "      <th>films</th>\n",
       "      <th>gender</th>\n",
       "      <th>hair_color</th>\n",
       "      <th>height</th>\n",
       "      <th>homeworld</th>\n",
       "      <th>mass</th>\n",
       "      <th>name</th>\n",
       "      <th>skin_color</th>\n",
       "      <th>species</th>\n",
       "      <th>starships</th>\n",
       "      <th>url</th>\n",
       "      <th>vehicles</th>\n",
       "    </tr>\n",
       "  </thead>\n",
       "  <tbody>\n",
       "    <tr>\n",
       "      <th>0</th>\n",
       "      <td>57BBY</td>\n",
       "      <td>2014-12-10T16:16:29.192000Z</td>\n",
       "      <td>2014-12-20T21:17:50.325000Z</td>\n",
       "      <td>blue-gray</td>\n",
       "      <td>[https://swapi.co/api/films/2/, https://swapi....</td>\n",
       "      <td>male</td>\n",
       "      <td>auburn, white</td>\n",
       "      <td>182</td>\n",
       "      <td>https://swapi.co/api/planets/20/</td>\n",
       "      <td>77</td>\n",
       "      <td>Obi-Wan Kenobi</td>\n",
       "      <td>fair</td>\n",
       "      <td>[https://swapi.co/api/species/1/]</td>\n",
       "      <td>[https://swapi.co/api/starships/48/, https://s...</td>\n",
       "      <td>https://swapi.co/api/people/10/</td>\n",
       "      <td>[https://swapi.co/api/vehicles/38/]</td>\n",
       "    </tr>\n",
       "  </tbody>\n",
       "</table>\n",
       "</div>"
      ],
      "text/plain": [
       "  birth_year                      created                       edited  \\\n",
       "0      57BBY  2014-12-10T16:16:29.192000Z  2014-12-20T21:17:50.325000Z   \n",
       "\n",
       "   eye_color                                              films gender  \\\n",
       "0  blue-gray  [https://swapi.co/api/films/2/, https://swapi....   male   \n",
       "\n",
       "      hair_color height                         homeworld mass  \\\n",
       "0  auburn, white    182  https://swapi.co/api/planets/20/   77   \n",
       "\n",
       "             name skin_color                            species  \\\n",
       "0  Obi-Wan Kenobi       fair  [https://swapi.co/api/species/1/]   \n",
       "\n",
       "                                           starships  \\\n",
       "0  [https://swapi.co/api/starships/48/, https://s...   \n",
       "\n",
       "                               url                             vehicles  \n",
       "0  https://swapi.co/api/people/10/  [https://swapi.co/api/vehicles/38/]  "
      ]
     },
     "execution_count": 1,
     "metadata": {},
     "output_type": "execute_result"
    }
   ],
   "source": [
    "# Request example for the SWAPI example\n",
    "import pandas as pd\n",
    "import requests\n",
    "\n",
    "result = requests.get(\"http://swapi.co/api/people/10/\")\n",
    "df = pd.DataFrame([result.json()])\n",
    "df"
   ]
  },
  {
   "cell_type": "markdown",
   "metadata": {
    "slideshow": {
     "slide_type": "slide"
    }
   },
   "source": [
    "<a id='ex2-geocode'></a>\n",
    "### Example 2: Google Geocode API\n",
    "\n",
    "Google offers a freely accessible API to query their GEO databases.  One of the many features Google Maps API provides is a way to get longitude and latitude coordinates from addresses.\n",
    "\n",
    "**Try pasting the following line in your browser:**\n",
    "\n",
    "    https://maps.googleapis.com/maps/api/geocode/json?address=225+Bush+St+San+Francisco+CA"
   ]
  },
  {
   "cell_type": "code",
   "execution_count": 2,
   "metadata": {},
   "outputs": [
    {
     "name": "stdout",
     "output_type": "stream",
     "text": [
      "{'lat': 37.790841, 'lng': -122.4012802}\n"
     ]
    }
   ],
   "source": [
    "# Request the resource from google maps\n",
    "result = requests.get(\"https://maps.googleapis.com/maps/api/geocode/json?address=225+Bush+St+San+Francisco+CA\")\n",
    "google_result = result.json()\n",
    "\n",
    "# Loop through results and display lat, lon values for reverse geocode\n",
    "for item in google_result['results']:\n",
    "    print(item['geometry']['location'])"
   ]
  },
  {
   "cell_type": "markdown",
   "metadata": {
    "slideshow": {
     "slide_type": "slide"
    }
   },
   "source": [
    "<a id='oauth'></a>\n",
    "## OAuth\n",
    "\n",
    "---\n",
    "\n",
    "**OAuth (Open Authorization)** is simply a secure authorization protocol that often deals with the authorization of a third-party application to access a user's data without exposing their password (e.g., Login with Facebook, gPlus, Twitter in many websites). \n",
    "\n",
    "For example, before your application can access a user's Facebook data, the user must give your application consent first. As you can imagine, this is a more complex process than before since it involves the user.\n",
    "\n",
    "There are three parties involved: **OAuth Provider**, **OAuth Client**, and the **Owner**.\n",
    "\n",
    "- OAuth Client (Application Which wants to access your credential)\n",
    "- OAuth Provider (eg. facebook, twitter...)\n",
    "- Owner (the one with facebook,twitter.. account )\n",
    "\n",
    "There are various levels of OAuth access. For security, some APIs (such as the Yelp API) require OAuth access despite there not being any conventional users. These sites require a less complicated OAuth procedure.\n",
    "\n"
   ]
  },
  {
   "cell_type": "markdown",
   "metadata": {
    "slideshow": {
     "slide_type": "subslide"
    }
   },
   "source": [
    "### Implementing OAuth in Python\n",
    "\n",
    "There are a number of OAuth libraries available in Python. If you are using a popular website such as Facebook, it is recommended to use their official Python library to handle the OAuth. If not, it is possible to code your own OAuth procedure. Because OAuth requires back-and-forth with your web application, discussing implementation details is outside of the scope of this lesson.\n",
    "\n",
    "You can read more about OAuth here: http://oauth.net/2/"
   ]
  },
  {
   "cell_type": "markdown",
   "metadata": {
    "slideshow": {
     "slide_type": "slide"
    }
   },
   "source": [
    "### OAuth Example:  client work with instagram\n",
    "\n",
    "![](assets/oAuth1.png)"
   ]
  },
  {
   "cell_type": "markdown",
   "metadata": {
    "slideshow": {
     "slide_type": "slide"
    }
   },
   "source": [
    "![](assets/oAuth3.png)"
   ]
  },
  {
   "cell_type": "markdown",
   "metadata": {
    "slideshow": {
     "slide_type": "slide"
    }
   },
   "source": [
    "<a name=\"ind-practice2\"></a>\n",
    "## Independent Practice: Python APIs\n",
    "\n",
    "---\n",
    "\n",
    "\n",
    "Go to http://www.pythonforbeginners.com/api/list-of-python-apis  \n",
    "or   \n",
    "https://github.com/realpython/list-of-python-api-wrappers\n",
    "  \n",
    "  \n",
    "- Choose an API: what data is available with your choosen API?\n",
    "- Install Python module (if available for API), try to extract data.\n",
    "- Discuss: How could you leverage that api? How could you use the data?"
   ]
  }
 ],
 "metadata": {
  "anaconda-cloud": {},
  "celltoolbar": "Slideshow",
  "kernelspec": {
   "display_name": "Python 3",
   "language": "python",
   "name": "python3"
  },
  "language_info": {
   "codemirror_mode": {
    "name": "ipython",
    "version": 3
   },
   "file_extension": ".py",
   "mimetype": "text/x-python",
   "name": "python",
   "nbconvert_exporter": "python",
   "pygments_lexer": "ipython3",
   "version": "3.6.5"
  }
 },
 "nbformat": 4,
 "nbformat_minor": 1
}
