{
 "cells": [
  {
   "cell_type": "markdown",
   "metadata": {},
   "source": [
    "<img src=\"http://imgur.com/1ZcRyrc.png\" style=\"float: left; margin: 20px; height: 55px\">\n",
    "\n",
    "# Hands on with SQL"
   ]
  },
  {
   "cell_type": "markdown",
   "metadata": {},
   "source": [
    "### Download the flights dataset\n",
    "\n",
    "https://www.dropbox.com/s/a2wax843eniq12g/flights.db?dl=1\n",
    "\n",
    "This is a dataset of airlines, airports, and routes.\n",
    "\n",
    "This is in SQLite format; a lightweight SQL library, where your entire database is a single file.\n",
    "\n",
    "We can interact with SQLite using Python!"
   ]
  },
  {
   "cell_type": "code",
   "execution_count": null,
   "metadata": {},
   "outputs": [],
   "source": [
    "import sqlite3"
   ]
  },
  {
   "cell_type": "markdown",
   "metadata": {},
   "source": [
    "We will also use `pandas` to run our SQL queries and display results. More on `pandas` later..."
   ]
  },
  {
   "cell_type": "code",
   "execution_count": null,
   "metadata": {},
   "outputs": [],
   "source": [
    "import pandas as pd"
   ]
  },
  {
   "cell_type": "markdown",
   "metadata": {},
   "source": [
    "Open your database"
   ]
  },
  {
   "cell_type": "code",
   "execution_count": null,
   "metadata": {},
   "outputs": [],
   "source": [
    "db = sqlite3.connect('assets/db/flights.db')"
   ]
  },
  {
   "cell_type": "markdown",
   "metadata": {},
   "source": [
    "The general form of a SQL query is:\n",
    "\n",
    "```sql\n",
    "\n",
    "SELECT\n",
    "    <column(s)>\n",
    "FROM\n",
    "    <table(s)>\n",
    "WHERE\n",
    "    <condition(s)>\n",
    "    \n",
    "```\n",
    "\n",
    "Unlike Python, indentation does **not** matter, it's just for readability.\n",
    "\n",
    "- to select all columns, use `SELECT *`\n",
    "- to select all rows, omit the `WHERE` part\n",
    "\n",
    "Let's select all rows and columns from the airports table:"
   ]
  },
  {
   "cell_type": "code",
   "execution_count": null,
   "metadata": {},
   "outputs": [],
   "source": [
    "pd.read_sql(\"\"\"\n",
    "    SELECT\n",
    "        *\n",
    "    FROM\n",
    "        airports\n",
    "    \"\"\", con=db).head(10)"
   ]
  },
  {
   "cell_type": "markdown",
   "metadata": {},
   "source": [
    "Now only a few columns:"
   ]
  },
  {
   "cell_type": "code",
   "execution_count": null,
   "metadata": {},
   "outputs": [],
   "source": [
    "pd.read_sql(\"\"\"\n",
    "    SELECT\n",
    "        name,\n",
    "        city,\n",
    "        code\n",
    "    FROM\n",
    "        airports\n",
    "    \"\"\", con=db).head(10)"
   ]
  },
  {
   "cell_type": "markdown",
   "metadata": {},
   "source": [
    "Or filter some rows.\n",
    "\n",
    "`WHERE` clauses can contain boolean combinations like `AND` and `OR`"
   ]
  },
  {
   "cell_type": "code",
   "execution_count": null,
   "metadata": {},
   "outputs": [],
   "source": [
    "pd.read_sql(\"\"\"\n",
    "    SELECT\n",
    "        name\n",
    "    FROM\n",
    "        airports\n",
    "    WHERE\n",
    "        timezone = 'Europe/Madrid'\n",
    "    \"\"\", con=db).head(10)"
   ]
  },
  {
   "cell_type": "markdown",
   "metadata": {},
   "source": [
    "You can change the ordering using `ORDER BY`.\n",
    "\n",
    "You can order ascending with `ORDER BY ASC` (the default) or `ORDER BY DESC`."
   ]
  },
  {
   "cell_type": "code",
   "execution_count": null,
   "metadata": {},
   "outputs": [],
   "source": [
    "pd.read_sql(\"\"\"\n",
    "    SELECT\n",
    "        name\n",
    "    FROM\n",
    "        airports\n",
    "    ORDER BY\n",
    "        name\n",
    "    \"\"\", con=db).head(10)"
   ]
  },
  {
   "cell_type": "markdown",
   "metadata": {},
   "source": [
    "## Aggregation\n",
    "\n",
    "You can **summarise** the dataset with functions like:\n",
    "\n",
    "- count\n",
    "- sum\n",
    "- avg\n",
    "- min/max\n",
    "\n",
    "depending on the data type of the column (you can't \"average\" text!)"
   ]
  },
  {
   "cell_type": "code",
   "execution_count": null,
   "metadata": {},
   "outputs": [],
   "source": [
    "pd.read_sql(\"\"\"\n",
    "    SELECT\n",
    "        AVG(latitude),\n",
    "        AVG(longitude)\n",
    "    FROM\n",
    "        airports\n",
    "    \"\"\", con=db)"
   ]
  },
  {
   "cell_type": "markdown",
   "metadata": {},
   "source": [
    "To calculate these metrics for smaller groups, you can **group** rows that are share a value in one or more columns."
   ]
  },
  {
   "cell_type": "code",
   "execution_count": null,
   "metadata": {},
   "outputs": [],
   "source": [
    "pd.read_sql(\"\"\"\n",
    "    SELECT\n",
    "        timezone,\n",
    "        COUNT(name)\n",
    "    FROM\n",
    "        airports\n",
    "    GROUP BY\n",
    "        timezone\n",
    "    \"\"\", con=db).head(10)"
   ]
  },
  {
   "cell_type": "markdown",
   "metadata": {},
   "source": [
    "# Joining\n",
    "\n",
    "First let's look at airline **routes**. We can select just a few rows with `LIMIT`:"
   ]
  },
  {
   "cell_type": "code",
   "execution_count": null,
   "metadata": {},
   "outputs": [],
   "source": [
    "pd.read_sql(\"\"\"\n",
    "    SELECT\n",
    "        *\n",
    "    FROM\n",
    "        routes\n",
    "    LIMIT\n",
    "        10\n",
    "    \"\"\", con=db)"
   ]
  },
  {
   "cell_type": "markdown",
   "metadata": {},
   "source": [
    "`source_id` and `dest_id` both relate to the `airports` table\n",
    "\n",
    "What kind of keys are they?\n",
    "\n",
    "Now what if we wanted to find out which airports those IDs relate to?\n",
    "\n",
    "To join tables together, you need to specify which columns match.\n",
    "\n",
    "```sql\n",
    "\n",
    "SELECT\n",
    "    <column(s)>\n",
    "FROM\n",
    "    <table_1>\n",
    "    JOIN <table_2> ON <condition(s)>\n",
    "\n",
    "```"
   ]
  },
  {
   "cell_type": "code",
   "execution_count": null,
   "metadata": {},
   "outputs": [],
   "source": [
    "pd.read_sql(\"\"\"\n",
    "    SELECT\n",
    "        routes.[index],\n",
    "        routes.source_id,\n",
    "        airports.name AS source_airport\n",
    "    FROM\n",
    "        routes\n",
    "        JOIN airports ON routes.source_id = airports.id\n",
    "\"\"\", con=db).head(10)"
   ]
  },
  {
   "cell_type": "markdown",
   "metadata": {},
   "source": [
    "It's a good idea to put the table name before each column when you join, so you know what came from where.\n",
    "\n",
    "Notice you can rename columns in the output with `AS`.\n",
    "\n",
    "You can do multiple `JOIN`s and rename tables with `AS`:"
   ]
  },
  {
   "cell_type": "code",
   "execution_count": null,
   "metadata": {},
   "outputs": [],
   "source": [
    "pd.read_sql(\"\"\"\n",
    "    SELECT\n",
    "        routes.[index],\n",
    "        routes.source_id,\n",
    "        origin.name AS source_airport,\n",
    "        routes.dest_id,\n",
    "        destination.name AS destination_airport\n",
    "    FROM\n",
    "        routes\n",
    "        JOIN airports AS origin ON routes.source_id = origin.id\n",
    "        JOIN airports AS destination ON routes.dest_id = destination.id\n",
    "\"\"\", con=db).head(10)"
   ]
  },
  {
   "cell_type": "markdown",
   "metadata": {},
   "source": [
    "# Different Types of SQL JOINs\n",
    "\n",
    "Here are the different types of the JOINs in SQL:\n",
    "\n",
    "    (INNER) JOIN: Returns records that have matching values in both tables\n",
    "    LEFT (OUTER) JOIN: Return all records from the left table, and the matched records from the right table\n",
    "    RIGHT (OUTER) JOIN: Return all records from the right table, and the matched records from the left table\n",
    "    FULL (OUTER) JOIN: Return all records when there is a match in either left or right table\n",
    "\n",
    "\n",
    "![](assets/db/joins.png)"
   ]
  }
 ],
 "metadata": {
  "kernelspec": {
   "display_name": "Python 3",
   "language": "python",
   "name": "python3"
  },
  "language_info": {
   "codemirror_mode": {
    "name": "ipython",
    "version": 3
   },
   "file_extension": ".py",
   "mimetype": "text/x-python",
   "name": "python",
   "nbconvert_exporter": "python",
   "pygments_lexer": "ipython3",
   "version": "3.6.5"
  }
 },
 "nbformat": 4,
 "nbformat_minor": 2
}
