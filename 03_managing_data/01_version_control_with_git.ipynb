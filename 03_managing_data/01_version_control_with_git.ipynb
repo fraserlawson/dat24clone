{
 "cells": [
  {
   "cell_type": "markdown",
   "metadata": {
    "slideshow": {
     "slide_type": "slide"
    }
   },
   "source": [
    "<img src=\"http://imgur.com/1ZcRyrc.png\" style=\"float: left; margin: 20px; height: 55px\">\n",
    "\n",
    "# Session 3 - Managing Data"
   ]
  },
  {
   "cell_type": "markdown",
   "metadata": {
    "slideshow": {
     "slide_type": "slide"
    }
   },
   "source": [
    "# Agenda\n",
    "\n",
    "#### Housekeeping\n",
    "#### Part 1: Version Control with Git\n",
    "#### BREAK\n",
    "#### Part 2: Databases"
   ]
  },
  {
   "cell_type": "markdown",
   "metadata": {
    "slideshow": {
     "slide_type": "slide"
    }
   },
   "source": [
    "# Housekeeping"
   ]
  },
  {
   "cell_type": "markdown",
   "metadata": {
    "slideshow": {
     "slide_type": "fragment"
    }
   },
   "source": [
    "- Office hours have been posted.\n",
    "- You should know who your TA is."
   ]
  },
  {
   "cell_type": "markdown",
   "metadata": {
    "slideshow": {
     "slide_type": "slide"
    }
   },
   "source": [
    "# Part 1: Version Control with Git"
   ]
  },
  {
   "cell_type": "markdown",
   "metadata": {
    "slideshow": {
     "slide_type": "fragment"
    }
   },
   "source": [
    "## Learning Objectives\n",
    "- learn about Git, GitHub, and make your own repository\n",
    "- understand and practise the basic Git commands you need to version your work over the remainder of the course"
   ]
  },
  {
   "cell_type": "markdown",
   "metadata": {
    "slideshow": {
     "slide_type": "subslide"
    }
   },
   "source": [
    "# Why \"Version Control\"?\n",
    "\n",
    "![](assets/usb.png)"
   ]
  },
  {
   "cell_type": "markdown",
   "metadata": {
    "slideshow": {
     "slide_type": "subslide"
    }
   },
   "source": [
    "### What are desirable properties of a solution?"
   ]
  },
  {
   "cell_type": "markdown",
   "metadata": {
    "slideshow": {
     "slide_type": "fragment"
    }
   },
   "source": [
    "- keep our work off our computers\n",
    "    - either there is a \"master\" copy (**centralised**)    \n",
    "    - or everyone can have a full copy (**distributed**)"
   ]
  },
  {
   "cell_type": "markdown",
   "metadata": {
    "slideshow": {
     "slide_type": "fragment"
    }
   },
   "source": [
    "- ability to collaborate with others...\n",
    "    - ...and gracefully handle \"conflicts\""
   ]
  },
  {
   "cell_type": "markdown",
   "metadata": {
    "slideshow": {
     "slide_type": "fragment"
    }
   },
   "source": [
    "- ability to see changes over time\n",
    "    - and go back to old versions if needed"
   ]
  },
  {
   "cell_type": "markdown",
   "metadata": {
    "slideshow": {
     "slide_type": "subslide"
    }
   },
   "source": [
    "**Nice to haves:**"
   ]
  },
  {
   "cell_type": "markdown",
   "metadata": {
    "slideshow": {
     "slide_type": "fragment"
    }
   },
   "source": [
    "- open source"
   ]
  },
  {
   "cell_type": "markdown",
   "metadata": {
    "slideshow": {
     "slide_type": "fragment"
    }
   },
   "source": [
    "- fast"
   ]
  },
  {
   "cell_type": "markdown",
   "metadata": {
    "slideshow": {
     "slide_type": "fragment"
    }
   },
   "source": [
    "- ability to work on same code for two different purposes\n",
    "    - e.g. develop two new features of a piece of software that are separate"
   ]
  },
  {
   "cell_type": "markdown",
   "metadata": {
    "slideshow": {
     "slide_type": "subslide"
    }
   },
   "source": [
    "# One Solution: Git\n",
    "\n",
    "![](assets/git-xkcd.png)\n",
    "\n",
    "from [https://xkcd.com/1597](https://xkcd.com/1597)"
   ]
  },
  {
   "cell_type": "markdown",
   "metadata": {
    "slideshow": {
     "slide_type": "subslide"
    }
   },
   "source": [
    "## What's the difference between Git and GitHub?"
   ]
  },
  {
   "cell_type": "markdown",
   "metadata": {
    "slideshow": {
     "slide_type": "fragment"
    }
   },
   "source": [
    "### Git\n",
    "\n",
    "- the underlying source control system\n",
    "- allows repositories, commits, branches\n",
    "- open source"
   ]
  },
  {
   "cell_type": "markdown",
   "metadata": {
    "slideshow": {
     "slide_type": "fragment"
    }
   },
   "source": [
    "### GitHub\n",
    "\n",
    "- a company that lets you host Git\n",
    "- free (if your material is public)\n",
    "- alternatives include **BitBucket** (which allows free private repositories)\n",
    "- GitHub Enterprise is a paid version to have a separate, private GitHub\n",
    "- additional features e.g. wikis and issue tracker"
   ]
  },
  {
   "cell_type": "markdown",
   "metadata": {
    "slideshow": {
     "slide_type": "slide"
    }
   },
   "source": [
    "# Step 1: Create a repository"
   ]
  },
  {
   "cell_type": "markdown",
   "metadata": {
    "slideshow": {
     "slide_type": "subslide"
    }
   },
   "source": [
    "A **repository** (or \"repo\") is a self-contained \"folder\" of files. Think of it as a **project**."
   ]
  },
  {
   "cell_type": "markdown",
   "metadata": {
    "slideshow": {
     "slide_type": "fragment"
    }
   },
   "source": [
    "Let's create a repository for you to store your own work.\n",
    "\n",
    "*Note: if you've forked `dat24` you can use that fork for your work, but remember it is **public***"
   ]
  },
  {
   "cell_type": "markdown",
   "metadata": {
    "slideshow": {
     "slide_type": "subslide"
    }
   },
   "source": [
    "![](assets/git/new_repo.png)"
   ]
  },
  {
   "cell_type": "markdown",
   "metadata": {
    "slideshow": {
     "slide_type": "subslide"
    }
   },
   "source": [
    "![](assets/git/create_repo_menu.png)"
   ]
  },
  {
   "cell_type": "markdown",
   "metadata": {
    "slideshow": {
     "slide_type": "subslide"
    }
   },
   "source": [
    "![](assets/git/after_create_repo.png)"
   ]
  },
  {
   "cell_type": "markdown",
   "metadata": {
    "slideshow": {
     "slide_type": "subslide"
    }
   },
   "source": [
    "### What's that `.gitignore` file?\n",
    "\n",
    "It is a hidden file that tells Git what files to **not version**.\n",
    "\n",
    "Why?\n",
    "\n",
    "- generated files that you don't need\n",
    "    - e.g. Jupyter creates \"checkpoints\" that you may not care about\n",
    "- code artefacts (Python creates some)\n",
    "- it's nice to have the option!"
   ]
  },
  {
   "cell_type": "markdown",
   "metadata": {
    "slideshow": {
     "slide_type": "subslide"
    }
   },
   "source": [
    "### Give the teaching team access\n",
    "\n",
    "Go to Settings -> Collaborators\n",
    "\n",
    "![](assets/git/repo_access.png)"
   ]
  },
  {
   "cell_type": "markdown",
   "metadata": {
    "slideshow": {
     "slide_type": "subslide"
    }
   },
   "source": [
    "# Step 2: Get a local copy"
   ]
  },
  {
   "cell_type": "markdown",
   "metadata": {
    "slideshow": {
     "slide_type": "fragment"
    }
   },
   "source": [
    "Your repository only exists in GitHub Enterprise. It is a **remote** repository.\n",
    "\n",
    "To work on it, you need a copy on your machine."
   ]
  },
  {
   "cell_type": "markdown",
   "metadata": {
    "slideshow": {
     "slide_type": "subslide"
    }
   },
   "source": [
    "![](assets/git/get_clone_url.png)"
   ]
  },
  {
   "cell_type": "markdown",
   "metadata": {
    "slideshow": {
     "slide_type": "subslide"
    }
   },
   "source": [
    "To get a local copy, you **clone**.\n",
    "\n",
    "In a terminal/command prompt navigate to a folder where you want a copy of your repository and type:\n",
    "\n",
    "`git clone <your_url_here>`"
   ]
  },
  {
   "cell_type": "markdown",
   "metadata": {
    "slideshow": {
     "slide_type": "subslide"
    }
   },
   "source": [
    "# Step 3: Make a change\n",
    "\n",
    "Open your automatically created `README.md` (which will get displayed by default in GitHub) and add some text.\n",
    "\n",
    "Maybe write who you are and what the purpose of this repository is!"
   ]
  },
  {
   "cell_type": "markdown",
   "metadata": {
    "slideshow": {
     "slide_type": "subslide"
    }
   },
   "source": [
    "# Step 4: \"Saving\" your changes"
   ]
  },
  {
   "cell_type": "markdown",
   "metadata": {
    "slideshow": {
     "slide_type": "fragment"
    }
   },
   "source": [
    "In Git, there are **three** stages to saving your work."
   ]
  },
  {
   "cell_type": "markdown",
   "metadata": {
    "slideshow": {
     "slide_type": "fragment"
    }
   },
   "source": [
    "1 - \"Stage\" your work = prepare it for a commit. This step will look like it's done nothing."
   ]
  },
  {
   "cell_type": "markdown",
   "metadata": {
    "slideshow": {
     "slide_type": "fragment"
    }
   },
   "source": [
    "2 -  \"Commit\" your work. Your changes are now part of your **local** repository."
   ]
  },
  {
   "cell_type": "markdown",
   "metadata": {
    "slideshow": {
     "slide_type": "fragment"
    }
   },
   "source": [
    "3 - \"Push\" your work. Your commit will be sent to the **remote** repository."
   ]
  },
  {
   "cell_type": "markdown",
   "metadata": {
    "slideshow": {
     "slide_type": "subslide"
    }
   },
   "source": [
    "2.5 - If you are collaborating with someone, or have copies of your work on multiple machines, it's good practice to \"pull\" before you \"push\".\n",
    "\n",
    "This brings down changes from the **remote** repository to the **local** one that have happened since you **cloned**."
   ]
  },
  {
   "cell_type": "markdown",
   "metadata": {
    "slideshow": {
     "slide_type": "subslide"
    }
   },
   "source": [
    "### The Three Steps\n",
    "\n",
    "#### 1 - \"Stage\"\n",
    "\n",
    "To see any pending changes, type:\n",
    "\n",
    "`git status`"
   ]
  },
  {
   "cell_type": "markdown",
   "metadata": {
    "slideshow": {
     "slide_type": "fragment"
    }
   },
   "source": [
    "To see what those changes actually are:\n",
    "\n",
    "`git diff`"
   ]
  },
  {
   "cell_type": "markdown",
   "metadata": {
    "slideshow": {
     "slide_type": "subslide"
    }
   },
   "source": [
    "Now type\n",
    "\n",
    "`git add README.md`\n",
    "\n",
    "to \"stage\" the changes you've made to that file.\n",
    "\n",
    "If you start typing the name of `README.md` you can press `TAB` to autocomplete it (great for long Jupyter notebook filenames).\n",
    "\n",
    "*Note: if you **remove** a file, you still need to `add` its removal as a change!*"
   ]
  },
  {
   "cell_type": "markdown",
   "metadata": {
    "slideshow": {
     "slide_type": "fragment"
    }
   },
   "source": [
    "Check\n",
    "\n",
    "`git status`\n",
    "\n",
    "again. Notice your file is green and it says \"Changes to be committed\""
   ]
  },
  {
   "cell_type": "markdown",
   "metadata": {
    "slideshow": {
     "slide_type": "subslide"
    }
   },
   "source": [
    "#### 2 - Commit\n",
    "\n",
    "You're ready to commit!\n",
    "\n",
    "`git commit -m \"Add a commit message\"`"
   ]
  },
  {
   "cell_type": "markdown",
   "metadata": {
    "slideshow": {
     "slide_type": "fragment"
    }
   },
   "source": [
    "![](assets/git-commit-xkcd.png)\n",
    "\n",
    "from [https://xkcd.com/1597](https://xkcd.com/1296)"
   ]
  },
  {
   "cell_type": "markdown",
   "metadata": {
    "slideshow": {
     "slide_type": "subslide"
    }
   },
   "source": [
    "#### 3 - \"Push\"\n",
    "\n",
    "I said it's good practice to pull, so let's do that.\n",
    "\n",
    "`git pull`\n",
    "\n",
    "***Note: this is also how you should get the latest course materials!***"
   ]
  },
  {
   "cell_type": "markdown",
   "metadata": {
    "slideshow": {
     "slide_type": "fragment"
    }
   },
   "source": [
    "Now:\n",
    "\n",
    "`git push`"
   ]
  },
  {
   "cell_type": "markdown",
   "metadata": {
    "slideshow": {
     "slide_type": "fragment"
    }
   },
   "source": [
    "Technically you should specify:\n",
    "\n",
    "- which remote repository to push to (you can have multiple at once)\n",
    "- which **branch** to push to\n",
    "\n",
    "Then the command becomes:\n",
    "\n",
    "`git push <remote> <branch>`\n",
    "\n",
    "e.g. `git push origin master`"
   ]
  },
  {
   "cell_type": "markdown",
   "metadata": {
    "slideshow": {
     "slide_type": "subslide"
    }
   },
   "source": [
    "### Branching"
   ]
  },
  {
   "cell_type": "markdown",
   "metadata": {
    "slideshow": {
     "slide_type": "fragment"
    }
   },
   "source": [
    "![](assets/git/branching.svg)"
   ]
  },
  {
   "cell_type": "markdown",
   "metadata": {
    "slideshow": {
     "slide_type": "slide"
    }
   },
   "source": [
    "# Summary of commands\n",
    "\n",
    "How do you get a local copy of a remote repository?"
   ]
  },
  {
   "cell_type": "markdown",
   "metadata": {
    "slideshow": {
     "slide_type": "fragment"
    }
   },
   "source": [
    "`clone`"
   ]
  },
  {
   "cell_type": "markdown",
   "metadata": {
    "slideshow": {
     "slide_type": "subslide"
    }
   },
   "source": [
    "How do you see what has changed locally?"
   ]
  },
  {
   "cell_type": "markdown",
   "metadata": {
    "slideshow": {
     "slide_type": "fragment"
    }
   },
   "source": [
    "`status`"
   ]
  },
  {
   "cell_type": "markdown",
   "metadata": {
    "slideshow": {
     "slide_type": "subslide"
    }
   },
   "source": [
    "How do you stage a local change?"
   ]
  },
  {
   "cell_type": "markdown",
   "metadata": {
    "slideshow": {
     "slide_type": "fragment"
    }
   },
   "source": [
    "`add`"
   ]
  },
  {
   "cell_type": "markdown",
   "metadata": {
    "slideshow": {
     "slide_type": "subslide"
    }
   },
   "source": [
    "How do your changes get added to the **local** repository?"
   ]
  },
  {
   "cell_type": "markdown",
   "metadata": {
    "slideshow": {
     "slide_type": "fragment"
    }
   },
   "source": [
    "`commit`"
   ]
  },
  {
   "cell_type": "markdown",
   "metadata": {
    "slideshow": {
     "slide_type": "subslide"
    }
   },
   "source": [
    "How do your changes get added to the **remote** repository?"
   ]
  },
  {
   "cell_type": "markdown",
   "metadata": {
    "slideshow": {
     "slide_type": "fragment"
    }
   },
   "source": [
    "`push`"
   ]
  },
  {
   "cell_type": "markdown",
   "metadata": {
    "slideshow": {
     "slide_type": "skip"
    }
   },
   "source": [
    "# Summary of commands\n",
    "\n",
    "`clone`: gets a local copy of a **remote** repository<br>\n",
    "`status`: show pending local changes<br>\n",
    "`add`: stage a local change<br>\n",
    "`commit`: commit a set of staged changes<br>\n",
    "`push`: push your commits up to the remote repository<br>\n",
    "`pull`: pull updates from the remote repository<br>"
   ]
  },
  {
   "cell_type": "markdown",
   "metadata": {
    "slideshow": {
     "slide_type": "slide"
    }
   },
   "source": [
    "# Useful links"
   ]
  },
  {
   "cell_type": "markdown",
   "metadata": {
    "slideshow": {
     "slide_type": "fragment"
    }
   },
   "source": [
    "## Git GUI\n",
    "\n",
    "If you don't want to use the command line, you can use a nice desktop application to manage your work:\n",
    "\n",
    "- [GitHub Desktop](https://desktop.github.com/)\n",
    "- [SourceTree](https://www.sourcetreeapp.com/)\n",
    "- [Git Kraken](https://www.gitkraken.com/)"
   ]
  },
  {
   "cell_type": "markdown",
   "metadata": {
    "slideshow": {
     "slide_type": "subslide"
    }
   },
   "source": [
    "## Git cheat sheet\n",
    "\n",
    "We all need one of these.\n",
    "\n",
    "[https://www.git-tower.com/blog/git-cheat-sheet](https://www.git-tower.com/blog/git-cheat-sheet)"
   ]
  },
  {
   "cell_type": "markdown",
   "metadata": {
    "slideshow": {
     "slide_type": "subslide"
    }
   },
   "source": [
    "## When things go wrong...\n",
    "\n",
    "[Oh, s***, git!](http://ohshitgit.com/)"
   ]
  },
  {
   "cell_type": "markdown",
   "metadata": {
    "slideshow": {
     "slide_type": "subslide"
    }
   },
   "source": [
    "## More about workflows, branching etc.\n",
    "\n",
    "[Git workflows](https://www.atlassian.com/git/tutorials/comparing-workflows)\n",
    "\n",
    "[Git branching](https://www.atlassian.com/git/tutorials/using-branches)"
   ]
  },
  {
   "cell_type": "markdown",
   "metadata": {
    "slideshow": {
     "slide_type": "subslide"
    }
   },
   "source": [
    "## Miscellaneous\n",
    "\n",
    "A way to practise Git in the browser: [https://learngitbranching.js.org](https://learngitbranching.js.org)"
   ]
  }
 ],
 "metadata": {
  "celltoolbar": "Slideshow",
  "kernelspec": {
   "display_name": "Python 3",
   "language": "python",
   "name": "python3"
  },
  "language_info": {
   "codemirror_mode": {
    "name": "ipython",
    "version": 3
   },
   "file_extension": ".py",
   "mimetype": "text/x-python",
   "name": "python",
   "nbconvert_exporter": "python",
   "pygments_lexer": "ipython3",
   "version": "3.6.5"
  }
 },
 "nbformat": 4,
 "nbformat_minor": 2
}
