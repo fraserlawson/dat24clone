{
 "cells": [
  {
   "cell_type": "markdown",
   "metadata": {},
   "source": [
    "## Installing `nltk`\n",
    "\n",
    "- Open a new terminal\n",
    "- Type `conda install nltk` to install the library (may take a while)\n",
    "- In this notebook, restart the kernel (by going to Kernel -> Restart for example)\n",
    "\n",
    "We'll run the code cell below to open an interactive dialogue where you can download any number of *corpora* i.e. collections of documents.\n",
    "\n",
    "When you run the code and the popup appears, select \"Corpora\" -> \"Stopwords\" and \"Download\" to download the latest `nltk` stopwords. You can download other corpora if you want to investigate!\n",
    "\n",
    "![](../assets/images/nltk_stopwords.png)\n",
    "\n",
    "(as detailed [here](https://www.nltk.org/data.html))"
   ]
  },
  {
   "cell_type": "code",
   "execution_count": null,
   "metadata": {},
   "outputs": [],
   "source": [
    "import nltk\n",
    "nltk.download()"
   ]
  }
 ],
 "metadata": {
  "kernelspec": {
   "display_name": "Python 3",
   "language": "python",
   "name": "python3"
  },
  "language_info": {
   "codemirror_mode": {
    "name": "ipython",
    "version": 3
   },
   "file_extension": ".py",
   "mimetype": "text/x-python",
   "name": "python",
   "nbconvert_exporter": "python",
   "pygments_lexer": "ipython3",
   "version": "3.6.5"
  }
 },
 "nbformat": 4,
 "nbformat_minor": 2
}
