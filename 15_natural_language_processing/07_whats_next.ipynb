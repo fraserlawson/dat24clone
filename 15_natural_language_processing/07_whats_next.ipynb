{
 "cells": [
  {
   "cell_type": "markdown",
   "metadata": {
    "slideshow": {
     "slide_type": "slide"
    }
   },
   "source": [
    "### What next?\n",
    "\n",
    "\n",
    "- Next session: Time Series\n",
    "- Final Project Deliverable 3 due.\n",
    "- Slack Office Hours tomorrow (Anna & Jasmine)\n",
    "- Fill in Exit Tickets"
   ]
  }
 ],
 "metadata": {
  "celltoolbar": "Slideshow",
  "kernelspec": {
   "display_name": "Python 3",
   "language": "python",
   "name": "python3"
  },
  "language_info": {
   "codemirror_mode": {
    "name": "ipython",
    "version": 3
   },
   "file_extension": ".py",
   "mimetype": "text/x-python",
   "name": "python",
   "nbconvert_exporter": "python",
   "pygments_lexer": "ipython3",
   "version": "3.6.5"
  }
 },
 "nbformat": 4,
 "nbformat_minor": 2
}
