{
 "cells": [
  {
   "cell_type": "markdown",
   "metadata": {
    "slideshow": {
     "slide_type": "slide"
    }
   },
   "source": [
    "<img src=\"http://imgur.com/1ZcRyrc.png\" style=\"float: left; margin: 20px; height: 55px\">\n",
    "\n",
    "# Lightning Talks"
   ]
  },
  {
   "cell_type": "markdown",
   "metadata": {
    "slideshow": {
     "slide_type": "subslide"
    }
   },
   "source": [
    "## Before we start"
   ]
  },
  {
   "cell_type": "markdown",
   "metadata": {
    "slideshow": {
     "slide_type": "fragment"
    }
   },
   "source": [
    "**UP2 submitted. Grades/feedback returned to you ASAP.**"
   ]
  },
  {
   "cell_type": "markdown",
   "metadata": {
    "slideshow": {
     "slide_type": "fragment"
    }
   },
   "source": [
    "**Feedback survey**"
   ]
  },
  {
   "cell_type": "markdown",
   "metadata": {
    "slideshow": {
     "slide_type": "subslide"
    }
   },
   "source": [
    "## Schedule \n",
    "\n",
    "Session Number  | Session | Unit Number | Date\n",
    "--- | ---  | --- | ---\n",
    "10 | Regression & Evaluating Models | Unit 3 | 18/07/18\n",
    "11 | Classification | Unit 3 | 23/07/18\n",
    "12 | Decision Trees & Random Forests  | Unit 3 | 25/07/18\n",
    "13 | Unsupervised Learning | Unit 3 | 30/07/18\n",
    "14 | Recap Session/Exercise | Unit 3 | 01/08/18\n",
    "--- | ---  | ---\n",
    "15 | Intro to Natural Language Processing | Unit 4 | 06/08/18\n",
    "16 | Intro to Time Series | Unit 4 | 08/08/18\n",
    "17 | TBD | Unit 4 | 13/08/18\n",
    "18 | Project Workshop | Unit 4 | 15/08/18\n",
    "19 | Wrap up & Final Project Presentations (Part 1) | Unit 4 | 20/08/18\n",
    "20 | Final Project Presentations (Part 2) | Unit 4 | 22/08/18"
   ]
  },
  {
   "cell_type": "markdown",
   "metadata": {
    "slideshow": {
     "slide_type": "subslide"
    }
   },
   "source": [
    "## Unit Project Deliverables\n",
    "\n",
    "End of Unit  | Exercise | Final Project | Released | Due Date\n",
    "--- | ---  | --- | ---\n",
    "Unit 3 | Machine learning exercise | Exploratory data analysis | 30/07/18 | 06/08/18\n"
   ]
  },
  {
   "cell_type": "markdown",
   "metadata": {
    "slideshow": {
     "slide_type": "subslide"
    }
   },
   "source": [
    "## Final Project Deliverables\n",
    "\n",
    "FP  | Exercise | Due Date\n",
    "--- | ---  | --- \n",
    "FP1 | Elevator Pitch/Lightning Talks | 16/07/18\n",
    "FP2 | Experimental Write-up | 25/07/18\n",
    "FP3 | Explanatory Analysis | 08/08/18\n",
    "FP4 | Notebook Draft | 15/08/18\n",
    "FP5 | Final Presentations | 20/08/18 & 22/08/18"
   ]
  },
  {
   "cell_type": "markdown",
   "metadata": {
    "slideshow": {
     "slide_type": "subslide"
    }
   },
   "source": [
    "# Today - Lightning Talks!\n",
    "\n",
    "## Schedule\n",
    "\n",
    "- lightning talks (half the class)\n",
    "- BREAK\n",
    "- lightning talks (rest of class)\n",
    "- time left over for 1-to-1 discussions and working on projects"
   ]
  },
  {
   "cell_type": "markdown",
   "metadata": {
    "slideshow": {
     "slide_type": "fragment"
    }
   },
   "source": [
    "Order of talks..."
   ]
  }
 ],
 "metadata": {
  "celltoolbar": "Slideshow",
  "kernelspec": {
   "display_name": "Python 3",
   "language": "python",
   "name": "python3"
  },
  "language_info": {
   "codemirror_mode": {
    "name": "ipython",
    "version": 3
   },
   "file_extension": ".py",
   "mimetype": "text/x-python",
   "name": "python",
   "nbconvert_exporter": "python",
   "pygments_lexer": "ipython3",
   "version": "3.6.2"
  }
 },
 "nbformat": 4,
 "nbformat_minor": 2
}
