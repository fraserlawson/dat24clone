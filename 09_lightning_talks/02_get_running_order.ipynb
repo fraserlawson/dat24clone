{
 "cells": [
  {
   "cell_type": "code",
   "execution_count": 2,
   "metadata": {},
   "outputs": [
    {
     "name": "stdout",
     "output_type": "stream",
     "text": [
      "19 names in total\n",
      "\n",
      "9 before the break, 10 after\n",
      "\n",
      "Running order:\n",
      "1: Misha\n",
      "2: Malika\n",
      "3: Edward\n",
      "4: Ishita\n",
      "5: Gary\n",
      "6: Yoel\n",
      "7: Andy\n",
      "8: Kate\n",
      "9: Daisy\n",
      "=========== BREAK ============\n",
      "10: Imran\n",
      "11: Paul\n",
      "12: Karina\n",
      "13: Dominic\n",
      "14: Jack\n",
      "15: Fraser\n",
      "16: Anne\n",
      "17: Ijlal\n",
      "18: Yulia\n",
      "19: Ahmed\n"
     ]
    }
   ],
   "source": [
    "import numpy as np\n",
    "\n",
    "# all names\n",
    "names = [\"Ahmed\", \"Andy\", \"Anne\", \"Daisy\", \"Dominic\", \"Edward\",\n",
    "        \"Fraser\", \"Gary\", \"Ijlal\", \"Imran\", \"Ishita\", \"Jack\",\n",
    "        \"Karina\", \"Kate\", \"Malika\", \"Misha\", \"Paul\", \"Yoel\", \"Yulia\"]\n",
    "\n",
    "# deal gracefully with absences\n",
    "absent = []\n",
    "\n",
    "print(\"{} names in total\\n\".format(len(names) - len(absent)))\n",
    "\n",
    "np.random.seed(227) # for reproducibility\n",
    "\n",
    "# remove absent names from list to randomise\n",
    "name_order = [n for n in names if n not in absent]\n",
    "\n",
    "np.random.shuffle(name_order)\n",
    "\n",
    "cutoff = int(len(name_order) / 2)\n",
    "print(\"{0} before the break, {1} after\\n\".format(cutoff, len(name_order) - cutoff))\n",
    "\n",
    "print(\"Running order:\")\n",
    "\n",
    "for i in range(0, cutoff):\n",
    "    print(f\"{i+1}: {name_order[i]}\")\n",
    "\n",
    "print(\"=========== BREAK ============\")\n",
    "    \n",
    "for i in range(cutoff, len(name_order)):\n",
    "    print(f\"{i+1}: {name_order[i]}\")"
   ]
  },
  {
   "cell_type": "code",
   "execution_count": null,
   "metadata": {},
   "outputs": [],
   "source": []
  }
 ],
 "metadata": {
  "kernelspec": {
   "display_name": "Python 3",
   "language": "python",
   "name": "python3"
  },
  "language_info": {
   "codemirror_mode": {
    "name": "ipython",
    "version": 3
   },
   "file_extension": ".py",
   "mimetype": "text/x-python",
   "name": "python",
   "nbconvert_exporter": "python",
   "pygments_lexer": "ipython3",
   "version": "3.6.5"
  }
 },
 "nbformat": 4,
 "nbformat_minor": 2
}
