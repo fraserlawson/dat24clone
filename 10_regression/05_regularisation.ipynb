{
 "cells": [
  {
   "cell_type": "markdown",
   "metadata": {
    "slideshow": {
     "slide_type": "slide"
    }
   },
   "source": [
    "<img src=\"http://imgur.com/1ZcRyrc.png\" style=\"float: left; margin: 20px; height: 55px\">\n",
    "\n",
    "# Regularisation"
   ]
  },
  {
   "cell_type": "markdown",
   "metadata": {
    "slideshow": {
     "slide_type": "subslide"
    }
   },
   "source": [
    "# Constraining Coefficients"
   ]
  },
  {
   "cell_type": "markdown",
   "metadata": {
    "slideshow": {
     "slide_type": "subslide"
    }
   },
   "source": [
    "What does linear regression try to **mimimise**?"
   ]
  },
  {
   "cell_type": "markdown",
   "metadata": {
    "slideshow": {
     "slide_type": "fragment"
    }
   },
   "source": [
    "Idea: why not also penalise the **size** of the coefficients?"
   ]
  },
  {
   "cell_type": "markdown",
   "metadata": {
    "slideshow": {
     "slide_type": "fragment"
    }
   },
   "source": [
    "Consequence: models cannot get too complex"
   ]
  },
  {
   "cell_type": "markdown",
   "metadata": {
    "slideshow": {
     "slide_type": "fragment"
    }
   },
   "source": [
    "This is the idea behind **regularisation**"
   ]
  },
  {
   "cell_type": "markdown",
   "metadata": {
    "slideshow": {
     "slide_type": "subslide"
    }
   },
   "source": [
    "\n",
    "Regularisation is an additive approach to protect models against overfitting (being potentially biased and overconfident, not generalising well).\n",
    "\n",
    "Regularisation becomes an additional weight to coefficients, shrinking them closer to zero. Provides us with simpler models.\n",
    "\n",
    "\n"
   ]
  },
  {
   "cell_type": "markdown",
   "metadata": {
    "slideshow": {
     "slide_type": "subslide"
    }
   },
   "source": [
    "**Lasso regression** (or \"L1 regularisation\") minimises: $$\\text{SSE} + \\alpha \\sum_{j=1}^p |\\beta_j|$$\n",
    "\n",
    "- this can even shrink coefficients to 0 to limit complexity further"
   ]
  },
  {
   "cell_type": "markdown",
   "metadata": {
    "slideshow": {
     "slide_type": "subslide"
    }
   },
   "source": [
    "**Ridge regression** (or \"L2 regularisation\") minimises: $$\\text{SSE} + \\alpha \\sum_{j=1}^p \\beta_j^2$$\n",
    "\n",
    "- can be used even if there is multicollinearity"
   ]
  },
  {
   "cell_type": "markdown",
   "metadata": {
    "slideshow": {
     "slide_type": "subslide"
    }
   },
   "source": [
    "Use Lasso when we have more features than observations (k > n) and Ridge otherwise.\n"
   ]
  },
  {
   "cell_type": "markdown",
   "metadata": {
    "slideshow": {
     "slide_type": "subslide"
    }
   },
   "source": [
    "#### Hyperparameters"
   ]
  },
  {
   "cell_type": "markdown",
   "metadata": {
    "slideshow": {
     "slide_type": "fragment"
    }
   },
   "source": [
    "- $\\alpha$ is the penalty term (the bigger it is, the higher the penalty)"
   ]
  },
  {
   "cell_type": "markdown",
   "metadata": {
    "slideshow": {
     "slide_type": "fragment"
    }
   },
   "source": [
    "- but what is a good value of $\\alpha$?"
   ]
  },
  {
   "cell_type": "markdown",
   "metadata": {
    "slideshow": {
     "slide_type": "fragment"
    }
   },
   "source": [
    "- depends, but we can find out by trying different values"
   ]
  },
  {
   "cell_type": "code",
   "execution_count": 1,
   "metadata": {
    "collapsed": true,
    "slideshow": {
     "slide_type": "skip"
    }
   },
   "outputs": [],
   "source": [
    "import pandas as pd\n",
    "import numpy as np\n",
    "from sklearn.model_selection import train_test_split\n",
    "from sklearn.metrics import mean_squared_error"
   ]
  },
  {
   "cell_type": "code",
   "execution_count": 2,
   "metadata": {
    "slideshow": {
     "slide_type": "subslide"
    }
   },
   "outputs": [
    {
     "data": {
      "text/html": [
       "<div>\n",
       "<style scoped>\n",
       "    .dataframe tbody tr th:only-of-type {\n",
       "        vertical-align: middle;\n",
       "    }\n",
       "\n",
       "    .dataframe tbody tr th {\n",
       "        vertical-align: top;\n",
       "    }\n",
       "\n",
       "    .dataframe thead th {\n",
       "        text-align: right;\n",
       "    }\n",
       "</style>\n",
       "<table border=\"1\" class=\"dataframe\">\n",
       "  <thead>\n",
       "    <tr style=\"text-align: right;\">\n",
       "      <th></th>\n",
       "      <th>temp</th>\n",
       "      <th>humidity</th>\n",
       "      <th>windspeed</th>\n",
       "      <th>holiday_1</th>\n",
       "      <th>season_2</th>\n",
       "      <th>season_3</th>\n",
       "      <th>season_4</th>\n",
       "      <th>workingday_1</th>\n",
       "      <th>weather_2</th>\n",
       "      <th>weather_3</th>\n",
       "      <th>weather_4</th>\n",
       "    </tr>\n",
       "  </thead>\n",
       "  <tbody>\n",
       "    <tr>\n",
       "      <th>0</th>\n",
       "      <td>9.84</td>\n",
       "      <td>81</td>\n",
       "      <td>0.0</td>\n",
       "      <td>0</td>\n",
       "      <td>0</td>\n",
       "      <td>0</td>\n",
       "      <td>0</td>\n",
       "      <td>0</td>\n",
       "      <td>0</td>\n",
       "      <td>0</td>\n",
       "      <td>0</td>\n",
       "    </tr>\n",
       "    <tr>\n",
       "      <th>1</th>\n",
       "      <td>9.02</td>\n",
       "      <td>80</td>\n",
       "      <td>0.0</td>\n",
       "      <td>0</td>\n",
       "      <td>0</td>\n",
       "      <td>0</td>\n",
       "      <td>0</td>\n",
       "      <td>0</td>\n",
       "      <td>0</td>\n",
       "      <td>0</td>\n",
       "      <td>0</td>\n",
       "    </tr>\n",
       "  </tbody>\n",
       "</table>\n",
       "</div>"
      ],
      "text/plain": [
       "   temp  humidity  windspeed  holiday_1  season_2  season_3  season_4  \\\n",
       "0  9.84        81        0.0          0         0         0         0   \n",
       "1  9.02        80        0.0          0         0         0         0   \n",
       "\n",
       "   workingday_1  weather_2  weather_3  weather_4  \n",
       "0             0          0          0          0  \n",
       "1             0          0          0          0  "
      ]
     },
     "execution_count": 2,
     "metadata": {},
     "output_type": "execute_result"
    }
   ],
   "source": [
    "bikes = pd.read_csv(\"assets/data/bikeshare.csv\")\n",
    "bikes = pd.get_dummies(bikes, columns=[\"holiday\", \"season\", \"workingday\", \"weather\"], drop_first=True)\n",
    "\n",
    "X = bikes[[\"temp\", \"humidity\", \"windspeed\", \"holiday_1\", \"season_2\", \"season_3\", \"season_4\",\n",
    "           \"workingday_1\", \"weather_2\", \"weather_3\", \"weather_4\"]]\n",
    "\n",
    "y = bikes[\"count\"]\n",
    "\n",
    "X.head(2)"
   ]
  },
  {
   "cell_type": "code",
   "execution_count": 3,
   "metadata": {
    "slideshow": {
     "slide_type": "subslide"
    }
   },
   "outputs": [
    {
     "name": "stdout",
     "output_type": "stream",
     "text": [
      "[ 11.19896207  -2.81479401   0.41698205  -9.36978344  -4.36073238\n",
      " -43.42518093  69.11719289   0.47992617  14.96044248  -6.07414068\n",
      " 186.8354393 ] 153.84885793631048 \n",
      "\n",
      "[ 10.96274269  -2.8151251    0.41089773  -6.14390027  -3.07501539\n",
      " -38.96244713  65.33144486   0.86977511  14.20301373  -5.35355702\n",
      "   1.82417812] 153.75473253544243\n"
     ]
    }
   ],
   "source": [
    "from sklearn.linear_model import LinearRegression, Ridge\n",
    "\n",
    "X_train, X_test, y_train, y_test = train_test_split(X, y, test_size=0.3, random_state=42)\n",
    "\n",
    "lr = LinearRegression()\n",
    "lr.fit(X_train, y_train)\n",
    "\n",
    "ridge = Ridge(alpha=100)\n",
    "ridge.fit(X_train, y_train)\n",
    "\n",
    "print(lr.coef_, np.sqrt(mean_squared_error(y_test, lr.predict(X_test))), \"\\n\")\n",
    "print(ridge.coef_, np.sqrt(mean_squared_error(y_test, ridge.predict(X_test))))"
   ]
  },
  {
   "cell_type": "code",
   "execution_count": 4,
   "metadata": {
    "slideshow": {
     "slide_type": "subslide"
    }
   },
   "outputs": [
    {
     "name": "stdout",
     "output_type": "stream",
     "text": [
      "[ 11.19896207  -2.81479401   0.41698205  -9.36978344  -4.36073238\n",
      " -43.42518093  69.11719289   0.47992617  14.96044248  -6.07414068\n",
      " 186.8354393 ] 153.84885793631048 \n",
      "\n",
      "[ 10.96274269  -2.8151251    0.41089773  -6.14390027  -3.07501539\n",
      " -38.96244713  65.33144486   0.86977511  14.20301373  -5.35355702\n",
      "   1.82417812] 153.75473253544243 \n",
      "\n",
      "[ 10.67469621  -2.84195743   0.38941915  -0.           0.\n",
      " -31.73575768  66.82192433   0.          10.83697365  -0.\n",
      "   0.        ] 153.75744463354064\n"
     ]
    }
   ],
   "source": [
    "from sklearn.linear_model import Lasso\n",
    "\n",
    "lasso = Lasso()\n",
    "\n",
    "lasso.fit(X_train, y_train)\n",
    "\n",
    "print(lr.coef_, np.sqrt(mean_squared_error(y_test, lr.predict(X_test))), \"\\n\")\n",
    "print(ridge.coef_, np.sqrt(mean_squared_error(y_test, ridge.predict(X_test))), \"\\n\")\n",
    "print(lasso.coef_, np.sqrt(mean_squared_error(y_test, lasso.predict(X_test))))"
   ]
  },
  {
   "cell_type": "code",
   "execution_count": 5,
   "metadata": {
    "slideshow": {
     "slide_type": "subslide"
    }
   },
   "outputs": [
    {
     "name": "stdout",
     "output_type": "stream",
     "text": [
      "('temp', 10.67469621435747)\n",
      "('humidity', -2.8419574279004234)\n",
      "('windspeed', 0.38941915206437666)\n",
      "('holiday_1', -0.0)\n",
      "('season_2', 0.0)\n",
      "('season_3', -31.735757681951384)\n",
      "('season_4', 66.82192433206002)\n",
      "('workingday_1', 0.0)\n",
      "('weather_2', 10.836973651343946)\n",
      "('weather_3', -0.0)\n",
      "('weather_4', 0.0)\n"
     ]
    }
   ],
   "source": [
    "for z in zip(X_train.columns, lasso.coef_):\n",
    "    print(z)"
   ]
  },
  {
   "cell_type": "markdown",
   "metadata": {
    "slideshow": {
     "slide_type": "subslide"
    }
   },
   "source": [
    "## How do I find a good $\\alpha$?"
   ]
  },
  {
   "cell_type": "markdown",
   "metadata": {
    "slideshow": {
     "slide_type": "fragment"
    }
   },
   "source": [
    "- intuitively you could try lots of values and see which is best!"
   ]
  },
  {
   "cell_type": "markdown",
   "metadata": {
    "slideshow": {
     "slide_type": "fragment"
    }
   },
   "source": [
    "- this is called **grid search**"
   ]
  },
  {
   "cell_type": "code",
   "execution_count": 6,
   "metadata": {
    "collapsed": true,
    "slideshow": {
     "slide_type": "skip"
    }
   },
   "outputs": [],
   "source": [
    "import warnings\n",
    "warnings.filterwarnings(\"ignore\")"
   ]
  },
  {
   "cell_type": "code",
   "execution_count": 7,
   "metadata": {
    "slideshow": {
     "slide_type": "subslide"
    }
   },
   "outputs": [
    {
     "data": {
      "text/plain": [
       "GridSearchCV(cv=10, error_score='raise',\n",
       "       estimator=Ridge(alpha=1.0, copy_X=True, fit_intercept=True, max_iter=None,\n",
       "   normalize=False, random_state=None, solver='auto', tol=0.001),\n",
       "       fit_params=None, iid=True, n_jobs=1,\n",
       "       param_grid={'alpha': array([1.e-10, 1.e-09, 1.e-08, 1.e-07, 1.e-06, 1.e-05, 1.e-04, 1.e-03,\n",
       "       1.e-02, 1.e-01, 1.e+00, 1.e+01, 1.e+02, 1.e+03, 1.e+04, 1.e+05,\n",
       "       1.e+06, 1.e+07, 1.e+08, 1.e+09, 1.e+10])},\n",
       "       pre_dispatch='2*n_jobs', refit=True, return_train_score=True,\n",
       "       scoring='neg_mean_squared_error', verbose=0)"
      ]
     },
     "execution_count": 7,
     "metadata": {},
     "output_type": "execute_result"
    }
   ],
   "source": [
    "from sklearn.model_selection import GridSearchCV\n",
    "\n",
    "grid = GridSearchCV(estimator=Ridge(),\n",
    "                    param_grid={'alpha': np.logspace(-10, 10, 21)},\n",
    "                    scoring='neg_mean_squared_error',\n",
    "                    return_train_score=True,\n",
    "                    cv=10)\n",
    "\n",
    "grid.fit(X_train,y_train)"
   ]
  },
  {
   "cell_type": "code",
   "execution_count": 8,
   "metadata": {
    "slideshow": {
     "slide_type": "subslide"
    }
   },
   "outputs": [
    {
     "name": "stdout",
     "output_type": "stream",
     "text": [
      "154.5088062578521 {'alpha': 10.0}\n"
     ]
    },
    {
     "data": {
      "text/plain": [
       "153.83700486774714"
      ]
     },
     "execution_count": 8,
     "metadata": {},
     "output_type": "execute_result"
    }
   ],
   "source": [
    "print(np.sqrt(-grid.best_score_), grid.best_params_)\n",
    "\n",
    "best_model = grid.best_estimator_\n",
    "np.sqrt(mean_squared_error(y_test, best_model.predict(X_test)))"
   ]
  },
  {
   "cell_type": "code",
   "execution_count": 9,
   "metadata": {
    "slideshow": {
     "slide_type": "subslide"
    }
   },
   "outputs": [
    {
     "data": {
      "text/plain": [
       "{'mean_fit_time': array([0.00680244, 0.00463779, 0.00457971, 0.00559659, 0.00452681,\n",
       "        0.00465605, 0.00458229, 0.00464723, 0.0095948 , 0.01014771,\n",
       "        0.00724909, 0.01003737, 0.00472565, 0.00474358, 0.00467589,\n",
       "        0.00498726, 0.00529463, 0.00745306, 0.00589807, 0.0048497 ,\n",
       "        0.00448587]),\n",
       " 'std_fit_time': array([3.63900869e-03, 7.83878121e-05, 4.58088960e-05, 3.29776743e-03,\n",
       "        2.79303677e-05, 1.83389440e-04, 6.29210300e-05, 1.77206137e-04,\n",
       "        6.18796498e-03, 3.82905054e-03, 2.52001868e-03, 7.60858123e-03,\n",
       "        3.90338135e-04, 2.55656877e-04, 2.11168224e-04, 8.03428901e-04,\n",
       "        7.74584149e-04, 2.33200899e-03, 1.48897016e-03, 8.80440078e-04,\n",
       "        3.48532492e-05]),\n",
       " 'mean_score_time': array([0.00066605, 0.00062261, 0.00061157, 0.00061171, 0.00060542,\n",
       "        0.00062947, 0.00061276, 0.00061934, 0.00099106, 0.0007194 ,\n",
       "        0.00074379, 0.00075047, 0.00062628, 0.00063686, 0.0006218 ,\n",
       "        0.00068192, 0.00094795, 0.00133045, 0.00073693, 0.00063043,\n",
       "        0.00061333]),\n",
       " 'std_score_time': array([6.19519748e-05, 1.88920812e-05, 6.81681205e-06, 9.97094319e-06,\n",
       "        4.90823893e-06, 1.88045012e-05, 9.19099757e-06, 8.60426854e-06,\n",
       "        9.48764457e-04, 2.02031920e-04, 1.85323547e-04, 1.53287352e-04,\n",
       "        2.27038591e-05, 4.90008824e-05, 1.21106313e-05, 1.00217672e-04,\n",
       "        6.12375259e-04, 1.64820574e-03, 2.20101272e-04, 2.38553962e-05,\n",
       "        7.98559888e-06]),\n",
       " 'param_alpha': masked_array(data=[1e-10, 1e-09, 1e-08, 1e-07, 1e-06, 1e-05, 0.0001,\n",
       "                    0.001, 0.01, 0.1, 1.0, 10.0, 100.0, 1000.0, 10000.0,\n",
       "                    100000.0, 1000000.0, 10000000.0, 100000000.0,\n",
       "                    1000000000.0, 10000000000.0],\n",
       "              mask=[False, False, False, False, False, False, False, False,\n",
       "                    False, False, False, False, False, False, False, False,\n",
       "                    False, False, False, False, False],\n",
       "        fill_value='?',\n",
       "             dtype=object),\n",
       " 'params': [{'alpha': 1e-10},\n",
       "  {'alpha': 1e-09},\n",
       "  {'alpha': 1e-08},\n",
       "  {'alpha': 1e-07},\n",
       "  {'alpha': 1e-06},\n",
       "  {'alpha': 1e-05},\n",
       "  {'alpha': 0.0001},\n",
       "  {'alpha': 0.001},\n",
       "  {'alpha': 0.01},\n",
       "  {'alpha': 0.1},\n",
       "  {'alpha': 1.0},\n",
       "  {'alpha': 10.0},\n",
       "  {'alpha': 100.0},\n",
       "  {'alpha': 1000.0},\n",
       "  {'alpha': 10000.0},\n",
       "  {'alpha': 100000.0},\n",
       "  {'alpha': 1000000.0},\n",
       "  {'alpha': 10000000.0},\n",
       "  {'alpha': 100000000.0},\n",
       "  {'alpha': 1000000000.0},\n",
       "  {'alpha': 10000000000.0}],\n",
       " 'split0_test_score': array([-22568.9875235 , -22568.9875235 , -22568.9875235 , -22568.98752347,\n",
       "        -22568.98752317, -22568.98752016, -22568.98749012, -22568.98719005,\n",
       "        -22568.98422719, -22568.95802682, -22568.86619618, -22569.52104352,\n",
       "        -22581.60231553, -22831.89101276, -23573.26076969, -23713.41681806,\n",
       "        -25280.8301215 , -28889.88615004, -30334.32593849, -30526.98013437,\n",
       "        -30546.89014088]),\n",
       " 'split1_test_score': array([-23245.39536053, -23245.39536053, -23245.39536054, -23245.39536069,\n",
       "        -23245.3953621 , -23245.39537627, -23245.39551793, -23245.39693297,\n",
       "        -23245.4109336 , -23245.53731757, -23246.11921153, -23245.78685305,\n",
       "        -23246.04904899, -23502.8379457 , -24372.76520754, -24918.45919057,\n",
       "        -27570.2414874 , -31581.08581404, -33035.16484819, -33226.83789738,\n",
       "        -33246.62362901]),\n",
       " 'split2_test_score': array([-24427.12238699, -24427.12238699, -24427.12238699, -24427.12238696,\n",
       "        -24427.12238661, -24427.1223832 , -24427.12234908, -24427.1220075 ,\n",
       "        -24427.11855579, -24427.08077358, -24426.53935923, -24419.81352037,\n",
       "        -24368.34851314, -24342.84263206, -24846.82833994, -25347.81816197,\n",
       "        -28115.95145436, -32170.9455866 , -33629.58695531, -33821.746334  ,\n",
       "        -33841.5812466 ]),\n",
       " 'split3_test_score': array([-23930.39307736, -23930.39307736, -23930.39307735, -23930.39307733,\n",
       "        -23930.3930771 , -23930.39307479, -23930.39305168, -23930.39282106,\n",
       "        -23930.39056147, -23930.37220057, -23930.39889214, -23932.58065523,\n",
       "        -23958.34594983, -24276.01593771, -25092.23204377, -25383.35610039,\n",
       "        -27524.38558005, -31600.73148408, -33133.21198105, -33335.31751008,\n",
       "        -33356.17866956]),\n",
       " 'split4_test_score': array([-22050.87048007, -22050.87048007, -22050.87048005, -22050.87047992,\n",
       "        -22050.8704786 , -22050.87046542, -22050.87033358, -22050.86901649,\n",
       "        -22050.85596796, -22050.73660876, -22050.09871858, -22048.90845756,\n",
       "        -22051.93019495, -22297.92431112, -23081.70452588, -23380.10487008,\n",
       "        -25118.41580591, -28048.61667633, -29212.35006576, -29369.76277283,\n",
       "        -29386.06065021]),\n",
       " 'split5_test_score': array([-26705.04563557, -26705.04563557, -26705.04563557, -26705.04563551,\n",
       "        -26705.04563488, -26705.04562862, -26705.04556603, -26705.0449405 ,\n",
       "        -26705.03872221, -26704.97990375, -26704.55936376, -26701.99406892,\n",
       "        -26688.41269737, -26840.18674374, -27542.82188129, -28098.64536714,\n",
       "        -30886.38051132, -34907.43896669, -36344.4606202 , -36533.63625947,\n",
       "        -36553.16200983]),\n",
       " 'split6_test_score': array([-24658.98822262, -24658.98822261, -24658.98822261, -24658.98822252,\n",
       "        -24658.98822166, -24658.98821304, -24658.98812688, -24658.98726641,\n",
       "        -24658.97876912, -24658.90356311, -24658.63854997, -24660.44655439,\n",
       "        -24685.44181149, -24998.55611409, -25829.34990867, -26248.90067296,\n",
       "        -28564.05377037, -32253.39965227, -33630.11602273, -33813.00520473,\n",
       "        -33831.90111205]),\n",
       " 'split7_test_score': array([-24898.72142149, -24898.72142149, -24898.72142149, -24898.72142144,\n",
       "        -24898.72142099, -24898.72141645, -24898.72137111, -24898.7209177 ,\n",
       "        -24898.71638381, -24898.67107278, -24898.22072732, -24893.98106031,\n",
       "        -24869.84786827, -25019.12172921, -25747.35922101, -26401.71069455,\n",
       "        -29413.33780148, -33455.25590192, -34881.4253436 , -35069.14870019,\n",
       "        -35088.52505804]),\n",
       " 'split8_test_score': array([-22451.82917468, -22451.82917468, -22451.8291747 , -22451.82917481,\n",
       "        -22451.82917595, -22451.82918734, -22451.82930126, -22451.83043946,\n",
       "        -22451.84172333, -22451.94563916, -22452.53786335, -22454.46440817,\n",
       "        -22478.67926219, -22854.53200869, -23823.95137125, -24447.22434769,\n",
       "        -27229.93305692, -31308.58270329, -32782.59762969, -32976.7603555 ,\n",
       "        -32996.80131329]),\n",
       " 'split9_test_score': array([-23802.98927508, -23802.98927508, -23802.98927508, -23802.98927507,\n",
       "        -23802.989275  , -23802.98927431, -23802.98926739, -23802.98919823,\n",
       "        -23802.98850593, -23802.98152248, -23802.90786536, -23802.21549074,\n",
       "        -23803.71061203, -24030.17368001, -24764.76446295, -24843.17531017,\n",
       "        -26029.84759551, -29102.85686189, -30390.97158949, -30564.66055114,\n",
       "        -30582.63311794]),\n",
       " 'mean_test_score': array([-23874.03425579, -23874.03425579, -23874.03425579, -23874.03425577,\n",
       "        -23874.03425561, -23874.03425396, -23874.03423751, -23874.03407304,\n",
       "        -23874.03243504, -23874.01666286, -23873.88867474, -23872.97121123,\n",
       "        -23873.23682738, -24099.40821151, -24867.5037732 , -25278.28115336,\n",
       "        -27573.33771848, -31331.87997971, -32737.42109945, -32923.78557197,\n",
       "        -32943.03569474]),\n",
       " 'std_test_score': array([1320.59908439, 1320.59908439, 1320.59908439, 1320.59908437,\n",
       "        1320.59908415, 1320.59908201, 1320.59906062, 1320.59884683,\n",
       "        1320.59671902, 1320.57636313, 1320.41908616, 1319.2897356 ,\n",
       "        1309.92257765, 1265.66219148, 1229.47216234, 1312.85355499,\n",
       "        1715.30545132, 2017.25556788, 2077.36642344, 2084.12765505,\n",
       "        2084.81249177]),\n",
       " 'rank_test_score': array([13, 12, 11, 10,  9,  8,  7,  6,  5,  4,  3,  1,  2, 14, 15, 16, 17,\n",
       "        18, 19, 20, 21], dtype=int32),\n",
       " 'split0_train_score': array([-23934.3367083 , -23934.3367083 , -23934.3367083 , -23934.3367083 ,\n",
       "        -23934.3367083 , -23934.3367083 , -23934.33670835, -23934.33671343,\n",
       "        -23934.33721242, -23934.3792002 , -23935.62118654, -23938.65800013,\n",
       "        -23946.34219272, -24187.74650073, -24966.86160229, -25389.05576913,\n",
       "        -27769.59217592, -31584.70572914, -32984.84765762, -33169.77742526,\n",
       "        -33188.87094607]),\n",
       " 'split1_train_score': array([-23858.0577969 , -23858.0577969 , -23858.0577969 , -23858.0577969 ,\n",
       "        -23858.0577969 , -23858.0577969 , -23858.05779695, -23858.05780182,\n",
       "        -23858.05827987, -23858.09850676, -23859.28852351, -23862.21230074,\n",
       "        -23870.42997175, -24115.44649854, -24885.05789777, -25292.93398412,\n",
       "        -27566.76102774, -31289.08721457, -32684.34998646, -32869.50549766,\n",
       "        -32888.6327573 ]),\n",
       " 'split2_train_score': array([-23727.48066333, -23727.48066333, -23727.48066333, -23727.48066333,\n",
       "        -23727.48066333, -23727.48066333, -23727.48066338, -23727.48066837,\n",
       "        -23727.48115911, -23727.52245321, -23728.74407681, -23731.75168466,\n",
       "        -23740.52528941, -23999.10479152, -24821.67587536, -25248.51295785,\n",
       "        -27511.86019029, -31224.27707957, -32618.51301199, -32803.5603674 ,\n",
       "        -32822.67663076]),\n",
       " 'split3_train_score': array([-23785.78739833, -23785.78739833, -23785.78739833, -23785.78739833,\n",
       "        -23785.78739833, -23785.78739833, -23785.78739838, -23785.78740347,\n",
       "        -23785.78790321, -23785.82995427, -23787.07375081, -23790.10797469,\n",
       "        -23797.39826238, -24032.93357246, -24799.96808781, -25217.40814835,\n",
       "        -27556.6378946 , -31295.07104898, -32674.38769243, -32856.95141776,\n",
       "        -32875.80570596]),\n",
       " 'split4_train_score': array([-23991.34529271, -23991.34529271, -23991.34529271, -23991.34529271,\n",
       "        -23991.34529271, -23991.34529271, -23991.34529276, -23991.34529794,\n",
       "        -23991.34580613, -23991.38856889, -23992.65355174, -23995.75468397,\n",
       "        -24003.90882615, -24247.49381972, -25024.18492997, -25440.74660164,\n",
       "        -27774.71819476, -31645.05911487, -33103.67052762, -33297.16870492,\n",
       "        -33317.15612126]),\n",
       " 'split5_train_score': array([-23473.88081656, -23473.88081656, -23473.88081656, -23473.88081656,\n",
       "        -23473.88081656, -23473.88081656, -23473.88081661, -23473.88082169,\n",
       "        -23473.88132053, -23473.92329581, -23475.1650105 , -23478.21186089,\n",
       "        -23486.47176998, -23735.28136731, -24529.64962985, -24946.92908007,\n",
       "        -27206.7867996 , -30920.7005015 , -32318.95068047, -32504.68954281,\n",
       "        -32523.87931745]),\n",
       " 'split6_train_score': array([-23701.09739888, -23701.09739888, -23701.09739888, -23701.09739888,\n",
       "        -23701.09739888, -23701.09739888, -23701.09739893, -23701.09740408,\n",
       "        -23701.09791054, -23701.14052696, -23702.4010923 , -23705.48130619,\n",
       "        -23713.0857752 , -23950.90372036, -24720.20818425, -25134.39392557,\n",
       "        -27435.63523876, -31204.69010206, -32617.61398549, -32804.97167975,\n",
       "        -32824.32423459]),\n",
       " 'split7_train_score': array([-23682.00331481, -23682.00331481, -23682.00331481, -23682.00331481,\n",
       "        -23682.00331481, -23682.00331481, -23682.00331481, -23682.00331481,\n",
       "        -23682.00331491, -23682.00332537, -23682.00436778, -23682.10508294,\n",
       "        -23689.91325621, -23939.02557214, -24730.19132328, -25144.01462849,\n",
       "        -27376.25704455, -31077.68865136, -32477.97571737, -32664.0685851 ,\n",
       "        -32683.29560343]),\n",
       " 'split8_train_score': array([-23945.10490664, -23945.10490664, -23945.10490664, -23945.10490664,\n",
       "        -23945.10490664, -23945.10490664, -23945.10490669, -23945.10491162,\n",
       "        -23945.10539543, -23945.14610663, -23946.35044042, -23949.30815273,\n",
       "        -23957.38818386, -24194.9086585 , -24949.19647984, -25352.26944229,\n",
       "        -27610.19371574, -31322.24524424, -32713.32804603, -32897.8806413 ,\n",
       "        -32916.94499074]),\n",
       " 'split9_train_score': array([-23798.02281753, -23798.02281753, -23798.02281753, -23798.02281753,\n",
       "        -23798.02281753, -23798.02281753, -23798.02281758, -23798.02282262,\n",
       "        -23798.02331721, -23798.06493503, -23799.29605968, -23802.31554586,\n",
       "        -23810.41198043, -24054.55891246, -24834.2090763 , -25256.0701075 ,\n",
       "        -27656.20543563, -31542.43741221, -32976.47256165, -33166.07460437,\n",
       "        -33185.65283681]),\n",
       " 'mean_train_score': array([-23789.7117114 , -23789.7117114 , -23789.7117114 , -23789.7117114 ,\n",
       "        -23789.7117114 , -23789.7117114 , -23789.71171144, -23789.71171598,\n",
       "        -23789.71216194, -23789.74968731, -23790.85980601, -23793.59065928,\n",
       "        -23801.58755081, -24045.74034137, -24826.12030867, -25242.2334645 ,\n",
       "        -27546.46477176, -31310.59620985, -32717.01098671, -32903.46484663,\n",
       "        -32922.72391444]),\n",
       " 'std_train_score': array([146.13372323, 146.13372323, 146.13372323, 146.13372323,\n",
       "        146.13372323, 146.13372323, 146.13372323, 146.13372359,\n",
       "        146.13375894, 146.13673409, 146.22514239, 146.43772858,\n",
       "        146.39897853, 143.93186123, 136.65387693, 136.00400004,\n",
       "        166.23409496, 215.99140356, 229.48440562, 231.13871248,\n",
       "        231.3081132 ])}"
      ]
     },
     "execution_count": 9,
     "metadata": {},
     "output_type": "execute_result"
    }
   ],
   "source": [
    "grid.cv_results_"
   ]
  }
 ],
 "metadata": {
  "celltoolbar": "Slideshow",
  "kernelspec": {
   "display_name": "Python 3",
   "language": "python",
   "name": "python3"
  },
  "language_info": {
   "codemirror_mode": {
    "name": "ipython",
    "version": 3
   },
   "file_extension": ".py",
   "mimetype": "text/x-python",
   "name": "python",
   "nbconvert_exporter": "python",
   "pygments_lexer": "ipython3",
   "version": "3.6.2"
  }
 },
 "nbformat": 4,
 "nbformat_minor": 2
}
