{
 "cells": [
  {
   "cell_type": "markdown",
   "metadata": {
    "slideshow": {
     "slide_type": "slide"
    }
   },
   "source": [
    "<img src=\"http://imgur.com/1ZcRyrc.png\" style=\"float: left; margin: 20px; height: 55px\">\n",
    "\n",
    "## Principles of Data Visualisation With Python\n",
    "\n",
    "---"
   ]
  },
  {
   "cell_type": "markdown",
   "metadata": {
    "slideshow": {
     "slide_type": "slide"
    }
   },
   "source": [
    "# Agenda\n",
    "\n",
    "#### Data Visualisation: Communication & Exploration\n",
    "#### Mathplotlib coding runthrough (quick!!)\n",
    "#### Titanic dataset EDA (also quick!!!)\n",
    "#### BREAK\n",
    "#### Additional Seaborn & Plotly tutorials - peruse at own leisure\n",
    "#### Coding Practice: Matplotlib, Election Data EDA. (Optional Seaborn exercises)"
   ]
  },
  {
   "cell_type": "markdown",
   "metadata": {
    "slideshow": {
     "slide_type": "skip"
    }
   },
   "source": [
    "#### Navigation\n",
    "\n",
    "[Part 1: Data Visualisation for Communication](#part1)\n",
    "\n",
    "[Part 2: Data Visualisation for Exploration](#part2)"
   ]
  },
  {
   "cell_type": "markdown",
   "metadata": {
    "slideshow": {
     "slide_type": "slide"
    }
   },
   "source": [
    "# Why do we bother visualising data?"
   ]
  },
  {
   "cell_type": "markdown",
   "metadata": {
    "slideshow": {
     "slide_type": "subslide"
    }
   },
   "source": [
    "### Why do we bother visualising data?\n",
    "\n",
    "- human brains are wired to process more information visually"
   ]
  },
  {
   "cell_type": "markdown",
   "metadata": {
    "slideshow": {
     "slide_type": "fragment"
    }
   },
   "source": [
    "- a universal way to convey information"
   ]
  },
  {
   "cell_type": "markdown",
   "metadata": {
    "slideshow": {
     "slide_type": "fragment"
    }
   },
   "source": [
    "- attractive to look at"
   ]
  },
  {
   "cell_type": "markdown",
   "metadata": {
    "slideshow": {
     "slide_type": "fragment"
    }
   },
   "source": [
    "- often the best way to describe/analyse data **as the amount of data increases**"
   ]
  },
  {
   "cell_type": "markdown",
   "metadata": {
    "slideshow": {
     "slide_type": "subslide"
    }
   },
   "source": [
    "### Purposes of Data Visualisation"
   ]
  },
  {
   "cell_type": "markdown",
   "metadata": {
    "slideshow": {
     "slide_type": "fragment"
    }
   },
   "source": [
    "#### Communication"
   ]
  },
  {
   "cell_type": "markdown",
   "metadata": {
    "slideshow": {
     "slide_type": "fragment"
    }
   },
   "source": [
    "#### Exploration"
   ]
  },
  {
   "cell_type": "markdown",
   "metadata": {
    "slideshow": {
     "slide_type": "subslide"
    }
   },
   "source": [
    "### Learning Objectives\n",
    "\n",
    "#### Part 1\n",
    "\n",
    "- Describe why data visualisation is important.\n",
    "- Identify the characteristics of a great data visualisation."
   ]
  },
  {
   "cell_type": "markdown",
   "metadata": {
    "slideshow": {
     "slide_type": "slide"
    }
   },
   "source": [
    "<a id=\"part1\"> </a>\n",
    "\n",
    "# Data Visualisation for Communication"
   ]
  },
  {
   "cell_type": "markdown",
   "metadata": {
    "slideshow": {
     "slide_type": "subslide"
    }
   },
   "source": [
    "### Bad Data Visualisation"
   ]
  },
  {
   "cell_type": "markdown",
   "metadata": {
    "slideshow": {
     "slide_type": "subslide"
    }
   },
   "source": [
    "<table style=\"border-width:0px\">\n",
    "    <tr style=\"border-width:0px\"><td style=\"border-width:0px\"><img src=\"assets/images/bad_datavis_1.png\" /></td><td style=\"border-width:0px\"><img src=\"assets/images/bad_datavis_2.png\" /></td></tr>\n",
    "    <tr style=\"border-width:0px\"><td style=\"border-width:0px\"><img src=\"assets/images/bad_datavis_3.png\" /></td><td style=\"border-width:0px\"><img src=\"assets/images/bad_datavis_4.png\" /></td></tr>\n",
    "</table>"
   ]
  },
  {
   "cell_type": "markdown",
   "metadata": {
    "slideshow": {
     "slide_type": "subslide"
    }
   },
   "source": [
    "![](assets/images/worst_piechart.jpg)"
   ]
  },
  {
   "cell_type": "markdown",
   "metadata": {
    "slideshow": {
     "slide_type": "subslide"
    }
   },
   "source": [
    "<img src=\"assets/images/hotdogs.jpg\" style=\"width:60%\" />"
   ]
  },
  {
   "cell_type": "markdown",
   "metadata": {
    "slideshow": {
     "slide_type": "subslide"
    }
   },
   "source": [
    "# Good DataVis?\n",
    "\n",
    "![](assets/images/economist-map.JPG)"
   ]
  },
  {
   "cell_type": "markdown",
   "metadata": {
    "slideshow": {
     "slide_type": "subslide"
    }
   },
   "source": [
    "For good examples of DataVis you can try:\n",
    "\n",
    "- [Information is Beautiful](https://www.informationisbeautifulawards.com)\n",
    "- [FlowingData](http://flowingdata.com)"
   ]
  },
  {
   "cell_type": "markdown",
   "metadata": {
    "slideshow": {
     "slide_type": "slide"
    }
   },
   "source": [
    "## What are some visual attributes that we can use to visualise data?"
   ]
  },
  {
   "cell_type": "markdown",
   "metadata": {
    "slideshow": {
     "slide_type": "fragment"
    }
   },
   "source": [
    "i.e. how can we visually convey the difference between two things that are different in our data?"
   ]
  },
  {
   "cell_type": "markdown",
   "metadata": {
    "slideshow": {
     "slide_type": "subslide"
    }
   },
   "source": [
    "Let's take a look at what Jeffrey Shaffer, who teaches data visualisation at the University of Cincinnati, thinks:\n",
    "\n",
    "![](assets/images/data%20attributes.png)"
   ]
  },
  {
   "cell_type": "markdown",
   "metadata": {
    "slideshow": {
     "slide_type": "fragment"
    }
   },
   "source": [
    "Which ones do you think are easier/harder for humans to perceive?"
   ]
  },
  {
   "cell_type": "markdown",
   "metadata": {
    "slideshow": {
     "slide_type": "fragment"
    }
   },
   "source": [
    "Interestingly, some attributes have more of an effect on our brains than others. The ones we tend to focus on most are position, then color, then size."
   ]
  },
  {
   "cell_type": "markdown",
   "metadata": {
    "slideshow": {
     "slide_type": "slide"
    }
   },
   "source": [
    "# Colour"
   ]
  },
  {
   "cell_type": "markdown",
   "metadata": {
    "slideshow": {
     "slide_type": "fragment"
    }
   },
   "source": [
    "Generally, in data visualisations, you’re going to use colour in one of **three** ways."
   ]
  },
  {
   "cell_type": "markdown",
   "metadata": {
    "slideshow": {
     "slide_type": "subslide"
    }
   },
   "source": [
    "## Sequential\n",
    "\n",
    "Sequential colours are used to show values ordered from low to high.\n",
    "\n",
    "<img src=\"assets/images/sequential.png\" style=\"width:55%\" />"
   ]
  },
  {
   "cell_type": "markdown",
   "metadata": {
    "slideshow": {
     "slide_type": "fragment"
    }
   },
   "source": [
    "Which of the types of data (nominal, ordinal, interval, ratio) would this be suitable for?"
   ]
  },
  {
   "cell_type": "markdown",
   "metadata": {
    "collapsed": true,
    "slideshow": {
     "slide_type": "subslide"
    }
   },
   "source": [
    "## Divergent\n",
    "\n",
    "Divergent colours are used to show ordered values that have a critical midpoint, like an average or zero.\n",
    "\n",
    "<img src=\"assets/images/divergent.png\" style=\"width: 45%\" />"
   ]
  },
  {
   "cell_type": "markdown",
   "metadata": {
    "slideshow": {
     "slide_type": "fragment"
    }
   },
   "source": [
    "Which of the types of data (nominal, ordinal, interval, ratio) would this be suitable for?"
   ]
  },
  {
   "cell_type": "markdown",
   "metadata": {
    "collapsed": true,
    "slideshow": {
     "slide_type": "subslide"
    }
   },
   "source": [
    "## Categorical\n",
    "\n",
    "Categorical colours are used to distinguish data that falls into distinct groups.\n",
    "\n",
    "<img src=\"assets/images/categorical.png\" style=\"width: 50%\" />"
   ]
  },
  {
   "cell_type": "markdown",
   "metadata": {
    "slideshow": {
     "slide_type": "fragment"
    }
   },
   "source": [
    "Which of the types of data (nominal, ordinal, interval, ratio) would this be suitable for?"
   ]
  },
  {
   "cell_type": "markdown",
   "metadata": {
    "slideshow": {
     "slide_type": "slide"
    }
   },
   "source": [
    "<a id=\"part2\"> </a>\n",
    "\n",
    "# Data Visualisation for Exploration"
   ]
  },
  {
   "cell_type": "markdown",
   "metadata": {
    "slideshow": {
     "slide_type": "subslide"
    }
   },
   "source": [
    "### Learning Objectives\n",
    "- Describe when you would use a bar chart, pie chart, line chart, and scatter plot\n",
    "- Practise creating plots of your data using `matplotlib` & `seaborn`"
   ]
  },
  {
   "cell_type": "markdown",
   "metadata": {
    "slideshow": {
     "slide_type": "subslide"
    }
   },
   "source": [
    "<a id='anscombe'></a>\n",
    "\n",
    "Below are the summary statistics for four plots. What do you think the visualisation for each plot would look like? \n",
    "\n",
    "![summary statistics for four different plots](assets/images/anscombe_dataset.png)"
   ]
  },
  {
   "cell_type": "markdown",
   "metadata": {
    "slideshow": {
     "slide_type": "subslide"
    }
   },
   "source": [
    "### Anscombe's Quartet\n",
    "\n",
    "You can probably already guess what the answer is: although the four plots have the same summary statistics, they are actually completely different. \n",
    "\n",
    "This can be seen when we visualize them together. \n",
    "\n"
   ]
  },
  {
   "cell_type": "markdown",
   "metadata": {
    "slideshow": {
     "slide_type": "subslide"
    }
   },
   "source": [
    "<img src=\"assets/images/anscombe.png\" style=\"width:70%\" />"
   ]
  },
  {
   "cell_type": "markdown",
   "metadata": {
    "slideshow": {
     "slide_type": "subslide"
    }
   },
   "source": [
    "These descriptive statistics come from a data set constructed in 1973 by the statistician Francis Anscombe. It is a classic demonstration of the importance of data visualization.\n",
    "\n",
    "- It highlights the failures of summary statistics."
   ]
  },
  {
   "cell_type": "markdown",
   "metadata": {
    "slideshow": {
     "slide_type": "fragment"
    }
   },
   "source": [
    "- It shows the effect of outliers on statistical properties."
   ]
  },
  {
   "cell_type": "markdown",
   "metadata": {
    "slideshow": {
     "slide_type": "fragment"
    }
   },
   "source": [
    "- Anscombe's intention was to attack the impression among statisticians that \"numerical calculations are exact, but graphs are rough.\""
   ]
  },
  {
   "cell_type": "markdown",
   "metadata": {
    "slideshow": {
     "slide_type": "slide"
    }
   },
   "source": [
    "<a id='chart_choice'></a>\n",
    "\n",
    "# Choosing the Right Chart"
   ]
  },
  {
   "cell_type": "markdown",
   "metadata": {
    "slideshow": {
     "slide_type": "subslide"
    }
   },
   "source": [
    "### Bar Charts"
   ]
  },
  {
   "cell_type": "markdown",
   "metadata": {
    "slideshow": {
     "slide_type": "fragment"
    }
   },
   "source": [
    "Bar charts make it easy to compare information, revealing highs and lows quickly"
   ]
  },
  {
   "cell_type": "markdown",
   "metadata": {
    "slideshow": {
     "slide_type": "fragment"
    }
   },
   "source": [
    "Bar charts are most effective when you have numerical data that splits neatly into different categories"
   ]
  },
  {
   "cell_type": "markdown",
   "metadata": {
    "slideshow": {
     "slide_type": "subslide"
    }
   },
   "source": [
    "![](./assets/images/bar%20chart.png)"
   ]
  },
  {
   "cell_type": "markdown",
   "metadata": {
    "slideshow": {
     "slide_type": "subslide"
    }
   },
   "source": [
    "### Pie Charts\n",
    "\n",
    "Pie charts are only useful to show relative proportions or percentages of information, but are both **overused** and **misused**."
   ]
  },
  {
   "cell_type": "markdown",
   "metadata": {
    "slideshow": {
     "slide_type": "fragment"
    }
   },
   "source": [
    "After 2-3 slices pies become useless. "
   ]
  },
  {
   "cell_type": "markdown",
   "metadata": {
    "slideshow": {
     "slide_type": "fragment"
    }
   },
   "source": [
    "Best to avoid them entirely."
   ]
  },
  {
   "cell_type": "markdown",
   "metadata": {
    "slideshow": {
     "slide_type": "subslide"
    }
   },
   "source": [
    "### The Best Use of a Pie Chart\n",
    "\n",
    "![](http://i.imgur.com/uhTf6Ek.jpg)"
   ]
  },
  {
   "cell_type": "markdown",
   "metadata": {
    "slideshow": {
     "slide_type": "subslide"
    }
   },
   "source": [
    "### Scatter Plots\n",
    "\n",
    "Scatter plots are a great way to give you a sense of trends, concentrations, and outliers.\n",
    "\n",
    "![](./assets/images/scatter%20plot.png)\n",
    "[Scatter plot via Wikibooks](https://en.wikibooks.org/wiki/Statistics/Displaying_Data/Scatter_Graphs)"
   ]
  },
  {
   "cell_type": "markdown",
   "metadata": {
    "slideshow": {
     "slide_type": "subslide"
    }
   },
   "source": [
    "### Line charts\n",
    "\n",
    "Line charts are used for when there's a temporal element to your data.\n",
    "\n",
    "![](assets/images/xkcd-chart.png)\n",
    "\n",
    "[xkcd #418](https://xkcd.com/418)"
   ]
  },
  {
   "cell_type": "markdown",
   "metadata": {
    "slideshow": {
     "slide_type": "subslide"
    }
   },
   "source": [
    "### Histograms \n",
    "\n",
    "Histograms are useful when you want to see how your data are distributed across groups.\n",
    "\n",
    "![](./assets/images/histogram%20chart.png)\n"
   ]
  },
  {
   "cell_type": "markdown",
   "metadata": {
    "slideshow": {
     "slide_type": "subslide"
    }
   },
   "source": [
    "There isn't a better or worse chart type, overall. "
   ]
  },
  {
   "cell_type": "markdown",
   "metadata": {
    "slideshow": {
     "slide_type": "fragment"
    }
   },
   "source": [
    "(Except for pie charts.... they're just the worst)."
   ]
  },
  {
   "cell_type": "markdown",
   "metadata": {
    "slideshow": {
     "slide_type": "fragment"
    }
   },
   "source": [
    "You should consider which one is most appropriate for representing a particular data set.\n",
    "\n",
    "[Which chart is right for you? (via Tableau)](https://drive.google.com/file/d/0Bx2SHQGVqWasT1l4NWtLclJJcWM/view)"
   ]
  },
  {
   "cell_type": "markdown",
   "metadata": {
    "slideshow": {
     "slide_type": "slide"
    }
   },
   "source": [
    "## Visualisation Programming Libraries\n",
    "\n",
    "In this course, we will mostly use the Python library [Matplotlib](https://matplotlib.org/) but also see examples of using [Seaborn](https://seaborn.pydata.org/) which has some additional plots and options.\n",
    "\n",
    "Seaborn provides an API on top of Matplotlib that offers sane choices for plot style and color defaults, defines simple high-level functions for common statistical plot types, and integrates with the functionality provided by Pandas DataFrames.\n",
    "\n",
    "Matplotlib has recently improved - but Seaborn still has better pandas integration, and is very customisable."
   ]
  },
  {
   "cell_type": "markdown",
   "metadata": {
    "slideshow": {
     "slide_type": "subslide"
    }
   },
   "source": [
    "Many other Python libraries exist for making visualisations. Some of the most popular include:"
   ]
  },
  {
   "cell_type": "markdown",
   "metadata": {
    "slideshow": {
     "slide_type": "fragment"
    }
   },
   "source": [
    "- **[Bokeh](http://bokeh.pydata.org/en/latest/):** Python visualisation library that targets the web browser (e.g., in Jupyter). Makes interactive plots, dashboards, data applications, etc."
   ]
  },
  {
   "cell_type": "markdown",
   "metadata": {
    "slideshow": {
     "slide_type": "fragment"
    }
   },
   "source": [
    "- **[Plotly](https://plot.ly/):** Python visualisation library, similar to Bokeh. We include a workthrough of interactive plotting using Plotly in notebook 5."
   ]
  },
  {
   "cell_type": "markdown",
   "metadata": {
    "slideshow": {
     "slide_type": "fragment"
    }
   },
   "source": [
    "- **[Graphviz](http://graphviz.readthedocs.io/en/stable/manual.html):** Popular visualization library for graph data structures (e.g., edges, vertices, etc). Has Python extensions."
   ]
  },
  {
   "cell_type": "markdown",
   "metadata": {
    "slideshow": {
     "slide_type": "fragment"
    }
   },
   "source": [
    "- **[Basemap](http://matplotlib.org/basemap/):** Python Matplotlib extension for drawing static maps. There are many other Python libraries for plotting geographic data, including [folium](https://github.com/python-visualization/folium)."
   ]
  },
  {
   "cell_type": "markdown",
   "metadata": {
    "slideshow": {
     "slide_type": "subslide"
    }
   },
   "source": [
    "One of the most popular libraries for interactive visualizations in the web browser is D3. Because web browsers only natively run JavaScript, D3 requires knowledge of JavaScript:\n",
    "\n",
    "- **[D3.js](https://d3js.org/):** JavaScript library for interactive web visualizations [D3.js](https://d3js.org/) | [Examples](https://github.com/mbostock/d3/wiki/Gallery)"
   ]
  },
  {
   "cell_type": "markdown",
   "metadata": {
    "slideshow": {
     "slide_type": "subslide"
    }
   },
   "source": [
    "### Other Visualization Tools\n",
    "\n",
    "Although this course emphasizes a Python approach to data science, a variety of non-programming tools are also used in industry. Often, these tools can be applied much more quickly than creating a custom Python solution. For example:\n",
    "\n",
    "- **Excel:** For quick data cleaning and simple graphs\n",
    "- **Power BI:** A suite of business analytics tools\n",
    "- **Tableau:** Business intelligence and analytics software\n",
    "- **Periscope Data:** Data analysis platform\n",
    "\n"
   ]
  }
 ],
 "metadata": {
  "anaconda-cloud": {},
  "celltoolbar": "Slideshow",
  "kernelspec": {
   "display_name": "Python 3",
   "language": "python",
   "name": "python3"
  },
  "language_info": {
   "codemirror_mode": {
    "name": "ipython",
    "version": 3
   },
   "file_extension": ".py",
   "mimetype": "text/x-python",
   "name": "python",
   "nbconvert_exporter": "python",
   "pygments_lexer": "ipython3",
   "version": "3.6.5"
  }
 },
 "nbformat": 4,
 "nbformat_minor": 1
}
