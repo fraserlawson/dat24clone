{
 "cells": [
  {
   "cell_type": "markdown",
   "metadata": {},
   "source": [
    "### What next?\n",
    "\n",
    "\n",
    "- Next session: Natural Language Processing \n",
    "- UP3 is due on Monday, by 6pm. ** Submit your answers on Slack **\n",
    "- FP3 is due next Wednesday.\n",
    "- Face to face office hours (me, Monday), Slack Office Hours (me: tomorrow, Jasmine: Friday).\n",
    "- Fill in Exit Tickets"
   ]
  }
 ],
 "metadata": {
  "kernelspec": {
   "display_name": "Python 3",
   "language": "python",
   "name": "python3"
  },
  "language_info": {
   "codemirror_mode": {
    "name": "ipython",
    "version": 3
   },
   "file_extension": ".py",
   "mimetype": "text/x-python",
   "name": "python",
   "nbconvert_exporter": "python",
   "pygments_lexer": "ipython3",
   "version": "3.6.5"
  }
 },
 "nbformat": 4,
 "nbformat_minor": 2
}
