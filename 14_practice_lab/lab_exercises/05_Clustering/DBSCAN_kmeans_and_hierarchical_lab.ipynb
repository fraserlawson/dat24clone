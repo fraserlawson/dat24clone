{
 "cells": [
  {
   "cell_type": "markdown",
   "metadata": {},
   "source": [
    "___\n",
    "<img src=\"http://imgur.com/1ZcRyrc.png\" style=\"float: left; margin: 20px; height: 55px\">\n",
    "\n",
    "# Comparing Clustering Algorithm Effectiveness\n",
    "\n",
    "---\n",
    "\n",
    "In this lab you'll try three clustering algorithms we've covered on 7 different datasets specifically designed to evaluate clustering algorithm effectiveness.\n",
    "\n",
    "This lab is exploratory and data visualization heavy!\n"
   ]
  },
  {
   "cell_type": "code",
   "execution_count": 1,
   "metadata": {
    "collapsed": true
   },
   "outputs": [],
   "source": [
    "import matplotlib.pyplot as plt\n",
    "import numpy as np\n",
    "import pandas as pd\n",
    "import seaborn as sns\n",
    "\n",
    "plt.style.use('fivethirtyeight')\n",
    "\n",
    "%matplotlib inline\n",
    "%config InlineBackend.figure_format = 'retina'"
   ]
  },
  {
   "cell_type": "markdown",
   "metadata": {},
   "source": [
    "---\n",
    "\n",
    "### 1. Load the datasets\n",
    "\n",
    "Each of the seven datasets have 3 columns:\n",
    "\n",
    "    x\n",
    "    y\n",
    "    label\n",
    "    \n",
    "Since they each only have two variables, they are easy to examine visually. The label column is the \"true\" label for the data that you will compare to the clusters the algorithms find."
   ]
  },
  {
   "cell_type": "code",
   "execution_count": 2,
   "metadata": {
    "collapsed": true
   },
   "outputs": [],
   "source": [
    "flame = pd.read_csv('../assets/data/flame.csv')\n",
    "agg = pd.read_csv('../assets/data/aggregation.csv')\n",
    "comp = pd.read_csv('../assets/data/compound.csv')\n",
    "jain = pd.read_csv('../assets/data/jain.csv')\n",
    "path = pd.read_csv('../assets/data/pathbased.csv')\n",
    "r15 = pd.read_csv('../assets/data/r15.csv')\n",
    "spiral = pd.read_csv('../assets/data/spiral.csv')"
   ]
  },
  {
   "cell_type": "markdown",
   "metadata": {},
   "source": [
    "---\n",
    "\n",
    "### 2. Plot each of the datasets with the true labels colored\n",
    "\n",
    "The datasets have different numbers of unique labels, so you will need to figure out how many there are for each one and color the clusters accordingly (r15 has 15 different clusters)."
   ]
  },
  {
   "cell_type": "code",
   "execution_count": 3,
   "metadata": {
    "collapsed": true
   },
   "outputs": [],
   "source": [
    "def plot_clusters(df, title):\n",
    "    fig, ax = plt.subplots(figsize=(5,5))\n",
    "    \n",
    "    colors = plt.cm.Spectral(np.linspace(0, 1, len(df.label.unique())))\n",
    "    \n",
    "    for label, color in zip(df.label.unique(), colors):\n",
    "        X = df[df.label == label]\n",
    "        ax.scatter(X.iloc[:,0], X.iloc[:,1], s=70, \n",
    "                   color=color, label=label, alpha=0.9)\n",
    "        \n",
    "    ax.set_title(title, fontsize=20)\n",
    "    ax.legend(loc='lower right')\n",
    "    \n",
    "    plt.show()"
   ]
  },
  {
   "cell_type": "code",
   "execution_count": 4,
   "metadata": {
    "scrolled": false
   },
   "outputs": [],
   "source": [
    "# Plot each dataset with true cluster labels:"
   ]
  },
  {
   "cell_type": "markdown",
   "metadata": {},
   "source": [
    "---\n",
    "\n",
    "### 3. Plotting function or functions to compare the performance of three clustering algorithms\n",
    "\n",
    "Below three clustering algorithms we have covered earlier in the class are loaded in.\n",
    "\n",
    "    KMeans: k-means clustering\n",
    "    AgglomerativeClustering: Hierarchical clustering (bottom-up)\n",
    "    DBSCAN: density based clustering\n",
    "    \n",
    "This function will allow you to visually examine the effect of changing different parameters in the clustering algorithms. The parameters that you should explore are:\n",
    "\n",
    "    KMeans:\n",
    "        n_clusters\n",
    "    AgglomerativeClustering:\n",
    "        n_clusters\n",
    "    DBSCAN\n",
    "        eps\n",
    "        min_samples\n",
    "        \n"
   ]
  },
  {
   "cell_type": "code",
   "execution_count": 5,
   "metadata": {
    "collapsed": true
   },
   "outputs": [],
   "source": [
    "from sklearn.cluster import KMeans, AgglomerativeClustering, DBSCAN"
   ]
  },
  {
   "cell_type": "code",
   "execution_count": 6,
   "metadata": {
    "collapsed": true
   },
   "outputs": [],
   "source": [
    "def plot_competing_algos(df, title, n_clusters_kmeans=3, n_clusters_agg=3,\n",
    "                         dbscan_eps=3, dbscan_min_samples=5):\n",
    "    \n",
    "    fig, axarr = plt.subplots(1,4, figsize=(24,7))\n",
    "    \n",
    "    # TRUE:\n",
    "    colors = plt.cm.Spectral(np.linspace(0, 1, len(df.label.unique())))\n",
    "    \n",
    "    for label, color in zip(df.label.unique(), colors):\n",
    "        X_ = df[df.label == label]\n",
    "        axarr[0].scatter(X_.iloc[:,0], X_.iloc[:,1], s=70, \n",
    "                         color=color, label=label, alpha=0.9)\n",
    "        \n",
    "    axarr[0].set_title(title+' '+'true', fontsize=20)\n",
    "    axarr[0].legend(loc='lower right')\n",
    "    \n",
    "    # setup X:\n",
    "    X = df.iloc[:, 0:2]\n",
    "    \n",
    "    # K-MEANS:\n",
    "    kmeans = KMeans(n_clusters=n_clusters_kmeans)\n",
    "    kmeans.fit(X.iloc[:, 0:2])\n",
    "    \n",
    "    X['kmeans_label'] = kmeans.labels_\n",
    "    \n",
    "    colors = plt.cm.Spectral(np.linspace(0, 1, len(X.kmeans_label.unique())))\n",
    "    \n",
    "    for label, color in zip(X.kmeans_label.unique(), colors):\n",
    "        X_ = X[X.kmeans_label == label]\n",
    "        axarr[1].scatter(X_.iloc[:,0], X_.iloc[:,1], s=70, \n",
    "                         color=color, label=label, alpha=0.9)\n",
    "        \n",
    "    axarr[1].set_title(title+' '+'kmeans', fontsize=20)\n",
    "    axarr[1].legend(loc='lower right')\n",
    "    \n",
    "    \n",
    "    # HIERARCHICAL/AGGLOMERATIVE:\n",
    "    aggclust = AgglomerativeClustering(n_clusters=n_clusters_agg)\n",
    "    aggclust.fit(X.iloc[:, 0:2])\n",
    "    \n",
    "    X['aggclust_label'] = aggclust.labels_\n",
    "    \n",
    "    colors = plt.cm.Spectral(np.linspace(0, 1, len(X.aggclust_label.unique())))\n",
    "    \n",
    "    for label, color in zip(X.aggclust_label.unique(), colors):\n",
    "        X_ = X[X.aggclust_label == label]\n",
    "        axarr[2].scatter(X_.iloc[:,0], X_.iloc[:,1], s=70, \n",
    "                         color=color, label=label, alpha=0.9)\n",
    "        \n",
    "    axarr[2].set_title(title+' '+'agglomerative', fontsize=20)\n",
    "    axarr[2].legend(loc='lower right')\n",
    "    \n",
    "    \n",
    "    # DBSCAN:\n",
    "    dbscan = DBSCAN(eps=dbscan_eps, min_samples=dbscan_min_samples)\n",
    "    dbscan.fit(X.iloc[:, 0:2])\n",
    "    \n",
    "    X['dbscan_label'] = dbscan.labels_\n",
    "    \n",
    "    colors = plt.cm.Spectral(np.linspace(0, 1, len(X.dbscan_label.unique())))\n",
    "    \n",
    "    for label, color in zip(X.dbscan_label.unique(), colors):\n",
    "        X_ = X[X.dbscan_label == label]\n",
    "        axarr[3].scatter(X_.iloc[:,0], X_.iloc[:,1], s=70, \n",
    "                         color=color, label=label, alpha=0.9)\n",
    "        \n",
    "    axarr[3].set_title(title+' '+'DBSCAN', fontsize=20)\n",
    "    axarr[3].legend(loc='lower right')\n",
    "    "
   ]
  },
  {
   "cell_type": "markdown",
   "metadata": {},
   "source": [
    "## 4. Tinkering with clustering parameters\n",
    "\n",
    "In the next sections, play around with the parameters for the clustering algorithms to see their effect and try to get clusters that make sense. There is no right answer here, as these are unsupervised techniques.\n",
    "\n",
    "---\n",
    "\n",
    "### 4.1 Find good parameters for the `flame` dataset\n",
    "\n",
    "Which algorithm (visually) performs best?"
   ]
  },
  {
   "cell_type": "code",
   "execution_count": 7,
   "metadata": {},
   "outputs": [],
   "source": [
    "# A:\n",
    "\n",
    "plot_competing_algos(flame........)"
   ]
  },
  {
   "cell_type": "markdown",
   "metadata": {},
   "source": [
    "---\n",
    "\n",
    "### 4.2 Find good parameters for the `agg` dataset\n",
    "\n",
    "Which algorithm (visually) performs best?"
   ]
  },
  {
   "cell_type": "code",
   "execution_count": 8,
   "metadata": {},
   "outputs": [],
   "source": [
    "# A:"
   ]
  },
  {
   "cell_type": "markdown",
   "metadata": {},
   "source": [
    "---\n",
    "\n",
    "### 4.3 Find good parameters for the `comp` dataset\n",
    "\n",
    "Which algorithm (visually) performs best?"
   ]
  },
  {
   "cell_type": "code",
   "execution_count": 9,
   "metadata": {},
   "outputs": [],
   "source": [
    "# A:"
   ]
  },
  {
   "cell_type": "markdown",
   "metadata": {},
   "source": [
    "---\n",
    "\n",
    "### 4.4 Find good parameters for the `jain` dataset\n",
    "\n",
    "Which algorithm (visually) performs best?"
   ]
  },
  {
   "cell_type": "code",
   "execution_count": 10,
   "metadata": {},
   "outputs": [],
   "source": [
    "# A:"
   ]
  },
  {
   "cell_type": "markdown",
   "metadata": {},
   "source": [
    "---\n",
    "\n",
    "### 4.5 Find good parameters for the `pathbased` dataset\n",
    "\n",
    "Which algorithm (visually) performs best?"
   ]
  },
  {
   "cell_type": "code",
   "execution_count": 11,
   "metadata": {},
   "outputs": [],
   "source": [
    "# A:"
   ]
  },
  {
   "cell_type": "markdown",
   "metadata": {},
   "source": [
    "---\n",
    "\n",
    "### 4.6 Find good parameters for the `r15` dataset\n",
    "\n",
    "Which algorithm (visually) performs best?"
   ]
  },
  {
   "cell_type": "code",
   "execution_count": 12,
   "metadata": {},
   "outputs": [],
   "source": [
    "# A:"
   ]
  },
  {
   "cell_type": "markdown",
   "metadata": {},
   "source": [
    "---\n",
    "\n",
    "### 4.7 Find good parameters for the `spiral` dataset\n",
    "\n",
    "Which algorithm (visually) performs best?"
   ]
  },
  {
   "cell_type": "code",
   "execution_count": 13,
   "metadata": {},
   "outputs": [],
   "source": [
    "# A:"
   ]
  }
 ],
 "metadata": {
  "kernelspec": {
   "display_name": "Python 3",
   "language": "python",
   "name": "python3"
  },
  "language_info": {
   "codemirror_mode": {
    "name": "ipython",
    "version": 3
   },
   "file_extension": ".py",
   "mimetype": "text/x-python",
   "name": "python",
   "nbconvert_exporter": "python",
   "pygments_lexer": "ipython3",
   "version": "3.6.5"
  }
 },
 "nbformat": 4,
 "nbformat_minor": 1
}
