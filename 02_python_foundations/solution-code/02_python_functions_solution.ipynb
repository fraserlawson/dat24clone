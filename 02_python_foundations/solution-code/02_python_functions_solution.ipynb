{
 "cells": [
  {
   "cell_type": "markdown",
   "metadata": {},
   "source": [
    "<img src=\"http://imgur.com/1ZcRyrc.png\" style=\"float: left; margin: 20px; height: 55px\">\n",
    "\n",
    "## Practise Python Functions\n",
    "\n",
    "---"
   ]
  },
  {
   "cell_type": "markdown",
   "metadata": {},
   "source": [
    "### Resources: potentially helpful functions\n",
    "\n",
    "* [Dictionaries](https://docs.python.org/3/tutorial/datastructures.html#dictionaries)\n",
    "* [`enumerate`](https://docs.python.org/3/library/functions.html#enumerate)\n",
    "* [`len`](https://docs.python.org/3/library/functions.html#len)\n",
    "* [`int`](https://docs.python.org/3/library/functions.html#int)\n",
    "* [`list`](https://docs.python.org/3/library/functions.html#func-list)\n",
    "* [`reversed`](https://docs.python.org/3/library/functions.html#reversed)"
   ]
  },
  {
   "cell_type": "markdown",
   "metadata": {},
   "source": [
    "---\n",
    "\n",
    "### 1) Write a function that takes the length of a side of a square as an argument and returns the area of the square."
   ]
  },
  {
   "cell_type": "code",
   "execution_count": 1,
   "metadata": {
    "collapsed": true
   },
   "outputs": [],
   "source": [
    "def area_square(length):\n",
    "    \n",
    "    area = length ** 2\n",
    "    \n",
    "    return area"
   ]
  },
  {
   "cell_type": "markdown",
   "metadata": {},
   "source": [
    "Test it:"
   ]
  },
  {
   "cell_type": "code",
   "execution_count": 2,
   "metadata": {},
   "outputs": [
    {
     "data": {
      "text/plain": [
       "196"
      ]
     },
     "execution_count": 2,
     "metadata": {},
     "output_type": "execute_result"
    }
   ],
   "source": [
    "area_square(14)"
   ]
  },
  {
   "cell_type": "markdown",
   "metadata": {},
   "source": [
    "---\n",
    "\n",
    "### 2) Write a function that takes the height and width of a triangle and returns the area."
   ]
  },
  {
   "cell_type": "code",
   "execution_count": 3,
   "metadata": {
    "collapsed": true
   },
   "outputs": [],
   "source": [
    "def area_triangle(height, width):\n",
    "    \n",
    "    area = width * height * 0.5\n",
    "    \n",
    "    return area"
   ]
  },
  {
   "cell_type": "markdown",
   "metadata": {},
   "source": [
    "Test it:"
   ]
  },
  {
   "cell_type": "code",
   "execution_count": 4,
   "metadata": {},
   "outputs": [
    {
     "data": {
      "text/plain": [
       "14.0"
      ]
     },
     "execution_count": 4,
     "metadata": {},
     "output_type": "execute_result"
    }
   ],
   "source": [
    "area_triangle(4, 7)"
   ]
  },
  {
   "cell_type": "markdown",
   "metadata": {},
   "source": [
    "---\n",
    "\n",
    "### 3) Write a function that takes a string as an argument and returns a tuple consisting of two elements:\n",
    "- **A list of all of the characters in the string.** \n",
    "- **A count of the number of characters in the string.**"
   ]
  },
  {
   "cell_type": "code",
   "execution_count": 5,
   "metadata": {
    "collapsed": true
   },
   "outputs": [],
   "source": [
    "def string_list_fun(user_string):\n",
    "\n",
    "    string_list = list(user_string)\n",
    "    string_count = len(string_list)\n",
    "    \n",
    "    return (string_list,string_count)"
   ]
  },
  {
   "cell_type": "markdown",
   "metadata": {},
   "source": [
    "Test it. Item `[0]` in the tuple is the string broken into characters, and item `[1]` is the length"
   ]
  },
  {
   "cell_type": "code",
   "execution_count": 6,
   "metadata": {},
   "outputs": [
    {
     "name": "stdout",
     "output_type": "stream",
     "text": [
      "(['Y', 'o', 'u', ' ', 's', 'h', 'a', 'l', 'l', ' ', 'n', 'o', 't', ' ', 'p', 'a', 's', 's'], 18)\n"
     ]
    }
   ],
   "source": [
    "print(string_list_fun(\"You shall not pass\"))"
   ]
  },
  {
   "cell_type": "markdown",
   "metadata": {},
   "source": [
    "### 4) Write a function that takes two integers, <u>passed as strings</u>, and returns the sum, difference, and product as a tuple (with all values as integers)."
   ]
  },
  {
   "cell_type": "code",
   "execution_count": 7,
   "metadata": {
    "collapsed": true
   },
   "outputs": [],
   "source": [
    "def manipulate_numbers(number_1, number_2):\n",
    "    \n",
    "    int_1 = int(number_1)\n",
    "    int_2 = int(number_2)\n",
    "    \n",
    "    my_sum = int_1 + int_2\n",
    "    my_diff = int_1 - int_2\n",
    "    my_prod = int_1 * int_2\n",
    "    \n",
    "    return (my_sum, my_diff, my_prod)"
   ]
  },
  {
   "cell_type": "markdown",
   "metadata": {},
   "source": [
    "Test it:"
   ]
  },
  {
   "cell_type": "code",
   "execution_count": 8,
   "metadata": {},
   "outputs": [
    {
     "data": {
      "text/plain": [
       "(7, 21, -98)"
      ]
     },
     "execution_count": 8,
     "metadata": {},
     "output_type": "execute_result"
    }
   ],
   "source": [
    "manipulate_numbers('14', '-7')"
   ]
  },
  {
   "cell_type": "markdown",
   "metadata": {},
   "source": [
    "---\n",
    "\n",
    "### 5) Write a function that takes a list as the argument and returns a tuple consisting of two elements:\n",
    "- **A list with the items in reverse order.**  \n",
    "- **A list of the items in the original list that have an odd index.**"
   ]
  },
  {
   "cell_type": "code",
   "execution_count": 9,
   "metadata": {
    "collapsed": true
   },
   "outputs": [],
   "source": [
    "def list_manipulation(my_list):\n",
    "    # you can either use reversed() to reverse the list,\n",
    "    # but then you have to make it a list again explicitly,\n",
    "    # because reversed() returns something called an iterator\n",
    "    # (read the docs for more information)\n",
    "    reverse_list = list(reversed(my_list))\n",
    "    \n",
    "    # or -1 to reverse index the list:\n",
    "    # reverse_list = my_list[::-1]\n",
    "    \n",
    "    # Start from index 1 and grab every other index from there (1,3,5 etc.):\n",
    "    odd_list = my_list[1::2]\n",
    "    \n",
    "    return (reverse_list, odd_list)"
   ]
  },
  {
   "cell_type": "markdown",
   "metadata": {},
   "source": [
    "Try it:"
   ]
  },
  {
   "cell_type": "code",
   "execution_count": 10,
   "metadata": {},
   "outputs": [
    {
     "data": {
      "text/plain": [
       "([9, 7, 5, 3, 1], [3, 7])"
      ]
     },
     "execution_count": 10,
     "metadata": {},
     "output_type": "execute_result"
    }
   ],
   "source": [
    "list_manipulation([1, 3, 5, 7, 9])"
   ]
  },
  {
   "cell_type": "markdown",
   "metadata": {},
   "source": [
    "---\n",
    "\n",
    "### Challenge: Write a function that returns the score for a word. A word's score is the sum of the scores of its letters. Each letter's score is equal to its position in the alphabet.\n",
    "\n",
    "So, for example:\n",
    "\n",
    "* A = 1, B = 2, C = 3, D = 4, E = 5\n",
    "* abe = 8 = (1 + 2 + 5)\n",
    "\n",
    "\n",
    "***Hint 1:*** *The string library has a property, `ascii_lowercase`, that can save some typing here.*\n",
    "\n",
    "Nowadays, most of the `string` module's components are already built into Python. However, it still has several [constant values](https://docs.python.org/3/library/string.html#string-constants) that can be useful, including:\n",
    "```python\n",
    "string.ascii_uppercase\n",
    "```\n",
    "\n",
    "***Hint 2:*** *you may want to use a `list`'s [`index` method](https://www.tutorialspoint.com/python3/list_index.htm)*"
   ]
  },
  {
   "cell_type": "code",
   "execution_count": 11,
   "metadata": {},
   "outputs": [
    {
     "data": {
      "text/plain": [
       "'abcdefghijklmnopqrstuvwxyz'"
      ]
     },
     "execution_count": 11,
     "metadata": {},
     "output_type": "execute_result"
    }
   ],
   "source": [
    "import string\n",
    "\n",
    "string.ascii_lowercase"
   ]
  },
  {
   "cell_type": "code",
   "execution_count": 12,
   "metadata": {
    "collapsed": true
   },
   "outputs": [],
   "source": [
    "import string\n",
    "\n",
    "def score_word_1(word):\n",
    "    # lowercase it to avoid missing letters through capitalisation\n",
    "    lower_word = word.lower()\n",
    "    \n",
    "    # start with a 0 score\n",
    "    score = 0\n",
    "    \n",
    "    for letter in lower_word:\n",
    "        # get the score by getting the index in the ascii_lowercase string\n",
    "        # which, remember, is also basically a list of characters\n",
    "        # and add 1 because of zero-indexing\n",
    "        letter_score = string.ascii_lowercase.index(letter) + 1\n",
    "        score += letter_score\n",
    "    \n",
    "    return score"
   ]
  },
  {
   "cell_type": "markdown",
   "metadata": {},
   "source": [
    "Test it:"
   ]
  },
  {
   "cell_type": "code",
   "execution_count": 13,
   "metadata": {},
   "outputs": [
    {
     "data": {
      "text/plain": [
       "8"
      ]
     },
     "execution_count": 13,
     "metadata": {},
     "output_type": "execute_result"
    }
   ],
   "source": [
    "score_word_1(\"Abe\")"
   ]
  },
  {
   "cell_type": "markdown",
   "metadata": {},
   "source": [
    "Another way to solve it is to create a dictionary out of the alphabet, where keys are the letters and the values are the scores.\n",
    "\n",
    "This uses a [dictionary comprehension](https://www.datacamp.com/community/tutorials/python-dictionary-comprehension)."
   ]
  },
  {
   "cell_type": "code",
   "execution_count": 14,
   "metadata": {
    "collapsed": true
   },
   "outputs": [],
   "source": [
    "def score_word_2(word):\n",
    "    # Creates a dictionary of letters and associated scores:\n",
    "    letter_scores = { letter: counter+1 for counter, letter in enumerate(string.ascii_lowercase) }\n",
    "    # Added level to ensure letters used are uniform:\n",
    "    lower_word = word.lower()\n",
    "    \n",
    "    # start with a zero score\n",
    "    score = 0\n",
    "\n",
    "    for letter in lower_word:\n",
    "        # for each letter we can just look it up in the dictionary to get its score\n",
    "        score += letter_scores[letter]\n",
    "        \n",
    "    return score"
   ]
  },
  {
   "cell_type": "markdown",
   "metadata": {},
   "source": [
    "Test it:"
   ]
  },
  {
   "cell_type": "code",
   "execution_count": 15,
   "metadata": {},
   "outputs": [
    {
     "data": {
      "text/plain": [
       "8"
      ]
     },
     "execution_count": 15,
     "metadata": {},
     "output_type": "execute_result"
    }
   ],
   "source": [
    "score_word_2(\"Abe\")"
   ]
  }
 ],
 "metadata": {
  "anaconda-cloud": {},
  "kernelspec": {
   "display_name": "Python 3",
   "language": "python",
   "name": "python3"
  },
  "language_info": {
   "codemirror_mode": {
    "name": "ipython",
    "version": 3
   },
   "file_extension": ".py",
   "mimetype": "text/x-python",
   "name": "python",
   "nbconvert_exporter": "python",
   "pygments_lexer": "ipython3",
   "version": "3.6.2"
  }
 },
 "nbformat": 4,
 "nbformat_minor": 1
}
