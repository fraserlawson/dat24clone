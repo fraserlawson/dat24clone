{
 "cells": [
  {
   "cell_type": "markdown",
   "metadata": {},
   "source": [
    "<img src=\"http://imgur.com/1ZcRyrc.png\" style=\"float: left; margin: 20px; height: 55px\">\n",
    "\n",
    "## Python Review With Movie Data\n",
    "\n",
    "---\n",
    "\n",
    "In this lab, you'll be using the [IMDb](http://www.imdb.com/) `movies` list below as your data set. \n",
    "\n",
    "This lab is designed to help you practice iteration and functions in particular. The normal questions are more gentle, and the challenge questions are suitable for advanced/expert Python students or those with programming experience. \n",
    "\n",
    "All of the questions require writing functions and using iteration to solve. You should print out a test of each function you write.\n",
    "\n",
    "\n",
    "### 1) Load the provided list of `movies` dictionaries."
   ]
  },
  {
   "cell_type": "code",
   "execution_count": 1,
   "metadata": {
    "collapsed": true
   },
   "outputs": [],
   "source": [
    "# List of movies dictionaries:\n",
    "\n",
    "movies = [\n",
    "{\n",
    "\"name\": \"Usual Suspects\", \n",
    "\"imdb\": 7.0,\n",
    "\"category\": \"Thriller\"\n",
    "},\n",
    "{\n",
    "\"name\": \"Hitman\",\n",
    "\"imdb\": 6.3,\n",
    "\"category\": \"Action\"\n",
    "},\n",
    "{\n",
    "\"name\": \"Dark Knight\",\n",
    "\"imdb\": 9.0,\n",
    "\"category\": \"Adventure\"\n",
    "},\n",
    "{\n",
    "\"name\": \"The Help\",\n",
    "\"imdb\": 8.0,\n",
    "\"category\": \"Drama\"\n",
    "},\n",
    "{\n",
    "\"name\": \"The Choice\",\n",
    "\"imdb\": 6.2,\n",
    "\"category\": \"Romance\"\n",
    "},\n",
    "{\n",
    "\"name\": \"Colonia\",\n",
    "\"imdb\": 7.4,\n",
    "\"category\": \"Romance\"\n",
    "},\n",
    "{\n",
    "\"name\": \"Love\",\n",
    "\"imdb\": 6.0,\n",
    "\"category\": \"Romance\"\n",
    "},\n",
    "{\n",
    "\"name\": \"Bride Wars\",\n",
    "\"imdb\": 5.4,\n",
    "\"category\": \"Romance\"\n",
    "},\n",
    "{\n",
    "\"name\": \"AlphaJet\",\n",
    "\"imdb\": 3.2,\n",
    "\"category\": \"War\"\n",
    "},\n",
    "{\n",
    "\"name\": \"Ringing Crime\",\n",
    "\"imdb\": 4.0,\n",
    "\"category\": \"Crime\"\n",
    "},\n",
    "{\n",
    "\"name\": \"Joking muck\",\n",
    "\"imdb\": 7.2,\n",
    "\"category\": \"Comedy\"\n",
    "},\n",
    "{\n",
    "\"name\": \"What is the name\",\n",
    "\"imdb\": 9.2,\n",
    "\"category\": \"Suspense\"\n",
    "},\n",
    "{\n",
    "\"name\": \"Detective\",\n",
    "\"imdb\": 7.0,\n",
    "\"category\": \"Suspense\"\n",
    "},\n",
    "{\n",
    "\"name\": \"Exam\",\n",
    "\"imdb\": 4.2,\n",
    "\"category\": \"Thriller\"\n",
    "},\n",
    "{\n",
    "\"name\": \"We Two\",\n",
    "\"imdb\": 7.2,\n",
    "\"category\": \"Romance\"\n",
    "}\n",
    "]"
   ]
  },
  {
   "cell_type": "markdown",
   "metadata": {},
   "source": [
    "---\n",
    "\n",
    "### 2) Filtering data by IMDb score.\n",
    "\n",
    "#### 2.1)\n",
    "\n",
    "Write a function that:\n",
    "\n",
    "1) Accepts a single movie dictionary from the `movies` list as an argument.\n",
    "<br>2) Returns `True` if the IMDb score is greater than 5.5."
   ]
  },
  {
   "cell_type": "code",
   "execution_count": 2,
   "metadata": {},
   "outputs": [
    {
     "name": "stdout",
     "output_type": "stream",
     "text": [
      "{'name': 'Usual Suspects', 'imdb': 7.0, 'category': 'Thriller'}\n",
      "True\n"
     ]
    }
   ],
   "source": [
    "def imdb_score_over_bad(movie):\n",
    "    if movie['imdb'] > 5.5:\n",
    "        return True\n",
    "    else:\n",
    "        return False\n",
    "\n",
    "print(movies[0])\n",
    "print(imdb_score_over_bad(movies[0]))"
   ]
  },
  {
   "cell_type": "markdown",
   "metadata": {},
   "source": [
    "Note: if ever you are returning `True` and `False` as the result of an `if` statement, you should just return the statement for brevity. For example, the above example could be simply:\n",
    "\n",
    "```python\n",
    "def imdb_score_over_bad(movie):\n",
    "    return movie['imdb'] > 5.5\n",
    "```"
   ]
  },
  {
   "cell_type": "markdown",
   "metadata": {},
   "source": [
    "#### 2.2 Challenge)\n",
    "\n",
    "Write a function that:\n",
    "\n",
    "1) Accepts the `movies` list and a specified category.\n",
    "<br>2) Returns `True` if the average score of the category is higher than the average score of all movies."
   ]
  },
  {
   "cell_type": "code",
   "execution_count": 3,
   "metadata": {},
   "outputs": [
    {
     "name": "stdout",
     "output_type": "stream",
     "text": [
      "False\n",
      "True\n",
      "no movies in specified category:  Cartoon\n",
      "False\n"
     ]
    }
   ],
   "source": [
    "def movies_category_over_avg(movies, category):\n",
    "    overall_average = []\n",
    "    category_average = []\n",
    "    \n",
    "    # loop through the movies to keep track of the scores of all movies\n",
    "    # as well as movies of the specific category\n",
    "    for movie in movies:\n",
    "        # Creates a list of all IMDb scores:\n",
    "        overall_average.append(movie['imdb'])\n",
    "        \n",
    "        # Creates a list of all IMDb scores that match the category argument:\n",
    "        if movie['category'] == category:\n",
    "            category_average.append(movie['imdb'])\n",
    "            \n",
    "    # Uses IMDb scores list to manually calculate the dataset's mean:\n",
    "    overall_average = sum(overall_average)/len(overall_average)\n",
    "    \n",
    "    # Catch to identify and respond to invalid categories:\n",
    "    if len(category_average) == 0:\n",
    "        print('no movies in specified category: ', category)\n",
    "        return False\n",
    "    # Else valid category, calculate mean:\n",
    "    else:\n",
    "        category_average = sum(category_average)/len(category_average)\n",
    "        # Compare category and overall means:\n",
    "        if category_average > overall_average:\n",
    "            return True\n",
    "        else:\n",
    "            return False\n",
    "\n",
    "print(movies_category_over_avg(movies, 'Thriller'))\n",
    "print(movies_category_over_avg(movies, 'Suspense'))\n",
    "print(movies_category_over_avg(movies, 'Cartoon'))"
   ]
  },
  {
   "cell_type": "markdown",
   "metadata": {},
   "source": [
    "---\n",
    "\n",
    "### 3) Creating subsets by numeric condition.\n",
    "\n",
    "#### 3.1)\n",
    "\n",
    "Write a function that:\n",
    "\n",
    "1) Accepts the list of movies and a specified IMDb score.\n",
    "<br>2) Returns the sublist of movies that have scores greater than the one specified."
   ]
  },
  {
   "cell_type": "code",
   "execution_count": 4,
   "metadata": {},
   "outputs": [
    {
     "name": "stdout",
     "output_type": "stream",
     "text": [
      "[{'name': 'Dark Knight', 'imdb': 9.0, 'category': 'Adventure'}, {'name': 'What is the name', 'imdb': 9.2, 'category': 'Suspense'}]\n"
     ]
    }
   ],
   "source": [
    "def score_greater_subset(movies, score):\n",
    "    subset = []\n",
    "    for movie in movies:\n",
    "        if movie['imdb'] > score:\n",
    "            subset.append(movie)\n",
    "    return subset\n",
    "\n",
    "print(score_greater_subset(movies, 8.5))"
   ]
  },
  {
   "cell_type": "markdown",
   "metadata": {},
   "source": [
    "You can also use a list comprehension for brevity, and to be more \"Pythonic\":"
   ]
  },
  {
   "cell_type": "code",
   "execution_count": 5,
   "metadata": {},
   "outputs": [
    {
     "name": "stdout",
     "output_type": "stream",
     "text": [
      "[{'name': 'Dark Knight', 'imdb': 9.0, 'category': 'Adventure'}, {'name': 'What is the name', 'imdb': 9.2, 'category': 'Suspense'}]\n"
     ]
    }
   ],
   "source": [
    "def score_greater_subset(movies, score):\n",
    "    return [movie for movie in movies if movie['imdb'] > score]\n",
    "\n",
    "print(score_greater_subset(movies, 8.5))"
   ]
  },
  {
   "cell_type": "markdown",
   "metadata": {},
   "source": [
    "#### 3.2 Challenge)\n",
    "\n",
    "Write a function that:\n",
    "\n",
    "1) Accepts the `movies` list as an argument.\n",
    "<br>2) Returns the `movies` list sorted first by category and then by movie according to category average score and individual IMDb score, respectively."
   ]
  },
  {
   "cell_type": "code",
   "execution_count": 6,
   "metadata": {},
   "outputs": [
    {
     "data": {
      "text/plain": [
       "[{'category': 'Adventure', 'imdb': 9.0, 'name': 'Dark Knight'},\n",
       " {'category': 'Suspense', 'imdb': 9.2, 'name': 'What is the name'},\n",
       " {'category': 'Suspense', 'imdb': 7.0, 'name': 'Detective'},\n",
       " {'category': 'Drama', 'imdb': 8.0, 'name': 'The Help'},\n",
       " {'category': 'Comedy', 'imdb': 7.2, 'name': 'Joking muck'},\n",
       " {'category': 'Romance', 'imdb': 7.4, 'name': 'Colonia'},\n",
       " {'category': 'Romance', 'imdb': 7.2, 'name': 'We Two'},\n",
       " {'category': 'Romance', 'imdb': 6.2, 'name': 'The Choice'},\n",
       " {'category': 'Romance', 'imdb': 6.0, 'name': 'Love'},\n",
       " {'category': 'Romance', 'imdb': 5.4, 'name': 'Bride Wars'},\n",
       " {'category': 'Action', 'imdb': 6.3, 'name': 'Hitman'},\n",
       " {'category': 'Thriller', 'imdb': 7.0, 'name': 'Usual Suspects'},\n",
       " {'category': 'Thriller', 'imdb': 4.2, 'name': 'Exam'},\n",
       " {'category': 'Crime', 'imdb': 4.0, 'name': 'Ringing Crime'},\n",
       " {'category': 'War', 'imdb': 3.2, 'name': 'AlphaJet'}]"
      ]
     },
     "execution_count": 6,
     "metadata": {},
     "output_type": "execute_result"
    }
   ],
   "source": [
    "# See these Stack Overflow questions and answers for another example and explanation of the lambda search:\n",
    "# http://stackoverflow.com/questions/3766633/how-to-sort-with-lambda-in-python\n",
    "# http://stackoverflow.com/questions/14299448/sorting-by-multiple-conditions-in-python\n",
    "\n",
    "def category_score_sorted(movies):\n",
    "    category_scores = {}\n",
    "    for movie in movies:\n",
    "        # If the category key does not exist in the category_scores dictionary:\n",
    "        if not movie['category'] in category_scores:\n",
    "            # Add the category key with its first value being the IMDb score:\n",
    "            category_scores[movie['category']] = [movie['imdb']]\n",
    "        else:\n",
    "            # Otherwise, append the score to the existing category values list:\n",
    "            category_scores[movie['category']].append(movie['imdb'])\n",
    "    \n",
    "    # Uses the category key-and-values list to create a new dictionary in which the values are the means:\n",
    "    category_averages = {}\n",
    "    for cat, vals in list(category_scores.items()):\n",
    "        category_averages[cat] = sum(vals)/len(vals)\n",
    "    \n",
    "    \n",
    "    movies_sorted = sorted(movies, key=lambda x: (category_averages[x['category']],\n",
    "                                                  x['imdb']), reverse=True)\n",
    "        # \"key\" argument in the sorted function refers the desired means of sorting\n",
    "        # \"x\" is referring to each individual entry in the movies list\n",
    "        # Lambda functions are like single-use, one-line functions\n",
    "        # In this case, we are sorting by category_avg and then IMDb scores\n",
    "        # Reverse because we want high to low instead of low to high\n",
    "    \n",
    "    return movies_sorted\n",
    "\n",
    "category_score_sorted(movies)"
   ]
  },
  {
   "cell_type": "markdown",
   "metadata": {},
   "source": [
    "---\n",
    "\n",
    "### 4) Creating subsets by string condition.\n",
    "\n",
    "#### 4.1)\n",
    "\n",
    "Write a function that:\n",
    "\n",
    "1) Accepts the `movies` list and a category name.\n",
    "<br>2) Returns the movie names within that category (case-insensitive!).\n",
    "<br>3) If the category is not in the data, prints a message that says it does not exist and returns `None`.\n",
    "\n",
    "Recall that, to convert a string to lowercase, you can use:\n",
    "\n",
    "```python\n",
    "mystring = 'Dumb and Dumber'\n",
    "lowercase_mystring = mystring.lower()\n",
    "print(lowercase_mystring)\n",
    "'dumb and dumber'\n",
    "```"
   ]
  },
  {
   "cell_type": "code",
   "execution_count": 7,
   "metadata": {},
   "outputs": [
    {
     "name": "stdout",
     "output_type": "stream",
     "text": [
      "[{'name': 'What is the name', 'imdb': 9.2, 'category': 'Suspense'}, {'name': 'Detective', 'imdb': 7.0, 'category': 'Suspense'}]\n",
      "No movies in category: sci-fi\n",
      "None\n"
     ]
    }
   ],
   "source": [
    "def category_subset(movies, category):\n",
    "    category = category.lower()\n",
    "    movies_subset = []\n",
    "    \n",
    "    for movie in movies:\n",
    "        movie_category = movie['category'].lower()\n",
    "        if movie_category == category:\n",
    "            movies_subset.append(movie)\n",
    "            \n",
    "    if len(movies_subset) == 0:\n",
    "        print('No movies in category:', category)\n",
    "        return None\n",
    "    else:\n",
    "        return movies_subset\n",
    "    \n",
    "print(category_subset(movies, 'suspense'))\n",
    "print(category_subset(movies, 'sci-fi'))"
   ]
  },
  {
   "cell_type": "markdown",
   "metadata": {},
   "source": [
    "#### 4.2 Challenge)\n",
    "\n",
    "Write a function that:\n",
    "\n",
    "1) Accepts the `movies` list and a \"search string.\"\n",
    "<br>2) Returns a dictionary with the keys `'category'` and `'title'` whose values are lists of categories that contain the search string and titles that contain the search string, respectively (case-insensitive!)."
   ]
  },
  {
   "cell_type": "code",
   "execution_count": 8,
   "metadata": {},
   "outputs": [
    {
     "name": "stdout",
     "output_type": "stream",
     "text": [
      "{'category': ['suspense'], 'title': ['usual suspects']}\n",
      "{'category': ['war'], 'title': ['dark knight', 'bride wars']}\n"
     ]
    }
   ],
   "source": [
    "def category_title_search(movies, search_string):\n",
    "    search_string = search_string.lower()\n",
    "    \n",
    "    results = {'category':[], 'title':[]}\n",
    "    for movie in movies:\n",
    "        movie_category = movie['category'].lower()\n",
    "        movie_title = movie['name'].lower()\n",
    "        \n",
    "        if search_string in movie_category:\n",
    "            if not movie_category in results['category']:\n",
    "                results['category'].append(movie_category)\n",
    "            \n",
    "        if search_string in movie_title:\n",
    "            results['title'].append(movie_title)\n",
    "            \n",
    "    return results\n",
    "\n",
    "print(category_title_search(movies, 'SUS'))\n",
    "print(category_title_search(movies, 'ar'))"
   ]
  },
  {
   "cell_type": "markdown",
   "metadata": {},
   "source": [
    "---\n",
    "\n",
    "### 5) Multiple conditions.\n",
    "\n",
    "#### 5.1)\n",
    "\n",
    "Write a function that:\n",
    "\n",
    "1) Accepts the `movies` list and a \"search criteria\" variable.\n",
    "<br>2) If the criteria variable is numeric, return a list of movie titles with a score greater than or equal to the criteria.\n",
    "<br>3) If the criteria variable is a string, return a list of movie titles that match that category (case-insensitive!). If there is no match, return an empty list and print an informative message."
   ]
  },
  {
   "cell_type": "code",
   "execution_count": 9,
   "metadata": {},
   "outputs": [
    {
     "name": "stdout",
     "output_type": "stream",
     "text": [
      "['Usual Suspects', 'Dark Knight', 'The Help', 'Colonia', 'Joking muck', 'What is the name', 'Detective', 'We Two']\n",
      "['What is the name', 'Detective']\n",
      "no matches found\n",
      "[]\n",
      "criterion neither string nor numeric\n",
      "[]\n"
     ]
    }
   ],
   "source": [
    "def general_search(movies, criterion):\n",
    "    titles_matches = []\n",
    "    \n",
    "    # First, check the criterion type:\n",
    "    if type(criterion) in [int, float]:\n",
    "        search_for = 'score'\n",
    "    elif type(criterion) == str:\n",
    "        search_for = 'titles'\n",
    "        criterion = criterion.lower()\n",
    "    else:\n",
    "        print('criterion neither string nor numeric')\n",
    "        return titles_matches\n",
    "    \n",
    "    for movie in movies:\n",
    "        if search_for == 'score':\n",
    "            if movie['imdb'] > criterion:\n",
    "                titles_matches.append(movie['name'])\n",
    "                \n",
    "        else:\n",
    "            if movie['category'].lower() == criterion:\n",
    "                titles_matches.append(movie['name'])\n",
    "                \n",
    "    if len(titles_matches) == 0:\n",
    "        print('no matches found')\n",
    "    \n",
    "    return titles_matches\n",
    "\n",
    "print(general_search(movies, 6.9))\n",
    "print(general_search(movies, 'suspense'))\n",
    "print(general_search(movies, 'horror'))\n",
    "print(general_search(movies, {'name':'the godfather'}))"
   ]
  }
 ],
 "metadata": {
  "kernelspec": {
   "display_name": "Python 3",
   "language": "python",
   "name": "python3"
  },
  "language_info": {
   "codemirror_mode": {
    "name": "ipython",
    "version": 3
   },
   "file_extension": ".py",
   "mimetype": "text/x-python",
   "name": "python",
   "nbconvert_exporter": "python",
   "pygments_lexer": "ipython3",
   "version": "3.6.2"
  }
 },
 "nbformat": 4,
 "nbformat_minor": 1
}
