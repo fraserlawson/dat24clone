{
 "cells": [
  {
   "cell_type": "markdown",
   "metadata": {},
   "source": [
    "---\n",
    "<a id='coffee_preference'></a>\n",
    "\n",
    "# Practice Control Flow on the Coffee Preference Data Set\n",
    "\n",
    "### 1) Load Coffee Preference data from file and print.\n",
    "\n",
    "The code to load in the data is provided below. \n",
    "\n",
    "The `with open(..., 'r') as f:` opens up a file in \"read\" mode (rather than \"write\") and assigns this opened file to `f`. \n",
    "\n",
    "We can then use the built-in `.readlines()` function to split the CSV file on newlines and assign it to the variable `lines`."
   ]
  },
  {
   "cell_type": "code",
   "execution_count": 1,
   "metadata": {
    "collapsed": true
   },
   "outputs": [],
   "source": [
    "with open('../assets/datasets/coffee-preferences.csv','r') as f:\n",
    "    lines = f.readlines()"
   ]
  },
  {
   "cell_type": "markdown",
   "metadata": {},
   "source": [
    "#### Iterate through `lines` and print them out."
   ]
  },
  {
   "cell_type": "code",
   "execution_count": 2,
   "metadata": {
    "scrolled": true
   },
   "outputs": [
    {
     "name": "stdout",
     "output_type": "stream",
     "text": [
      "Timestamp,Name,Starbucks,PhilzCoffee,BlueBottleCoffee,PeetsTea,CaffeTrieste,GrandCoffee,RitualCoffee,FourBarrel,WorkshopCafe\n",
      "\n",
      "3/17/2015 18:37:58,Alison,3,5,4,3,,,5,5,\n",
      "\n",
      "3/17/2015 18:38:09,April,4,5,5,3,,,3,,5\n",
      "\n",
      "3/17/2015 18:38:25,Vijay,3,5,5,5,3,2,1,1,1\n",
      "\n",
      "3/17/2015 18:38:28,Vanessa,1,5,5,2,,,3,2,3\n",
      "\n",
      "3/17/2015 18:38:46,Isabel,1,4,4,2,4,,4,4,\n",
      "\n",
      "3/17/2015 18:39:01,India,5,3,3,3,3,1,,,3\n",
      "\n",
      "3/17/2015 18:39:01,Dave H,4,5,,5,,,,,\n",
      "\n",
      "3/17/2015 18:39:05,Deepthi,3,5,,2,,,,,2\n",
      "\n",
      "3/17/2015 18:39:14,Ramesh,3,4,,3,,,,,4\n",
      "\n",
      "3/17/2015 18:39:23,Hugh,1,5,5,4,5,2,5,4,1\n",
      "\n",
      "3/17/2015 18:39:23,Alex,4,5,,3,,,,,\n",
      "\n",
      "3/17/2015 18:39:30,Ajay Anand,3,4,4,3,5,,,,\n",
      "\n",
      "3/17/2015 18:39:35,David Feng,2,3,4,2,2,,5,4,3\n",
      "\n",
      "3/17/2015 18:39:42,Zach,3,4,4,3,,,,,5\n",
      "\n",
      "3/17/2015 18:40:44,Matt,3,5,4,3,2,2,4,3,2\n",
      "\n",
      "3/17/2015 18:40:49,Markus,3,5,,3,,,4,,\n",
      "\n",
      "3/17/2015 18:41:18,Otto,4,2,2,5,,,3,3,3\n",
      "\n",
      "3/17/2015 18:41:23,Alessandro,1,5,3,2,,,4,3,\n",
      "\n",
      "3/17/2015 18:41:35,Rocky,3,5,4,3,3,3,4,4,3\n",
      "\n",
      "3/17/2015 18:42:01,Cheong-tseng,3,1,,,,,4,,\n"
     ]
    }
   ],
   "source": [
    "for line in lines:\n",
    "    print(line)"
   ]
  },
  {
   "cell_type": "markdown",
   "metadata": {},
   "source": [
    "#### Print out just the `lines` object by typing \"lines\" in a cell and hitting `enter`."
   ]
  },
  {
   "cell_type": "code",
   "execution_count": 3,
   "metadata": {
    "scrolled": true
   },
   "outputs": [
    {
     "data": {
      "text/plain": [
       "['Timestamp,Name,Starbucks,PhilzCoffee,BlueBottleCoffee,PeetsTea,CaffeTrieste,GrandCoffee,RitualCoffee,FourBarrel,WorkshopCafe\\n',\n",
       " '3/17/2015 18:37:58,Alison,3,5,4,3,,,5,5,\\n',\n",
       " '3/17/2015 18:38:09,April,4,5,5,3,,,3,,5\\n',\n",
       " '3/17/2015 18:38:25,Vijay,3,5,5,5,3,2,1,1,1\\n',\n",
       " '3/17/2015 18:38:28,Vanessa,1,5,5,2,,,3,2,3\\n',\n",
       " '3/17/2015 18:38:46,Isabel,1,4,4,2,4,,4,4,\\n',\n",
       " '3/17/2015 18:39:01,India,5,3,3,3,3,1,,,3\\n',\n",
       " '3/17/2015 18:39:01,Dave H,4,5,,5,,,,,\\n',\n",
       " '3/17/2015 18:39:05,Deepthi,3,5,,2,,,,,2\\n',\n",
       " '3/17/2015 18:39:14,Ramesh,3,4,,3,,,,,4\\n',\n",
       " '3/17/2015 18:39:23,Hugh,1,5,5,4,5,2,5,4,1\\n',\n",
       " '3/17/2015 18:39:23,Alex,4,5,,3,,,,,\\n',\n",
       " '3/17/2015 18:39:30,Ajay Anand,3,4,4,3,5,,,,\\n',\n",
       " '3/17/2015 18:39:35,David Feng,2,3,4,2,2,,5,4,3\\n',\n",
       " '3/17/2015 18:39:42,Zach,3,4,4,3,,,,,5\\n',\n",
       " '3/17/2015 18:40:44,Matt,3,5,4,3,2,2,4,3,2\\n',\n",
       " '3/17/2015 18:40:49,Markus,3,5,,3,,,4,,\\n',\n",
       " '3/17/2015 18:41:18,Otto,4,2,2,5,,,3,3,3\\n',\n",
       " '3/17/2015 18:41:23,Alessandro,1,5,3,2,,,4,3,\\n',\n",
       " '3/17/2015 18:41:35,Rocky,3,5,4,3,3,3,4,4,3\\n',\n",
       " '3/17/2015 18:42:01,Cheong-tseng,3,1,,,,,4,,']"
      ]
     },
     "execution_count": 3,
     "metadata": {},
     "output_type": "execute_result"
    }
   ],
   "source": [
    "lines"
   ]
  },
  {
   "cell_type": "markdown",
   "metadata": {},
   "source": [
    "---\n",
    "\n",
    "### 2) Remove the remaining newline `'\\n'` characters with a `for` loop.\n",
    "\n",
    "Iterate through the lines of the data and remove the unwanted newline characters.\n",
    "\n",
    "**.replace('\\n', '')** is a built-in string function that will take the substring you want to replace as its first argument and the string you want to replace it with as its second."
   ]
  },
  {
   "cell_type": "code",
   "execution_count": 4,
   "metadata": {
    "collapsed": true
   },
   "outputs": [],
   "source": [
    "for i, line in enumerate(lines):\n",
    "    lines[i] = lines[i].replace('\\n', '')"
   ]
  },
  {
   "cell_type": "markdown",
   "metadata": {},
   "source": [
    "---\n",
    "\n",
    "### 3) Split the lines into \"header\" and \"data\" variables.\n",
    "\n",
    "The header is the first string in the list of strings. It contains our data's column names."
   ]
  },
  {
   "cell_type": "code",
   "execution_count": 5,
   "metadata": {
    "collapsed": true
   },
   "outputs": [],
   "source": [
    "header = lines[0]\n",
    "data = lines[1:]"
   ]
  },
  {
   "cell_type": "markdown",
   "metadata": {},
   "source": [
    "---\n",
    "\n",
    "### 4) Split the header and data strings on commas.\n",
    "\n",
    "To split a string on the comma character, use the built-in **`.split(',')`** function. \n",
    "\n",
    "Split the header on commas, then print it. You can see that the original string is now a list containing items that were originally separated by commas.\n",
    "\n",
    "Replace both `header` and `data` with the list versions (they should now be lists, not strings):"
   ]
  },
  {
   "cell_type": "code",
   "execution_count": 6,
   "metadata": {},
   "outputs": [
    {
     "name": "stdout",
     "output_type": "stream",
     "text": [
      "['Timestamp', 'Name', 'Starbucks', 'PhilzCoffee', 'BlueBottleCoffee', 'PeetsTea', 'CaffeTrieste', 'GrandCoffee', 'RitualCoffee', 'FourBarrel', 'WorkshopCafe']\n"
     ]
    }
   ],
   "source": [
    "print(header.split(','))\n",
    "header = header.split(',')\n",
    "\n",
    "for index, row in enumerate(data):\n",
    "    data[index] = row.split(',')"
   ]
  },
  {
   "cell_type": "markdown",
   "metadata": {},
   "source": [
    "---\n",
    "\n",
    "### 5) Remove the \"Timestamp\" column.\n",
    "\n",
    "We aren't interested in the \"Timestamp\" column in our data, so remove it from the header and data list.\n",
    "\n",
    "Removing \"Timestamp\" from the header can be done with list functions or with slicing. To remove the header column from the data, use a `for` loop.\n",
    "\n",
    "Print out the new data object with the timestamps removed."
   ]
  },
  {
   "cell_type": "code",
   "execution_count": 7,
   "metadata": {},
   "outputs": [
    {
     "name": "stdout",
     "output_type": "stream",
     "text": [
      "['Name', 'Starbucks', 'PhilzCoffee', 'BlueBottleCoffee', 'PeetsTea', 'CaffeTrieste', 'GrandCoffee', 'RitualCoffee', 'FourBarrel', 'WorkshopCafe']\n",
      "[['Alison', '3', '5', '4', '3', '', '', '5', '5', ''], ['April', '4', '5', '5', '3', '', '', '3', '', '5'], ['Vijay', '3', '5', '5', '5', '3', '2', '1', '1', '1'], ['Vanessa', '1', '5', '5', '2', '', '', '3', '2', '3'], ['Isabel', '1', '4', '4', '2', '4', '', '4', '4', ''], ['India', '5', '3', '3', '3', '3', '1', '', '', '3'], ['Dave H', '4', '5', '', '5', '', '', '', '', ''], ['Deepthi', '3', '5', '', '2', '', '', '', '', '2'], ['Ramesh', '3', '4', '', '3', '', '', '', '', '4'], ['Hugh', '1', '5', '5', '4', '5', '2', '5', '4', '1'], ['Alex', '4', '5', '', '3', '', '', '', '', ''], ['Ajay Anand', '3', '4', '4', '3', '5', '', '', '', ''], ['David Feng', '2', '3', '4', '2', '2', '', '5', '4', '3'], ['Zach', '3', '4', '4', '3', '', '', '', '', '5'], ['Matt', '3', '5', '4', '3', '2', '2', '4', '3', '2'], ['Markus', '3', '5', '', '3', '', '', '4', '', ''], ['Otto', '4', '2', '2', '5', '', '', '3', '3', '3'], ['Alessandro', '1', '5', '3', '2', '', '', '4', '3', ''], ['Rocky', '3', '5', '4', '3', '3', '3', '4', '4', '3'], ['Cheong-tseng', '3', '1', '', '', '', '', '4', '', '']]\n"
     ]
    }
   ],
   "source": [
    "del header[0]\n",
    "# you could also use slicing:\n",
    "# header = header[1:]\n",
    "\n",
    "for index, row in enumerate(data):\n",
    "    data[index] = row[1:]\n",
    "\n",
    "print(header)\n",
    "print(data)"
   ]
  },
  {
   "cell_type": "markdown",
   "metadata": {},
   "source": [
    "---\n",
    "\n",
    "### 6) Convert numeric columns to floats and empty fields to `None`.\n",
    "\n",
    "Iterate through the data and construct a new data list of lists that contains the numeric ratings converted from strings to floats and the empty fields (which are empty strings, '') replaced with the `None` object.\n",
    "\n",
    "Use a nested `for` loop (a `for` loop within another `for` loop) to get the job done. You will likely need to use `if… else` conditional statements as well.\n",
    "\n",
    "Print out the new data object to make sure you've succeeded."
   ]
  },
  {
   "cell_type": "code",
   "execution_count": 8,
   "metadata": {},
   "outputs": [
    {
     "name": "stdout",
     "output_type": "stream",
     "text": [
      "[['Alison', 3.0, 5.0, 4.0, 3.0, None, None, 5.0, 5.0, None], ['April', 4.0, 5.0, 5.0, 3.0, None, None, 3.0, None, 5.0], ['Vijay', 3.0, 5.0, 5.0, 5.0, 3.0, 2.0, 1.0, 1.0, 1.0], ['Vanessa', 1.0, 5.0, 5.0, 2.0, None, None, 3.0, 2.0, 3.0], ['Isabel', 1.0, 4.0, 4.0, 2.0, 4.0, None, 4.0, 4.0, None], ['India', 5.0, 3.0, 3.0, 3.0, 3.0, 1.0, None, None, 3.0], ['Dave H', 4.0, 5.0, None, 5.0, None, None, None, None, None], ['Deepthi', 3.0, 5.0, None, 2.0, None, None, None, None, 2.0], ['Ramesh', 3.0, 4.0, None, 3.0, None, None, None, None, 4.0], ['Hugh', 1.0, 5.0, 5.0, 4.0, 5.0, 2.0, 5.0, 4.0, 1.0], ['Alex', 4.0, 5.0, None, 3.0, None, None, None, None, None], ['Ajay Anand', 3.0, 4.0, 4.0, 3.0, 5.0, None, None, None, None], ['David Feng', 2.0, 3.0, 4.0, 2.0, 2.0, None, 5.0, 4.0, 3.0], ['Zach', 3.0, 4.0, 4.0, 3.0, None, None, None, None, 5.0], ['Matt', 3.0, 5.0, 4.0, 3.0, 2.0, 2.0, 4.0, 3.0, 2.0], ['Markus', 3.0, 5.0, None, 3.0, None, None, 4.0, None, None], ['Otto', 4.0, 2.0, 2.0, 5.0, None, None, 3.0, 3.0, 3.0], ['Alessandro', 1.0, 5.0, 3.0, 2.0, None, None, 4.0, 3.0, None], ['Rocky', 3.0, 5.0, 4.0, 3.0, 3.0, 3.0, 4.0, 4.0, 3.0], ['Cheong-tseng', 3.0, 1.0, None, None, None, None, 4.0, None, None]]\n"
     ]
    }
   ],
   "source": [
    "# for each row (which is a list):\n",
    "for index, row in enumerate(data):\n",
    "    # look at all the items in the row\n",
    "    for item_index, item in enumerate(row):\n",
    "        # but ignore the first one (that's the name)\n",
    "        if item_index > 0:\n",
    "            # replace with None if it's an empty string\n",
    "            if item == '':\n",
    "                row[item_index] = None\n",
    "            # or a float if it's a number\n",
    "            else:\n",
    "                row[item_index] = float(item)\n",
    "    data[index] = row\n",
    "\n",
    "print(data)"
   ]
  },
  {
   "cell_type": "markdown",
   "metadata": {},
   "source": [
    "---\n",
    "\n",
    "### 7) Count the `None` values per person and put the counts in a dictionary.\n",
    "\n",
    "Use a `for` loop to count the number of `None` values per person. Create a dictionary with the names of the people as keys and the counts of `None` as values.\n",
    "\n",
    "Who rated the most coffee brands? Who rated the least?"
   ]
  },
  {
   "cell_type": "code",
   "execution_count": 9,
   "metadata": {},
   "outputs": [
    {
     "name": "stdout",
     "output_type": "stream",
     "text": [
      "{'Alison': 3, 'April': 3, 'Vijay': 0, 'Vanessa': 2, 'Isabel': 2, 'India': 2, 'Dave H': 6, 'Deepthi': 5, 'Ramesh': 5, 'Hugh': 0, 'Alex': 6, 'Ajay Anand': 4, 'David Feng': 1, 'Zach': 4, 'Matt': 0, 'Markus': 5, 'Otto': 2, 'Alessandro': 3, 'Rocky': 0, 'Cheong-tseng': 6}\n"
     ]
    }
   ],
   "source": [
    "none_counts = {}\n",
    "\n",
    "for row in data:\n",
    "    name = row[0]\n",
    "    ratings = row[1:]\n",
    "    none_counts[name] = ratings.count(None)\n",
    "\n",
    "print(none_counts)"
   ]
  },
  {
   "cell_type": "markdown",
   "metadata": {},
   "source": [
    "You can use `sorted` to sort the dictionary by its items.\n",
    "\n",
    "The `lambda x: x[1]` is a way to specify a custom sort.\n",
    "\n",
    "`x` represents an item in the dictionary as a (key, value) tuple, meaning `x[0]` is the key and `x[1]` is the value."
   ]
  },
  {
   "cell_type": "code",
   "execution_count": 10,
   "metadata": {},
   "outputs": [
    {
     "data": {
      "text/plain": [
       "[('Dave H', 6),\n",
       " ('Alex', 6),\n",
       " ('Cheong-tseng', 6),\n",
       " ('Deepthi', 5),\n",
       " ('Ramesh', 5),\n",
       " ('Markus', 5),\n",
       " ('Ajay Anand', 4),\n",
       " ('Zach', 4),\n",
       " ('Alison', 3),\n",
       " ('April', 3),\n",
       " ('Alessandro', 3),\n",
       " ('Vanessa', 2),\n",
       " ('Isabel', 2),\n",
       " ('India', 2),\n",
       " ('Otto', 2),\n",
       " ('David Feng', 1),\n",
       " ('Vijay', 0),\n",
       " ('Hugh', 0),\n",
       " ('Matt', 0),\n",
       " ('Rocky', 0)]"
      ]
     },
     "execution_count": 10,
     "metadata": {},
     "output_type": "execute_result"
    }
   ],
   "source": [
    "sorted(none_counts.items(), key=lambda x: x[1], reverse=True)"
   ]
  },
  {
   "cell_type": "markdown",
   "metadata": {},
   "source": [
    "---\n",
    "\n",
    "### 8) Calculate average rating per coffee brand.\n",
    "\n",
    "**Excluding `None` values**, calculate the average rating per brand of coffee.\n",
    "\n",
    "The final output should be a dictionary with the coffee brand names as keys and their average rating as the values.\n",
    "\n",
    "Remember that the average can be calculated as the sum of the ratings over the number of ratings:\n",
    "\n",
    "```python\n",
    "average_rating = float(sum(ratings_list))/len(ratings_list)\n",
    "```\n",
    "\n",
    "Print your dictionary to see the average brand ratings."
   ]
  },
  {
   "cell_type": "code",
   "execution_count": 11,
   "metadata": {},
   "outputs": [
    {
     "name": "stdout",
     "output_type": "stream",
     "text": [
      "{'Starbucks': 2.85, 'PhilzCoffee': 4.25, 'BlueBottleCoffee': 4.0, 'PeetsTea': 3.11, 'CaffeTrieste': 3.38, 'GrandCoffee': 2.0, 'RitualCoffee': 3.77, 'FourBarrel': 3.3, 'WorkshopCafe': 2.92}\n"
     ]
    }
   ],
   "source": [
    "# extract the brands\n",
    "brands = header[1:]\n",
    "\n",
    "ratings_dict = {}\n",
    "\n",
    "# loop through each brand, where i is the index of the brand list, and i+1 is the index of the rating\n",
    "# because the 0-th index of each row is the person's name\n",
    "for index, brand in enumerate(brands):\n",
    "    # keep track of ratings per brand\n",
    "    ratings_list = []\n",
    "    for row in data:\n",
    "        if row[index+1]: # this is a short way of writing \"if row[i+1] is not None\"\n",
    "            ratings_list.append(row[index+1])\n",
    "    \n",
    "    # now average the ratings and add to the dictionary\n",
    "    # we'll also round it to two decimal places with the round function\n",
    "    average_rating = round(float(sum(ratings_list))/len(ratings_list), 2)\n",
    "    ratings_dict[brand] = average_rating\n",
    "\n",
    "print(ratings_dict)"
   ]
  },
  {
   "cell_type": "markdown",
   "metadata": {},
   "source": [
    "---\n",
    "\n",
    "### 9) Create a list containing only the people's names."
   ]
  },
  {
   "cell_type": "code",
   "execution_count": 12,
   "metadata": {},
   "outputs": [
    {
     "name": "stdout",
     "output_type": "stream",
     "text": [
      "['Alison', 'April', 'Vijay', 'Vanessa', 'Isabel', 'India', 'Dave H', 'Deepthi', 'Ramesh', 'Hugh', 'Alex', 'Ajay Anand', 'David Feng', 'Zach', 'Matt', 'Markus', 'Otto', 'Alessandro', 'Rocky', 'Cheong-tseng']\n"
     ]
    }
   ],
   "source": [
    "people = []\n",
    "for row in data:\n",
    "    people.append(row[0])\n",
    "\n",
    "print(people)"
   ]
  },
  {
   "cell_type": "markdown",
   "metadata": {},
   "source": [
    "---\n",
    "\n",
    "### 11) Picking a name at random. What are the odds of choosing the same name three times in a row?\n",
    "\n",
    "Now, we'll use a `while` loop to \"brute force\" the odds of choosing the same name three times in a row randomly from the list of names.\n",
    "\n",
    "\"Brute force\" is a term used quite frequently in programming to refer to a computationally inefficient way of solving a problem. It's brute force in this situation because we can use statistics to solve this much more efficiently than if we actually played out an entire scenario.\n",
    "\n",
    "Below, we've imported the **`random`** package, which has the essential function for this code: **`random.choice()`**.\n",
    "The function takes a list as an argument and returns one of the elements of that list at random."
   ]
  },
  {
   "cell_type": "code",
   "execution_count": 13,
   "metadata": {},
   "outputs": [
    {
     "data": {
      "text/plain": [
       "'Alessandro'"
      ]
     },
     "execution_count": 13,
     "metadata": {},
     "output_type": "execute_result"
    }
   ],
   "source": [
    "import random\n",
    "# Choose a random person from the list of people:\n",
    "random.choice(people)"
   ]
  },
  {
   "cell_type": "markdown",
   "metadata": {},
   "source": [
    "Write a function to choose a person from the list randomly three times and check if they are all the same.\n",
    "\n",
    "Define a function that has the following properties:\n",
    "\n",
    "1) Takes a list (your list of names) as an argument.\n",
    "2) Selects a name using `random.choice(people)` three separate times.\n",
    "3) Returns `True` if the name was the same all three times; otherwise returns `False`."
   ]
  },
  {
   "cell_type": "code",
   "execution_count": 14,
   "metadata": {},
   "outputs": [
    {
     "name": "stdout",
     "output_type": "stream",
     "text": [
      "The same name was drawn after 143 occurrences\n"
     ]
    }
   ],
   "source": [
    "def random_draw(people):\n",
    "\n",
    "    num_occurrences = 0\n",
    "    same_name_three_times = False\n",
    "\n",
    "    while same_name_three_times == False:\n",
    "        # increase the number of occurrences\n",
    "        num_occurrences += 1\n",
    "\n",
    "        # draw three names\n",
    "        name_1 = random.choice(people)\n",
    "        name_2 = random.choice(people)\n",
    "        name_3 = random.choice(people)\n",
    "\n",
    "        # test for equivalene\n",
    "        if name_1 == name_2 == name_3:\n",
    "            # found, so stop looping\n",
    "            same_name_three_times = True\n",
    "    \n",
    "    print(f\"The same name was drawn after {num_occurrences} occurrences\")\n",
    "    \n",
    "# call the function!\n",
    "random_draw(people)"
   ]
  }
 ],
 "metadata": {
  "kernelspec": {
   "display_name": "Python 3",
   "language": "python",
   "name": "python3"
  },
  "language_info": {
   "codemirror_mode": {
    "name": "ipython",
    "version": 3
   },
   "file_extension": ".py",
   "mimetype": "text/x-python",
   "name": "python",
   "nbconvert_exporter": "python",
   "pygments_lexer": "ipython3",
   "version": "3.6.2"
  }
 },
 "nbformat": 4,
 "nbformat_minor": 2
}
