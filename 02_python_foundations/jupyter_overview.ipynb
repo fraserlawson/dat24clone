{
 "cells": [
  {
   "cell_type": "markdown",
   "metadata": {},
   "source": [
    "# Introduction to Jupyter\n",
    "\n",
    "Jupyter notebooks allow you to mix code (in many languages) and markdown.\n",
    "\n",
    "## The Two Modes\n",
    "\n",
    "There are 2 \"modes\" to Jupyter: command mode and edit mode.\n",
    "\n",
    "### Command Mode\n",
    "\n",
    "Command Mode lets you do things at the notebook level, such as:\n",
    "- navigate between cells\n",
    "- move a cell up/down\n",
    "- delete one or more cells\n",
    "- change the type of cell (Markdown or code)\n",
    "\n",
    "To enter command mode, press **`Esc`**. You'll know you're in Command Mode because the cell highlight is <span style=\"color:#42A5F5;\"><strong>blue</strong></span>.\n",
    "\n",
    "You can get a list of all keyboard shortcuts by pressing `H` while in Command Mode, but here are the most useful ones for Command Mode:\n",
    "- **`A`** to create a cell above the current one\n",
    "- **`B`** to create a cell above the current one\n",
    "- **`D` + `D`** to delete the current cell(s) - you can highlight multiple cells with Shift\n",
    "- **`Shift` + `M`** to merge highlighted cells together\n",
    "- **`M`** to change the cell to Markdown\n",
    "- **`Y`** to change the cell to code\n",
    "\n",
    "### Edit Mode\n",
    "\n",
    "You're in edit mode when you're typing in a cell.\n",
    "\n",
    "To enter command mode, press `Enter` while selecting a cell in Command Mode. You'll know you're in edit mode because the cell highlight is <span style=\"color:#66BB6A;\"><strong>green</strong></span>.\n",
    "\n",
    "Some useful keyboard shortcuts in Edit Mode:\n",
    "- **`Ctrl` + `Enter`** to \"run\" a cell (or commit the Markdown)\n",
    "- **`Shift` + `Enter`** to \"run\" a cell (or commit the Markdown) and also create a new cell below the active one\n",
    "- **`Ctrl` + `Shift` + `-`** to split the cell in two (at the point where your cursor is)\n",
    "- **`Tab`** to trigger autocomplete as you're typing\n",
    "- **`Shift` + `Tab`** to trigger the autocomplete \"popover\"\n",
    "\n",
    "## The Kernel\n",
    "\n",
    "It's good practice to restart your kernel every now and again. If you've changed some code and played around with variable names you often want to make sure the notebook still runs end-to-end (which you should always aim for).\n",
    "\n",
    "To restart the kernel, you can use the shortcut **`0` + `0`** when in Command Mode, or go to `Kernel -> Restart`, or `Kernel -> Restart & Run All` if you want to immediately test your code end-to-end."
   ]
  }
 ],
 "metadata": {
  "kernelspec": {
   "display_name": "Python 3",
   "language": "python",
   "name": "python3"
  },
  "language_info": {
   "codemirror_mode": {
    "name": "ipython",
    "version": 3
   },
   "file_extension": ".py",
   "mimetype": "text/x-python",
   "name": "python",
   "nbconvert_exporter": "python",
   "pygments_lexer": "ipython3",
   "version": "3.6.2"
  }
 },
 "nbformat": 4,
 "nbformat_minor": 2
}
