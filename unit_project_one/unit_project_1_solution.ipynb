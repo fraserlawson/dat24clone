{
 "cells": [
  {
   "cell_type": "markdown",
   "metadata": {},
   "source": [
    "<img src=\"http://imgur.com/1ZcRyrc.png\" style=\"float: left; margin: 20px; height: 55px\">\n",
    "\n",
    "# Unit Project 1: Python Coding Exercise Solutions\n",
    "\n",
    "---"
   ]
  },
  {
   "cell_type": "markdown",
   "metadata": {
    "collapsed": true
   },
   "source": [
    "The following code challenges are drawn from common exercises used in technical interviews.\n",
    "\n",
    "Note that there may be several ways to approach each challenge! We've provided a few example solutions here."
   ]
  },
  {
   "cell_type": "markdown",
   "metadata": {},
   "source": [
    "### Challenge 1: Largest Palindrome\n",
    "A palindromic number reads the same both ways. For example, 1234321 is a palindrome. The largest palindrome made from the product of two two-digit numbers is 9009 = 91 × 99. Find the largest palindrome made from the product of two three-digit numbers."
   ]
  },
  {
   "cell_type": "code",
   "execution_count": 1,
   "metadata": {},
   "outputs": [
    {
     "name": "stdout",
     "output_type": "stream",
     "text": [
      "906609\n"
     ]
    }
   ],
   "source": [
    "# Option 1\n",
    "\n",
    "result = 0\n",
    "\n",
    "# Iterate through first set of numbers\n",
    "for i in range(100, 1000):\n",
    "    \n",
    "    # Iterate through second set of numbers\n",
    "    for n in range(100, 1000):\n",
    "        \n",
    "        # Multiply\n",
    "        num = i * n\n",
    "        # Check forward string\n",
    "        str_num = str(num)\n",
    "        # Check backward string\n",
    "        rev_str = str_num[::-1]\n",
    "        # Store biggest\n",
    "        if str_num == rev_str:\n",
    "            if num > result:\n",
    "                result = num\n",
    "\n",
    "print(result)"
   ]
  },
  {
   "cell_type": "code",
   "execution_count": 2,
   "metadata": {},
   "outputs": [
    {
     "data": {
      "text/plain": [
       "906609"
      ]
     },
     "execution_count": 2,
     "metadata": {},
     "output_type": "execute_result"
    }
   ],
   "source": [
    "# Option 2\n",
    "\n",
    "pals = []    # List to append palindromes\n",
    "\n",
    "for i in range(999,99,-1):    # 999 to 100 decreasing\n",
    "    for j in range(999,99,-1):    # 999 to 100 decreasing\n",
    "        if str(i*j)== str(i*j)[::-1]:    # If product is a palindrome,\n",
    "            pals.append(i*j)    # append the result\n",
    "\n",
    "sorted(pals, reverse=True)[0]     # Sort the final list and return the largest value        "
   ]
  },
  {
   "cell_type": "markdown",
   "metadata": {},
   "source": [
    "\n",
    "### Challenge 2: Summation of Primes\n",
    "The sum of the primes below 10 is 2 + 3 + 5 + 7 = 17. Find the sum of all the primes below 2,000."
   ]
  },
  {
   "cell_type": "code",
   "execution_count": 3,
   "metadata": {},
   "outputs": [
    {
     "data": {
      "text/plain": [
       "277050"
      ]
     },
     "execution_count": 3,
     "metadata": {},
     "output_type": "execute_result"
    }
   ],
   "source": [
    "# Answer\n",
    "primes = [] # Set a list to catch prime values\n",
    "\n",
    "for i in range(2, 2000): \n",
    "    # All statement evaluates to true if all of the iterables satisfy the criteria\n",
    "    # If i divided by the existing primes(x) never has a remainder of 0\n",
    "    if all(i % x != 0 for x in primes):\n",
    "        # Append this number to the primes list\n",
    "        primes.append(i)\n",
    "\n",
    "sum(primes)"
   ]
  },
  {
   "cell_type": "markdown",
   "metadata": {},
   "source": [
    "### Challenge 3: Multiples of 3 and 5\n",
    "If we list all of the natural numbers below 10 that are multiples of 3 or 5, we get 3, 5, 6, and 9. The sum of these multiples is 23. Find the sum of all the multiples of 3 and 5 below 1,000."
   ]
  },
  {
   "cell_type": "code",
   "execution_count": 4,
   "metadata": {},
   "outputs": [
    {
     "data": {
      "text/plain": [
       "233168"
      ]
     },
     "execution_count": 4,
     "metadata": {},
     "output_type": "execute_result"
    }
   ],
   "source": [
    "# Option 1\n",
    "\n",
    "# Empty list initialized\n",
    "multiples = []\n",
    "\n",
    "# Iterate through desired range\n",
    "for i in range(3,1000):\n",
    "    \n",
    "    # check if divisible by 3 or 5\n",
    "    if i % 3 == 0 or i % 5 == 0:\n",
    "        # Add to list\n",
    "        multiples.append(i)\n",
    "        \n",
    "# Sum list\n",
    "sum(multiples)"
   ]
  },
  {
   "cell_type": "code",
   "execution_count": 10,
   "metadata": {},
   "outputs": [
    {
     "data": {
      "text/plain": [
       "233168"
      ]
     },
     "execution_count": 10,
     "metadata": {},
     "output_type": "execute_result"
    }
   ],
   "source": [
    "# Option 2\n",
    "\n",
    "# Using the range function we can create ranges of allowed multples of 5 as well as 3.\n",
    "# The union of the ranges is every element in either range\n",
    "# Once they are concatenated together, we set them to remove all duplicates.\n",
    "# Sum the set range.\n",
    "\n",
    "all_multiples = set(range(0,1000,5)).union(set(range(0,1000,3)))\n",
    "\n",
    "sum(all_multiples)"
   ]
  },
  {
   "cell_type": "code",
   "execution_count": null,
   "metadata": {
    "collapsed": true
   },
   "outputs": [],
   "source": []
  },
  {
   "cell_type": "markdown",
   "metadata": {},
   "source": [
    "### Challenge 4: String Compressor\n",
    "Implement a method to perform basic string compression using the counts of repeated characters. (This is called run-length encoding.) For example, the string \"aabcccccaaa\" would become a2b1c5a3. If the “compressed” string would not become smaller than the original string, your method should return the original string. You can assume the string has only uppercase and lowercase letters (a–z). Specify whether your solution is case sensitive or case insensitive and what you would need to change to make it the other."
   ]
  },
  {
   "cell_type": "code",
   "execution_count": 13,
   "metadata": {},
   "outputs": [
    {
     "name": "stdout",
     "output_type": "stream",
     "text": [
      "a2b1c6a3\n",
      "cat\n"
     ]
    }
   ],
   "source": [
    "# Option 1: Case Sensitive\n",
    "\n",
    "# Create function\n",
    "def string_compressor(word):\n",
    "    # initalize empty items\n",
    "    compressed_word = \"\"\n",
    "    count_letter = \"\"\n",
    "    count = 0\n",
    "    \n",
    "    # Check if each letter matches current count_letter — the one we're checking\n",
    "    for letter in word:\n",
    "        if letter == count_letter:\n",
    "            count += 1\n",
    "        else:\n",
    "            # Count redundancies of a single letters\n",
    "            if count > 0:\n",
    "                compressed_word += count_letter + str(count)\n",
    "            count_letter = letter\n",
    "            count = 1\n",
    "    compressed_word += count_letter + str(count)\n",
    "    \n",
    "    # Return the shorter option — either original word or compressed string\n",
    "    if len(compressed_word) < len(word):\n",
    "        return compressed_word\n",
    "    else:\n",
    "        return word\n",
    "\n",
    "print(string_compressor('aabccccccaaa'))\n",
    "\n",
    "print(string_compressor('cat'))"
   ]
  },
  {
   "cell_type": "code",
   "execution_count": 14,
   "metadata": {},
   "outputs": [
    {
     "data": {
      "text/plain": [
       "'a2d1s1n1c2t1e2i1'"
      ]
     },
     "execution_count": 14,
     "metadata": {},
     "output_type": "execute_result"
    }
   ],
   "source": [
    "# Option 2: Case Sensitive: Output Order Disrupted\n",
    "\n",
    "# Define function\n",
    "def compressed_string(string):\n",
    "    # Initialize empty string\n",
    "    compressed = ''\n",
    "    \n",
    "    # If string length is not all unique letters (the set of letters), otherwise return original string\n",
    "    if len(string) != len(set(string)):\n",
    "        \n",
    "        # Loop through each; first set count to zero\n",
    "        for i in set(string):\n",
    "            count = 0\n",
    "            # Look for if each letter matches another letter in the string; increment count by one\n",
    "            for j in list(string):\n",
    "                if i == j:\n",
    "                    count += 1\n",
    "            # Put together the letter and count for that letter's occurrences\n",
    "            compressed += i+str(count)\n",
    "        return compressed\n",
    "    else:\n",
    "        return string\n",
    "\n",
    "compressed_string('datascience')"
   ]
  },
  {
   "cell_type": "code",
   "execution_count": 16,
   "metadata": {},
   "outputs": [
    {
     "name": "stdout",
     "output_type": "stream",
     "text": [
      "a2b1c5a3\n"
     ]
    }
   ],
   "source": [
    "# Bonus: Using Itertools to Do This: Case Sensitive\n",
    "import itertools\n",
    "\n",
    "def compressor(string):\n",
    "    output = ''\n",
    "    for k, g in itertools.groupby(string):\n",
    "        output += k + str(len(list(g)))\n",
    "    if len(output) > len(string):\n",
    "        print(string)\n",
    "    else:\n",
    "        print(output)\n",
    "        \n",
    "compressor('aabcccccaaa')"
   ]
  }
 ],
 "metadata": {
  "anaconda-cloud": {},
  "kernelspec": {
   "display_name": "Python 3",
   "language": "python",
   "name": "python3"
  },
  "language_info": {
   "codemirror_mode": {
    "name": "ipython",
    "version": 3
   },
   "file_extension": ".py",
   "mimetype": "text/x-python",
   "name": "python",
   "nbconvert_exporter": "python",
   "pygments_lexer": "ipython3",
   "version": "3.6.5"
  }
 },
 "nbformat": 4,
 "nbformat_minor": 2
}
