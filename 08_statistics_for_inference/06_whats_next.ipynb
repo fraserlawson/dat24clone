{
 "cells": [
  {
   "cell_type": "markdown",
   "metadata": {},
   "source": [
    "### What next?\n",
    "\n",
    "\n",
    "- Next session: Lightning Talks! \n",
    "- Also: catch-up session for tonight & Unit 2 topics.\n",
    "- Face to face office hours (me, Monday), Slack Office Hours (me: tomorrow, Jasmine: Friday).\n",
    "- UP2 due ahead of class on Monday.\n",
    "- Fill in Exit Tickets"
   ]
  }
 ],
 "metadata": {
  "kernelspec": {
   "display_name": "Python 3",
   "language": "python",
   "name": "python3"
  },
  "language_info": {
   "codemirror_mode": {
    "name": "ipython",
    "version": 3
   },
   "file_extension": ".py",
   "mimetype": "text/x-python",
   "name": "python",
   "nbconvert_exporter": "python",
   "pygments_lexer": "ipython3",
   "version": "3.6.5"
  }
 },
 "nbformat": 4,
 "nbformat_minor": 2
}
