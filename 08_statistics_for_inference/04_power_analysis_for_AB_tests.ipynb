{
 "cells": [
  {
   "cell_type": "markdown",
   "metadata": {},
   "source": [
    "<img src=\"http://imgur.com/1ZcRyrc.png\" style=\"float: left; margin: 20px; height: 55px\">\n",
    "\n",
    "# Statistical Testing: Calculating sample sizes for A/B testing\n",
    "\n",
    "---\n",
    "\n"
   ]
  },
  {
   "cell_type": "markdown",
   "metadata": {},
   "source": [
    "Before running an A/B test to compare Facebook sign ups for our game, it is a good idea to determine how many users will be needed to evaluate which sign up form performs best. \n",
    "\n",
    "\n",
    "\n",
    "### Calculating necessary sample sizes given\n",
    "    - null hypothesis\n",
    "    - expected effect size\n",
    "    - false positive rate\n",
    "    - false negative rate.\n",
    "    \n",
    "First, we'll import the usual Python modules:"
   ]
  },
  {
   "cell_type": "code",
   "execution_count": 1,
   "metadata": {},
   "outputs": [],
   "source": [
    "import numpy as np\n",
    "import scipy.stats"
   ]
  },
  {
   "cell_type": "markdown",
   "metadata": {},
   "source": [
    "Imagine we have a click through rate of 5% with the original design. Call this p_a for probability(A). \n",
    "\n",
    "Suppose in addition that we decide that the click through rate must increase to at least 7% to make changing the design worthwhile. Call this p_b. \n",
    "\n",
    "Finally, we'll calculate the average click through rate, p, assuming that our sample sizes will be equal."
   ]
  },
  {
   "cell_type": "code",
   "execution_count": 2,
   "metadata": {},
   "outputs": [],
   "source": [
    "p_a = .05 # assume we have a base click rate of 5% for our original design (A group)\n",
    "p_b = .07 # we want to detect an increase in click rate to 7%, otherwise not worth changing the design\n",
    "\n",
    "p = (p_a + p_b)/2."
   ]
  },
  {
   "cell_type": "markdown",
   "metadata": {},
   "source": [
    "In addition to these two values, we'll need to decide on false positive and false negative rates. \n",
    "\n",
    "We can use these to look up values from the Normal distribution (results are labeled Z below). Here we chose 5% false positive rate (also called Type I error rate) and 80% power, equivalent to a 20% false negative rate (or Type II error rate). \n",
    "\n",
    "These rates are fairly standard, but completely arbitrary. \n",
    "\n",
    "These choices mean that we expect to falsely say that B is an improvement 5% of the time when actually it is no better than A, and we expect to falsely say B is *not* and improvement 20% of the time when actually it is better than A."
   ]
  },
  {
   "cell_type": "code",
   "execution_count": 3,
   "metadata": {},
   "outputs": [
    {
     "name": "stdout",
     "output_type": "stream",
     "text": [
      "You need 1743.0 samples in each group to get a 5% false positive and 20% false negative rate given effect size\n"
     ]
    }
   ],
   "source": [
    "Z8 = scipy.stats.norm.ppf(.8) # we will need this to ensure 80% power (20% false negative rate)\n",
    "Z95 = scipy.stats.norm.ppf(1 - .05) # we will need this for 5% false positive rate (95% confidence level), one-tailed\n",
    "Z975 = scipy.stats.norm.ppf(1 - .025) # 5% false positive rate for two-tailed case\n",
    "\n",
    "ES = abs(p_b - p_a)/np.sqrt(p*(1-p))\n",
    "\n",
    "num_tails = 1 # presumably we are testing design b because we think it will improve the click rate...\n",
    "\n",
    "if num_tails == 2:\n",
    "    n = 2*((Z975 + Z8)/ES)**2  # two-tailed\n",
    "else:\n",
    "    n = 2*((Z95 + Z8)/ES)**2 # one-tailed\n",
    "\n",
    "print('You need', round(n), 'samples in each group to get a 5% false positive and 20% false negative rate given effect size')"
   ]
  },
  {
   "cell_type": "markdown",
   "metadata": {},
   "source": [
    "That's it! We have the sample sizes necessary given our requirements. In this case, we need about 1743 people to experience the A design and 1743 people to experience the B design.\n"
   ]
  }
 ],
 "metadata": {
  "kernelspec": {
   "display_name": "Python 3",
   "language": "python",
   "name": "python3"
  },
  "language_info": {
   "codemirror_mode": {
    "name": "ipython",
    "version": 3
   },
   "file_extension": ".py",
   "mimetype": "text/x-python",
   "name": "python",
   "nbconvert_exporter": "python",
   "pygments_lexer": "ipython3",
   "version": "3.6.5"
  }
 },
 "nbformat": 4,
 "nbformat_minor": 1
}
