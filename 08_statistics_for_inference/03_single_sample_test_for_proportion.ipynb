{
 "cells": [
  {
   "cell_type": "markdown",
   "metadata": {},
   "source": [
    "<img src=\"http://imgur.com/1ZcRyrc.png\" style=\"float: left; margin: 20px; height: 55px\">\n",
    "\n",
    "# Statistical Testing: Single Sample Tests For Proportion\n",
    "\n",
    "---\n"
   ]
  },
  {
   "cell_type": "markdown",
   "metadata": {},
   "source": [
    "Day 2 after our game launch: The project manager is worried that we would not hit a 30% day-one retention rate for users.\n",
    "\n",
    "Let's look at the stats for the game, and see if they're right.\n",
    "\n",
    "First, let's load the required libraries."
   ]
  },
  {
   "cell_type": "code",
   "execution_count": 1,
   "metadata": {},
   "outputs": [],
   "source": [
    "import numpy as np\n",
    "import pandas as pd\n",
    "import seaborn as sns\n",
    "from pylab import *\n",
    "from IPython.display import Image\n",
    "\n",
    "import scipy.stats as stats\n",
    "import statsmodels.stats.weightstats as wstats\n",
    "from collections import OrderedDict\n",
    "\n",
    "from __future__ import print_function # compatibility with both Python 2.7 and 3+\n",
    "from __future__ import division\n",
    "%matplotlib inline"
   ]
  },
  {
   "cell_type": "markdown",
   "metadata": {},
   "source": [
    "And let's generate some fake data for installs & retention."
   ]
  },
  {
   "cell_type": "code",
   "execution_count": 2,
   "metadata": {},
   "outputs": [
    {
     "name": "stdout",
     "output_type": "stream",
     "text": [
      " installs = 448 \n",
      " returned on the next day = 123 \n",
      " 1-day retention = 27.46% \n",
      " target >= 30%\n"
     ]
    }
   ],
   "source": [
    "# Imaginary data for our imaginary game company\n",
    "installs = 448\n",
    "returned = 123\n",
    "p = returned/installs\n",
    "print(' installs = {} \\n returned on the next day = {} \\n 1-day retention = {:.2f}% \\n target >= 30%'\n",
    "      .format(installs, returned, 100*p))\n"
   ]
  },
  {
   "cell_type": "markdown",
   "metadata": {},
   "source": [
    "And plot the data."
   ]
  },
  {
   "cell_type": "code",
   "execution_count": 3,
   "metadata": {},
   "outputs": [
    {
     "data": {
      "image/png": "[encoded data removed]",
      "text/plain": [
       "<Figure size 576x288 with 1 Axes>"
      ]
     },
     "metadata": {},
     "output_type": "display_data"
    }
   ],
   "source": [
    "fig, ax = plt.subplots(figsize=(8,4))\n",
    "bar([1],[p], align='center', width=.8)\n",
    "plot([0,100],[.3,.3],'--',color='0.3')\n",
    "\n",
    "xticks(range(1,10))\n",
    "xlim(0,5)\n",
    "ylim(0,.40)\n",
    "ax.set_xticklabels(['%d Apr'%d for d in range(6,10)])\n",
    "ax.yaxis.set_major_formatter(FuncFormatter(lambda x, pos=0: '%0.0f%%'%(100.0*x)))\n",
    "title('Day-1 Retention Rate', fontdict={'size':16})\n",
    "ax.text(1, p*.95, '%0.2f%%'%(100*p),ha='center', va='top', fontdict={'size':15,'weight':'bold','color':(0.9,.9,.9)})\n",
    "pass\n",
    "# fig.savefig('02.01 day-1 retention.png', bbox_inches='tight', pad_inches=0.2 ,dpi=200)"
   ]
  },
  {
   "cell_type": "markdown",
   "metadata": {},
   "source": [
    "Because we're testing for *proportion* for a single sample, we will use z-test for proportion. "
   ]
  },
  {
   "cell_type": "markdown",
   "metadata": {},
   "source": [
    "<img src=\"assets/images/testing_2.png\" style=\"width:100%\" />"
   ]
  },
  {
   "cell_type": "markdown",
   "metadata": {},
   "source": [
    "#### *One sample z-test for Proportion*"
   ]
  },
  {
   "cell_type": "markdown",
   "metadata": {},
   "source": [
    "### $z = \\frac{\\hat{p}-p}{\\sqrt{\\frac{p (1-p)}{n}}}$\n",
    "where\n",
    "\n",
    "$\\hat{p}$ = sample proportion\n",
    "\n",
    "$p$ = population proportion\n",
    "\n",
    "$n$ = sample size\n",
    "\n",
    "\n",
    "\n"
   ]
  },
  {
   "cell_type": "markdown",
   "metadata": {},
   "source": [
    "So, our null hypothesis is:\n",
    "    \n",
    "    retention rate is >= 30%\n",
    "    \n",
    "Alternate hypthesis is:\n",
    "\n",
    "    retention rate is < 30%\n",
    "    \n",
    "and $\\alpha = 0.05$"
   ]
  },
  {
   "cell_type": "code",
   "execution_count": 4,
   "metadata": {},
   "outputs": [
    {
     "name": "stdout",
     "output_type": "stream",
     "text": [
      " z-stat = -1.175320190850308 \n",
      " p-value = 0.11993331980861971\n"
     ]
    }
   ],
   "source": [
    "# using statsmodels\n",
    "from statsmodels.stats.proportion import proportions_ztest\n",
    "z,p = proportions_ztest(returned, installs, value=.3, alternative='smaller', prop_var=.3)\n",
    "print(' z-stat = {z} \\n p-value = {p}'.format(z=z,p=p))"
   ]
  },
  {
   "cell_type": "markdown",
   "metadata": {},
   "source": [
    "We fail to reject the null hypothesis."
   ]
  },
  {
   "cell_type": "markdown",
   "metadata": {},
   "source": [
    "#### Confidence Interval"
   ]
  },
  {
   "cell_type": "markdown",
   "metadata": {},
   "source": [
    "Finally, let's calculate the 95% confidence interval for the retention rate."
   ]
  },
  {
   "cell_type": "markdown",
   "metadata": {},
   "source": [
    "#### $CI = \\hat{p} ± z_{critical} \\cdot \\sqrt{\\frac{\\hat{p}(1-\\hat{p})}{n}} $ \n",
    "\n",
    "where\n",
    "\n",
    "$\\hat{p}$ = sample proportion\n",
    "\n",
    "$p$ = population proportion\n",
    "\n",
    "$n$ = sample size\n",
    "\n"
   ]
  },
  {
   "cell_type": "code",
   "execution_count": 5,
   "metadata": {},
   "outputs": [
    {
     "name": "stdout",
     "output_type": "stream",
     "text": [
      " 95% Confidence Interval = ( 23.32% , 31.59% )\n"
     ]
    }
   ],
   "source": [
    "from statsmodels.stats.proportion import proportion_confint \n",
    "ci_low, ci_upp = proportion_confint(returned, installs)\n",
    "print(' 95% Confidence Interval = ( {0:.2f}% , {1:.2f}% )'.format(100*ci_low, 100*ci_upp))"
   ]
  },
  {
   "cell_type": "markdown",
   "metadata": {},
   "source": [
    "**So, our 95% Confidence Interval for the retention rate is [23.32% , 31.59%]**"
   ]
  }
 ],
 "metadata": {
  "kernelspec": {
   "display_name": "Python 3",
   "language": "python",
   "name": "python3"
  },
  "language_info": {
   "codemirror_mode": {
    "name": "ipython",
    "version": 3
   },
   "file_extension": ".py",
   "mimetype": "text/x-python",
   "name": "python",
   "nbconvert_exporter": "python",
   "pygments_lexer": "ipython3",
   "version": "3.6.5"
  }
 },
 "nbformat": 4,
 "nbformat_minor": 1
}
